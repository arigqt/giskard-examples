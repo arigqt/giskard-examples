{
 "cells": [
  {
   "cell_type": "markdown",
   "metadata": {},
   "source": [
    "## Installing `giskard`"
   ]
  },
  {
   "cell_type": "code",
   "execution_count": 2,
   "metadata": {},
   "outputs": [],
   "source": [
    "#!pip install giskard"
   ]
  },
  {
   "cell_type": "markdown",
   "metadata": {},
   "source": [
    "## Connect the external worker in daemon mode"
   ]
  },
  {
   "cell_type": "code",
   "execution_count": 3,
   "metadata": {},
   "outputs": [],
   "source": [
    "#!giskard worker start -d"
   ]
  },
  {
   "cell_type": "markdown",
   "metadata": {
    "cell_id": "f35c8e8d3fbf4c0f9c01a69673c318a1",
    "deepnote_app_coordinates": {
     "h": 5,
     "w": 12,
     "x": 0,
     "y": 6
    },
    "deepnote_cell_height": 110,
    "deepnote_cell_type": "markdown",
    "id": "mJTqM-W_7xbW",
    "owner_user_id": "41ec0844-b5b7-49c2-9460-710a452f98de",
    "pycharm": {
     "name": "#%% md\n"
    },
    "tags": []
   },
   "source": [
    "# Start by creating an ML model 🚀🚀🚀"
   ]
  },
  {
   "cell_type": "markdown",
   "metadata": {
    "cell_id": "e8d609f32d5243dd917cc3104599b8d8",
    "deepnote_app_coordinates": {
     "h": 5,
     "w": 12,
     "x": 0,
     "y": 12
    },
    "deepnote_cell_height": 230,
    "deepnote_cell_type": "markdown",
    "id": "WNI85koE7xbX",
    "pycharm": {
     "name": "#%% md\n"
    },
    "tags": []
   },
   "source": [
    "Let's create a credit scoring Model using the German Credit scoring dataset [(Link](https://github.com/Giskard-AI/giskard-client/tree/main/sample_data/classification) to download the dataset)"
   ]
  },
  {
   "cell_type": "code",
   "execution_count": 44,
   "metadata": {
    "cell_id": "1d7f5390-3fb1-47b9-8488-7a55e5b465f9",
    "deepnote_app_coordinates": {
     "h": 5,
     "w": 12,
     "x": 0,
     "y": 18
    },
    "deepnote_cell_height": 315,
    "deepnote_cell_type": "code",
    "deepnote_to_be_reexecuted": false,
    "execution_millis": 798,
    "execution_start": 1652125164139,
    "id": "xEfe0KIo7xbX",
    "pycharm": {
     "name": "#%%\n"
    },
    "source_hash": "e81d6069",
    "tags": []
   },
   "outputs": [],
   "source": [
    "import pandas as pd\n",
    "import matplotlib.pyplot as plt\n",
    "import numpy as np\n",
    "\n",
    "from sklearn import model_selection\n",
    "from sklearn import preprocessing\n",
    "import torch\n",
    "import torch.nn as nn\n",
    "import torch.nn.functional as F\n",
    "from torch import nn, optim\n",
    "from torch.autograd import Variable\n",
    "from sklearn.preprocessing import StandardScaler\n",
    "from sklearn.preprocessing import OneHotEncoder\n",
    "from sklearn.linear_model import LogisticRegression\n",
    "from sklearn.model_selection import train_test_split\n",
    "from sklearn.dummy import DummyClassifier\n",
    "from sklearn.ensemble import RandomForestClassifier\n",
    "from sklearn.pipeline import Pipeline\n",
    "from sklearn.impute import SimpleImputer\n",
    "from sklearn.compose import ColumnTransformer\n",
    "from sklearn.metrics import roc_auc_score, roc_curve, plot_roc_curve, \\\n",
    "    RocCurveDisplay, accuracy_score\n",
    "from imblearn.combine import SMOTEENN\n",
    "from imblearn.over_sampling import SMOTE, SMOTENC\n"
   ]
  },
  {
   "cell_type": "code",
   "execution_count": 45,
   "metadata": {
    "pycharm": {
     "name": "#%%\n"
    }
   },
   "outputs": [],
   "source": [
    "# To download and read the credit scoring dataset\n",
    "url = 'https://raw.githubusercontent.com/Giskard-AI/examples/main/datasets/credit_scoring_classification_model_dataset/german_credit_prepared.csv'\n",
    "credit = pd.read_csv(url, sep=',',engine=\"python\") #To download go to https://github.com/Giskard-AI/giskard-client/tree/main/sample_data/classification"
   ]
  },
  {
   "cell_type": "code",
   "execution_count": 46,
   "metadata": {
    "pycharm": {
     "name": "#%%\n"
    }
   },
   "outputs": [],
   "source": [
    "# Declare the type of each column in the dataset(example: category, numeric, text)\n",
    "column_types = {'default':\"category\",\n",
    "               'account_check_status':\"category\", \n",
    "               'duration_in_month':\"numeric\",\n",
    "               'credit_history':\"category\",\n",
    "               'purpose':\"category\",\n",
    "               'credit_amount':\"numeric\",\n",
    "               'savings':\"category\",\n",
    "               'present_employment_since':\"category\",\n",
    "               'installment_as_income_perc':\"numeric\",\n",
    "               'sex':\"category\",\n",
    "               'personal_status':\"category\",\n",
    "               'other_debtors':\"category\",\n",
    "               'present_residence_since':\"numeric\",\n",
    "               'property':\"category\",\n",
    "               'age':\"numeric\",\n",
    "               'other_installment_plans':\"category\",\n",
    "               'housing':\"category\",\n",
    "               'credits_this_bank':\"numeric\",\n",
    "               'job':\"category\",\n",
    "               'people_under_maintenance':\"numeric\",\n",
    "               'telephone':\"category\",\n",
    "               'foreign_worker':\"category\"}"
   ]
  },
  {
   "cell_type": "code",
   "execution_count": 47,
   "metadata": {
    "pycharm": {
     "name": "#%%\n"
    }
   },
   "outputs": [],
   "source": [
    "# feature_types is used to declare the features the model is trained on\n",
    "feature_types = {i: column_types[i] for i in column_types if i != 'default'}\n",
    "\n",
    "# Pipeline to fill missing values, transform and scale the numeric columns\n",
    "columns_to_scale = [key for key in feature_types.keys()\n",
    "                    if feature_types[key] == \"numeric\"]\n",
    "numeric_transformer = Pipeline([('imputer', SimpleImputer(strategy='median')),\n",
    "                                ('scaler', StandardScaler())])\n",
    "\n",
    "# Pipeline to fill missing values and one hot encode the categorical values\n",
    "columns_to_encode = [\n",
    "    key for key in feature_types.keys() if feature_types[key] == \"category\"]\n",
    "categorical_transformer = Pipeline([\n",
    "    ('imputer', SimpleImputer(strategy='constant', fill_value='missing')),\n",
    "    ('onehot', OneHotEncoder(handle_unknown='ignore', sparse=False))])\n",
    "\n",
    "# Perform preprocessing of the columns with the above pipelines\n",
    "preprocessor = ColumnTransformer(\n",
    "    transformers=[\n",
    "        ('num', numeric_transformer, columns_to_scale),\n",
    "        ('cat', categorical_transformer, columns_to_encode)\n",
    "    ]\n",
    ")\n",
    "\n",
    "# Pipeline for the model Logistic Regression\n",
    "clf_logistic_regression = Pipeline(\n",
    "    steps=[('preprocessor', preprocessor),\n",
    "           ('classifier', LogisticRegression(max_iter=1000))])\n",
    "\n",
    "dummy_pipeline = Pipeline(steps=[('preprocessor', preprocessor),\n",
    "                                 ('classifier', DummyClassifier())])\n",
    "\n",
    "# Split the data into train and test\n",
    "y = credit['default']\n",
    "X = credit.drop(columns='default')\n",
    "X_train, X_test, y_train, y_test = model_selection.train_test_split(\n",
    "    X, y, test_size=0.20, random_state=30, stratify=y)"
   ]
  },
  {
   "cell_type": "code",
   "execution_count": 9,
   "metadata": {
    "pycharm": {
     "name": "#%%\n"
    }
   },
   "outputs": [
    {
     "name": "stdout",
     "output_type": "stream",
     "text": [
      "Dummy's classifier accuracy is : 0.7\n",
      "LogisticRegression's accuracy is : 0.755\n"
     ]
    }
   ],
   "source": [
    "clf_logistic_regression.fit(X_train, y_train)\n",
    "dummy_pipeline.fit(X_train, y_train)\n",
    "\n",
    "y_pred_test_log = clf_logistic_regression.predict(X_test)\n",
    "y_pred_test_dum = dummy_pipeline.predict(X_test)\n",
    "\n",
    "print(f\"Dummy's classifier accuracy is : \\\n",
    "{format(accuracy_score(y_test, y_pred_test_dum))}\\\n",
    "\\nLogisticRegression's accuracy is : \\\n",
    "{format(accuracy_score(y_test, y_pred_test_log))}\")"
   ]
  },
  {
   "cell_type": "code",
   "execution_count": 10,
   "metadata": {},
   "outputs": [
    {
     "data": {
      "text/plain": [
       "<matplotlib.legend.Legend at 0x1da84242f10>"
      ]
     },
     "execution_count": 10,
     "metadata": {},
     "output_type": "execute_result"
    },
    {
     "data": {
      "image/png": "[encoded data removed]",
      "text/plain": [
       "<Figure size 640x480 with 1 Axes>"
      ]
     },
     "metadata": {},
     "output_type": "display_data"
    }
   ],
   "source": [
    "y_proba_log = clf_logistic_regression.predict_proba(X_test)[:, 1]\n",
    "y_proba_dum = dummy_pipeline.predict_proba(X_test)[:, 1]\n",
    "\n",
    "fpr, tpr, _ = roc_curve(y_test, y_proba_dum, pos_label='Not default')\n",
    "auc = roc_auc_score(y_test, y_proba_dum)\n",
    "plt.plot(fpr, tpr, label=\"Dummy classifier, auc=\"+str(auc, ))\n",
    "\n",
    "fpr, tpr, _ = roc_curve(y_test, y_proba_log, pos_label='Not default')\n",
    "auc = roc_auc_score(y_test, y_proba_log)\n",
    "plt.plot(fpr, tpr, label=\"Logistic Regresion, auc=\"+str(auc))\n",
    "\n",
    "plt.legend()\n"
   ]
  },
  {
   "cell_type": "code",
   "execution_count": 11,
   "metadata": {
    "pycharm": {
     "name": "#%%\n"
    }
   },
   "outputs": [],
   "source": [
    "# Prepare data to upload on Giskard\n",
    "train_data = pd.concat([X_train, y_train], axis=1)\n",
    "test_data = pd.concat([X_test, y_test ], axis=1)"
   ]
  },
  {
   "cell_type": "markdown",
   "metadata": {
    "pycharm": {
     "name": "#%% md\n"
    }
   },
   "source": [
    "# Upload the model in Giskard 🚀🚀🚀"
   ]
  },
  {
   "cell_type": "markdown",
   "metadata": {
    "pycharm": {
     "name": "#%% md\n"
    }
   },
   "source": [
    "### Initiate a project"
   ]
  },
  {
   "cell_type": "code",
   "execution_count": 108,
   "metadata": {
    "pycharm": {
     "name": "#%%\n"
    }
   },
   "outputs": [],
   "source": [
    "# from giskard import GiskardClient\n",
    "\n",
    "# url = \"http://localhost:19000\" \n",
    "# # if Giskard is installed locally (for installation, see: https://docs.giskard.ai/start/guides/installation)\n",
    "\n",
    "# # url = \"http://app.giskard.ai\" #\n",
    "# # If you want to upload on giskard URL\n",
    "# token = \"YOUR GENERATED TOKEN\" # you can generate your API token in the Admin tab of the Giskard application (for installation, see: https://docs.giskard.ai/start/guides/installation)\n",
    "\n",
    "# client = GiskardClient(url, token)\n",
    "\n",
    "# # your_project = client.create_project(\"project_key\", \"PROJECT_NAME\", \"DESCRIPTION\")\n",
    "# # Choose the arguments you want. But \"project_key\" should be unique and in lower case\n",
    "# credit_scoring = client.create_project(\"credit_scoring\", \"German Credit Scoring\", \"Project to predict if user will default\")\n",
    "\n",
    "# # If you've already created a project with the key \"credit-scoring\" use\n",
    "# #credit_scoring = client.get_project(\"credit_scoring\")\n"
   ]
  },
  {
   "cell_type": "markdown",
   "metadata": {
    "pycharm": {
     "name": "#%% md\n"
    }
   },
   "source": [
    "### Upload your model and a dataset (see [documentation](https://docs.giskard.ai/start/guides/upload-your-model))"
   ]
  },
  {
   "cell_type": "code",
   "execution_count": null,
   "metadata": {
    "pycharm": {
     "name": "#%%\n"
    }
   },
   "outputs": [],
   "source": [
    "credit_scoring.upload_model_and_df(\n",
    "    prediction_function=clf_logistic_regression.predict_proba, # Python function which takes pandas dataframe as input and returns probabilities for classification model OR returns predictions for regression model\n",
    "    model_type='classification', # \"classification\" for classification model OR \"regression\" for regression model\n",
    "    df=test_data, # the dataset you want to use to inspect your model\n",
    "    column_types=column_types, # A dictionary with columns names of df as key and types(category, numeric, text) of columns as values\n",
    "    target='default', # The column name in df corresponding to the actual target variable (ground truth).\n",
    "    feature_names=list(feature_types.keys()), # List of the feature names of prediction_function\n",
    "    classification_labels=clf_logistic_regression.classes_ ,  # List of the classification labels of your prediction\n",
    "    model_name='logistic_regression_v1', # Name of the model\n",
    "    dataset_name='test_data' # Name of the dataset\n",
    ")"
   ]
  },
  {
   "cell_type": "markdown",
   "metadata": {
    "pycharm": {
     "name": "#%% md\n"
    }
   },
   "source": [
    "### 🌟 If you want to upload a dataset without a model\n",
    "\n",
    "\n",
    "\n",
    "\n"
   ]
  },
  {
   "cell_type": "markdown",
   "metadata": {
    "pycharm": {
     "name": "#%% md\n"
    }
   },
   "source": [
    "For example, let's upload the train set in Giskard, this is key to create drift tests in Giskard.\n"
   ]
  },
  {
   "cell_type": "code",
   "execution_count": null,
   "metadata": {
    "pycharm": {
     "name": "#%%\n"
    }
   },
   "outputs": [],
   "source": [
    "credit_scoring.upload_df(\n",
    "    df=train_data, # The dataset you want to upload\n",
    "    column_types=column_types, # All the column types of df\n",
    "    target=\"default\", # Do not pass this parameter if dataset doesn't contain target column\n",
    "    name=\"train_data\" # Name of the dataset\n",
    ")"
   ]
  },
  {
   "cell_type": "markdown",
   "metadata": {
    "pycharm": {
     "name": "#%% md\n"
    }
   },
   "source": [
    "You can also upload new production data to use it as a validation set for your existing model. In that case, you might not have the ground truth target variable"
   ]
  },
  {
   "cell_type": "code",
   "execution_count": null,
   "metadata": {
    "pycharm": {
     "name": "#%%\n"
    }
   },
   "outputs": [],
   "source": [
    "production_data = credit.drop(columns=\"default\")"
   ]
  },
  {
   "cell_type": "code",
   "execution_count": null,
   "metadata": {
    "pycharm": {
     "name": "#%%\n"
    }
   },
   "outputs": [],
   "source": [
    "credit_scoring.upload_df(\n",
    "    df=production_data, # The dataset you want to upload\n",
    "    column_types=feature_types, # All the column types without the target\n",
    "    name=\"production_data\"# Name of the dataset\n",
    ")"
   ]
  },
  {
   "cell_type": "markdown",
   "metadata": {
    "pycharm": {
     "name": "#%% md\n"
    }
   },
   "source": [
    "### 🌟 If you just want to upload a model without a dataframe \n",
    "\n",
    "This happens for instance when you built a new version of the model and you want to inspect it using a validation dataframe that is already in Giskard\n",
    "\n",
    "For example, let's create a second version of the model using random forest"
   ]
  },
  {
   "cell_type": "code",
   "execution_count": null,
   "metadata": {
    "pycharm": {
     "name": "#%%\n"
    }
   },
   "outputs": [],
   "source": [
    "clf_random_forest = Pipeline(steps=[('preprocessor', preprocessor),\n",
    "                      ('classifier', RandomForestClassifier(max_depth=10,random_state=0))])\n",
    "\n",
    "clf_random_forest.fit(X_train, y_train)\n",
    "clf_random_forest.score(X_test, y_test)"
   ]
  },
  {
   "cell_type": "code",
   "execution_count": null,
   "metadata": {
    "pycharm": {
     "name": "#%%\n"
    }
   },
   "outputs": [],
   "source": [
    "credit_scoring.upload_model(\n",
    "    prediction_function=clf_random_forest.predict_proba, # Python function which takes pandas dataframe as input and returns probabilities for classification model OR returns predictions for regression model\n",
    "    model_type='classification', # \"classification\" for classification model OR \"regression\" for regression model\n",
    "    feature_names=list(feature_types.keys()), # List of the feature names of prediction_function\n",
    "    name='random_forest', # Name of the model\n",
    "    validate_df=train_data, # Optional. Validation df is not uploaded in the app, it's only used to check whether the model has the good format\n",
    "    target=\"default\", # Optional. target should be a column of validate_df. Pass this parameter only if validate_df is being passed\n",
    "    classification_labels=[\"Default\",\"Not default\"] # List of the classification labels of your prediction\n",
    "\n",
    ")"
   ]
  },
  {
   "attachments": {},
   "cell_type": "markdown",
   "metadata": {
    "cell_id": "c49894d61f544e8f88030b7be8078c6b",
    "deepnote_app_coordinates": {
     "h": 5,
     "w": 12,
     "x": 0,
     "y": 96
    },
    "deepnote_cell_height": 62,
    "deepnote_cell_type": "markdown",
    "id": "DGQ50rUN7xbe",
    "pycharm": {
     "name": "#%% md\n"
    },
    "tags": []
   },
   "source": [
    "# Happy Exploration ! 🧑‍🚀"
   ]
  },
  {
   "cell_type": "code",
   "execution_count": 24,
   "metadata": {},
   "outputs": [
    {
     "data": {
      "image/png": "[encoded data removed]",
      "text/plain": [
       "<Figure size 640x480 with 1 Axes>"
      ]
     },
     "metadata": {},
     "output_type": "display_data"
    }
   ],
   "source": [
    "credit.default.value_counts().plot(kind='bar')\n",
    "plt.show()"
   ]
  },
  {
   "attachments": {},
   "cell_type": "markdown",
   "metadata": {},
   "source": [
    "The dataset is quite imbalanced. We will try to strengthen it by 2 different methods.  \n",
    "## Undersampling"
   ]
  },
  {
   "cell_type": "code",
   "execution_count": 20,
   "metadata": {},
   "outputs": [
    {
     "data": {
      "text/plain": [
       "<AxesSubplot:>"
      ]
     },
     "execution_count": 20,
     "metadata": {},
     "output_type": "execute_result"
    },
    {
     "data": {
      "image/png": "[encoded data removed]",
      "text/plain": [
       "<Figure size 640x480 with 1 Axes>"
      ]
     },
     "metadata": {},
     "output_type": "display_data"
    }
   ],
   "source": [
    "from imblearn.under_sampling import RandomUnderSampler\n",
    "undersample = RandomUnderSampler(sampling_strategy=0.8)\n",
    "X_under, Y_under = undersample.fit_resample(X, y)\n",
    "Y_under.value_counts().plot(kind='bar')"
   ]
  },
  {
   "attachments": {},
   "cell_type": "markdown",
   "metadata": {},
   "source": [
    "## Oversampling"
   ]
  },
  {
   "cell_type": "code",
   "execution_count": 26,
   "metadata": {},
   "outputs": [
    {
     "data": {
      "text/plain": [
       "<AxesSubplot:>"
      ]
     },
     "execution_count": 26,
     "metadata": {},
     "output_type": "execute_result"
    },
    {
     "data": {
      "image/png": "[encoded data removed]",
      "text/plain": [
       "<Figure size 640x480 with 1 Axes>"
      ]
     },
     "metadata": {},
     "output_type": "display_data"
    }
   ],
   "source": [
    "indices = X.columns.get_indexer(columns_to_encode)\n",
    "oversample = SMOTENC(categorical_features=indices)\n",
    "X_over, y_over = oversample.fit_resample(X, y)\n",
    "y_over.value_counts().plot(kind='bar')"
   ]
  },
  {
   "cell_type": "code",
   "execution_count": 27,
   "metadata": {},
   "outputs": [
    {
     "name": "stdout",
     "output_type": "stream",
     "text": [
      "Dummy's classifier accuracy is : 0.7892857142857143\n"
     ]
    }
   ],
   "source": [
    "X_train, X_test, y_train, y_test = model_selection.train_test_split(\n",
    "    X_over, y_over, test_size=0.20, random_state=30, stratify=y_over)\n",
    "\n",
    "clf_logistic_regression.fit(X_train, y_train)\n",
    "y_pred_test_over = clf_logistic_regression.predict(X_test)\n",
    "\n",
    "print(f\"Dummy's classifier accuracy is : \\\n",
    "{format(accuracy_score(y_test, y_pred_test_over))}\")\n"
   ]
  },
  {
   "attachments": {},
   "cell_type": "markdown",
   "metadata": {},
   "source": [
    "## Variational autoencoder for Tabular Data"
   ]
  },
  {
   "cell_type": "code",
   "execution_count": 68,
   "metadata": {},
   "outputs": [],
   "source": [
    "DATA_PATH = 'data/wine.csv'\n",
    "\n",
    "def load_and_standardize_data(path):\n",
    "    # read in from csv\n",
    "    df = pd.read_csv(path, sep=',')\n",
    "    # # replace nan with -99\n",
    "    df = df.fillna(-99)\n",
    "    df = df.values.reshape(-1, df.shape[1]).astype('float32')\n",
    "    # randomly split\n",
    "    df = credit\n",
    "    X_train, X_test = train_test_split(df, test_size=0.3, random_state=42)\n",
    "    # standardize values\n",
    "    scaler = preprocessing.StandardScaler()\n",
    "    X_train = scaler.fit_transform(X_train)\n",
    "    X_test = scaler.transform(X_test)   \n",
    "    return X_train, X_test, scaler\n",
    "\n",
    "from torch.utils.data import Dataset, DataLoader\n",
    "class DataBuilder(Dataset):\n",
    "    def __init__(self, path, train=True):\n",
    "        self.X_train, self.X_test, self.standardizer = load_and_standardize_data(DATA_PATH)\n",
    "        if train:\n",
    "            self.x = torch.from_numpy(self.X_train)\n",
    "            self.len=self.x.shape[0]\n",
    "        else:\n",
    "            self.x = torch.from_numpy(self.X_test)\n",
    "            self.len=self.x.shape[0]\n",
    "        del self.X_train\n",
    "        del self.X_test \n",
    "    def __getitem__(self,index):      \n",
    "        return self.x[index]\n",
    "    def __len__(self):\n",
    "        return self.len"
   ]
  },
  {
   "cell_type": "code",
   "execution_count": 69,
   "metadata": {},
   "outputs": [
    {
     "ename": "FileNotFoundError",
     "evalue": "[Errno 2] No such file or directory: 'data/wine.csv'",
     "output_type": "error",
     "traceback": [
      "\u001b[1;31m---------------------------------------------------------------------------\u001b[0m",
      "\u001b[1;31mFileNotFoundError\u001b[0m                         Traceback (most recent call last)",
      "\u001b[1;32m~\\AppData\\Local\\Temp\\ipykernel_28660\\3559203914.py\u001b[0m in \u001b[0;36m<cell line: 1>\u001b[1;34m()\u001b[0m\n\u001b[1;32m----> 1\u001b[1;33m \u001b[0mtraindata_set\u001b[0m\u001b[1;33m=\u001b[0m\u001b[0mDataBuilder\u001b[0m\u001b[1;33m(\u001b[0m\u001b[0mDATA_PATH\u001b[0m\u001b[1;33m,\u001b[0m \u001b[0mtrain\u001b[0m\u001b[1;33m=\u001b[0m\u001b[1;32mTrue\u001b[0m\u001b[1;33m)\u001b[0m\u001b[1;33m\u001b[0m\u001b[1;33m\u001b[0m\u001b[0m\n\u001b[0m\u001b[0;32m      2\u001b[0m \u001b[0mtestdata_set\u001b[0m\u001b[1;33m=\u001b[0m\u001b[0mDataBuilder\u001b[0m\u001b[1;33m(\u001b[0m\u001b[0mDATA_PATH\u001b[0m\u001b[1;33m,\u001b[0m \u001b[0mtrain\u001b[0m\u001b[1;33m=\u001b[0m\u001b[1;32mFalse\u001b[0m\u001b[1;33m)\u001b[0m\u001b[1;33m\u001b[0m\u001b[1;33m\u001b[0m\u001b[0m\n\u001b[0;32m      3\u001b[0m \u001b[1;33m\u001b[0m\u001b[0m\n\u001b[0;32m      4\u001b[0m \u001b[0mtrainloader\u001b[0m\u001b[1;33m=\u001b[0m\u001b[0mDataLoader\u001b[0m\u001b[1;33m(\u001b[0m\u001b[0mdataset\u001b[0m\u001b[1;33m=\u001b[0m\u001b[0mtraindata_set\u001b[0m\u001b[1;33m,\u001b[0m\u001b[0mbatch_size\u001b[0m\u001b[1;33m=\u001b[0m\u001b[1;36m1024\u001b[0m\u001b[1;33m)\u001b[0m\u001b[1;33m\u001b[0m\u001b[1;33m\u001b[0m\u001b[0m\n\u001b[0;32m      5\u001b[0m \u001b[0mtestloader\u001b[0m\u001b[1;33m=\u001b[0m\u001b[0mDataLoader\u001b[0m\u001b[1;33m(\u001b[0m\u001b[0mdataset\u001b[0m\u001b[1;33m=\u001b[0m\u001b[0mtestdata_set\u001b[0m\u001b[1;33m,\u001b[0m\u001b[0mbatch_size\u001b[0m\u001b[1;33m=\u001b[0m\u001b[1;36m1024\u001b[0m\u001b[1;33m)\u001b[0m\u001b[1;33m\u001b[0m\u001b[1;33m\u001b[0m\u001b[0m\n",
      "\u001b[1;32m~\\AppData\\Local\\Temp\\ipykernel_28660\\1948178783.py\u001b[0m in \u001b[0;36m__init__\u001b[1;34m(self, path, train)\u001b[0m\n\u001b[0;32m     19\u001b[0m \u001b[1;32mclass\u001b[0m \u001b[0mDataBuilder\u001b[0m\u001b[1;33m(\u001b[0m\u001b[0mDataset\u001b[0m\u001b[1;33m)\u001b[0m\u001b[1;33m:\u001b[0m\u001b[1;33m\u001b[0m\u001b[1;33m\u001b[0m\u001b[0m\n\u001b[0;32m     20\u001b[0m     \u001b[1;32mdef\u001b[0m \u001b[0m__init__\u001b[0m\u001b[1;33m(\u001b[0m\u001b[0mself\u001b[0m\u001b[1;33m,\u001b[0m \u001b[0mpath\u001b[0m\u001b[1;33m,\u001b[0m \u001b[0mtrain\u001b[0m\u001b[1;33m=\u001b[0m\u001b[1;32mTrue\u001b[0m\u001b[1;33m)\u001b[0m\u001b[1;33m:\u001b[0m\u001b[1;33m\u001b[0m\u001b[1;33m\u001b[0m\u001b[0m\n\u001b[1;32m---> 21\u001b[1;33m         \u001b[0mself\u001b[0m\u001b[1;33m.\u001b[0m\u001b[0mX_train\u001b[0m\u001b[1;33m,\u001b[0m \u001b[0mself\u001b[0m\u001b[1;33m.\u001b[0m\u001b[0mX_test\u001b[0m\u001b[1;33m,\u001b[0m \u001b[0mself\u001b[0m\u001b[1;33m.\u001b[0m\u001b[0mstandardizer\u001b[0m \u001b[1;33m=\u001b[0m \u001b[0mload_and_standardize_data\u001b[0m\u001b[1;33m(\u001b[0m\u001b[0mDATA_PATH\u001b[0m\u001b[1;33m)\u001b[0m\u001b[1;33m\u001b[0m\u001b[1;33m\u001b[0m\u001b[0m\n\u001b[0m\u001b[0;32m     22\u001b[0m         \u001b[1;32mif\u001b[0m \u001b[0mtrain\u001b[0m\u001b[1;33m:\u001b[0m\u001b[1;33m\u001b[0m\u001b[1;33m\u001b[0m\u001b[0m\n\u001b[0;32m     23\u001b[0m             \u001b[0mself\u001b[0m\u001b[1;33m.\u001b[0m\u001b[0mx\u001b[0m \u001b[1;33m=\u001b[0m \u001b[0mtorch\u001b[0m\u001b[1;33m.\u001b[0m\u001b[0mfrom_numpy\u001b[0m\u001b[1;33m(\u001b[0m\u001b[0mself\u001b[0m\u001b[1;33m.\u001b[0m\u001b[0mX_train\u001b[0m\u001b[1;33m)\u001b[0m\u001b[1;33m\u001b[0m\u001b[1;33m\u001b[0m\u001b[0m\n",
      "\u001b[1;32m~\\AppData\\Local\\Temp\\ipykernel_28660\\1948178783.py\u001b[0m in \u001b[0;36mload_and_standardize_data\u001b[1;34m(path)\u001b[0m\n\u001b[0;32m      3\u001b[0m \u001b[1;32mdef\u001b[0m \u001b[0mload_and_standardize_data\u001b[0m\u001b[1;33m(\u001b[0m\u001b[0mpath\u001b[0m\u001b[1;33m)\u001b[0m\u001b[1;33m:\u001b[0m\u001b[1;33m\u001b[0m\u001b[1;33m\u001b[0m\u001b[0m\n\u001b[0;32m      4\u001b[0m     \u001b[1;31m# read in from csv\u001b[0m\u001b[1;33m\u001b[0m\u001b[1;33m\u001b[0m\u001b[0m\n\u001b[1;32m----> 5\u001b[1;33m     \u001b[0mdf\u001b[0m \u001b[1;33m=\u001b[0m \u001b[0mpd\u001b[0m\u001b[1;33m.\u001b[0m\u001b[0mread_csv\u001b[0m\u001b[1;33m(\u001b[0m\u001b[0mpath\u001b[0m\u001b[1;33m,\u001b[0m \u001b[0msep\u001b[0m\u001b[1;33m=\u001b[0m\u001b[1;34m','\u001b[0m\u001b[1;33m)\u001b[0m\u001b[1;33m\u001b[0m\u001b[1;33m\u001b[0m\u001b[0m\n\u001b[0m\u001b[0;32m      6\u001b[0m     \u001b[1;31m# # replace nan with -99\u001b[0m\u001b[1;33m\u001b[0m\u001b[1;33m\u001b[0m\u001b[0m\n\u001b[0;32m      7\u001b[0m     \u001b[0mdf\u001b[0m \u001b[1;33m=\u001b[0m \u001b[0mdf\u001b[0m\u001b[1;33m.\u001b[0m\u001b[0mfillna\u001b[0m\u001b[1;33m(\u001b[0m\u001b[1;33m-\u001b[0m\u001b[1;36m99\u001b[0m\u001b[1;33m)\u001b[0m\u001b[1;33m\u001b[0m\u001b[1;33m\u001b[0m\u001b[0m\n",
      "\u001b[1;32mc:\\Users\\arist\\anaconda3\\lib\\site-packages\\pandas\\util\\_decorators.py\u001b[0m in \u001b[0;36mwrapper\u001b[1;34m(*args, **kwargs)\u001b[0m\n\u001b[0;32m    309\u001b[0m                     \u001b[0mstacklevel\u001b[0m\u001b[1;33m=\u001b[0m\u001b[0mstacklevel\u001b[0m\u001b[1;33m,\u001b[0m\u001b[1;33m\u001b[0m\u001b[1;33m\u001b[0m\u001b[0m\n\u001b[0;32m    310\u001b[0m                 )\n\u001b[1;32m--> 311\u001b[1;33m             \u001b[1;32mreturn\u001b[0m \u001b[0mfunc\u001b[0m\u001b[1;33m(\u001b[0m\u001b[1;33m*\u001b[0m\u001b[0margs\u001b[0m\u001b[1;33m,\u001b[0m \u001b[1;33m**\u001b[0m\u001b[0mkwargs\u001b[0m\u001b[1;33m)\u001b[0m\u001b[1;33m\u001b[0m\u001b[1;33m\u001b[0m\u001b[0m\n\u001b[0m\u001b[0;32m    312\u001b[0m \u001b[1;33m\u001b[0m\u001b[0m\n\u001b[0;32m    313\u001b[0m         \u001b[1;32mreturn\u001b[0m \u001b[0mwrapper\u001b[0m\u001b[1;33m\u001b[0m\u001b[1;33m\u001b[0m\u001b[0m\n",
      "\u001b[1;32mc:\\Users\\arist\\anaconda3\\lib\\site-packages\\pandas\\io\\parsers\\readers.py\u001b[0m in \u001b[0;36mread_csv\u001b[1;34m(filepath_or_buffer, sep, delimiter, header, names, index_col, usecols, squeeze, prefix, mangle_dupe_cols, dtype, engine, converters, true_values, false_values, skipinitialspace, skiprows, skipfooter, nrows, na_values, keep_default_na, na_filter, verbose, skip_blank_lines, parse_dates, infer_datetime_format, keep_date_col, date_parser, dayfirst, cache_dates, iterator, chunksize, compression, thousands, decimal, lineterminator, quotechar, quoting, doublequote, escapechar, comment, encoding, encoding_errors, dialect, error_bad_lines, warn_bad_lines, on_bad_lines, delim_whitespace, low_memory, memory_map, float_precision, storage_options)\u001b[0m\n\u001b[0;32m    676\u001b[0m     \u001b[0mkwds\u001b[0m\u001b[1;33m.\u001b[0m\u001b[0mupdate\u001b[0m\u001b[1;33m(\u001b[0m\u001b[0mkwds_defaults\u001b[0m\u001b[1;33m)\u001b[0m\u001b[1;33m\u001b[0m\u001b[1;33m\u001b[0m\u001b[0m\n\u001b[0;32m    677\u001b[0m \u001b[1;33m\u001b[0m\u001b[0m\n\u001b[1;32m--> 678\u001b[1;33m     \u001b[1;32mreturn\u001b[0m \u001b[0m_read\u001b[0m\u001b[1;33m(\u001b[0m\u001b[0mfilepath_or_buffer\u001b[0m\u001b[1;33m,\u001b[0m \u001b[0mkwds\u001b[0m\u001b[1;33m)\u001b[0m\u001b[1;33m\u001b[0m\u001b[1;33m\u001b[0m\u001b[0m\n\u001b[0m\u001b[0;32m    679\u001b[0m \u001b[1;33m\u001b[0m\u001b[0m\n\u001b[0;32m    680\u001b[0m \u001b[1;33m\u001b[0m\u001b[0m\n",
      "\u001b[1;32mc:\\Users\\arist\\anaconda3\\lib\\site-packages\\pandas\\io\\parsers\\readers.py\u001b[0m in \u001b[0;36m_read\u001b[1;34m(filepath_or_buffer, kwds)\u001b[0m\n\u001b[0;32m    573\u001b[0m \u001b[1;33m\u001b[0m\u001b[0m\n\u001b[0;32m    574\u001b[0m     \u001b[1;31m# Create the parser.\u001b[0m\u001b[1;33m\u001b[0m\u001b[1;33m\u001b[0m\u001b[0m\n\u001b[1;32m--> 575\u001b[1;33m     \u001b[0mparser\u001b[0m \u001b[1;33m=\u001b[0m \u001b[0mTextFileReader\u001b[0m\u001b[1;33m(\u001b[0m\u001b[0mfilepath_or_buffer\u001b[0m\u001b[1;33m,\u001b[0m \u001b[1;33m**\u001b[0m\u001b[0mkwds\u001b[0m\u001b[1;33m)\u001b[0m\u001b[1;33m\u001b[0m\u001b[1;33m\u001b[0m\u001b[0m\n\u001b[0m\u001b[0;32m    576\u001b[0m \u001b[1;33m\u001b[0m\u001b[0m\n\u001b[0;32m    577\u001b[0m     \u001b[1;32mif\u001b[0m \u001b[0mchunksize\u001b[0m \u001b[1;32mor\u001b[0m \u001b[0miterator\u001b[0m\u001b[1;33m:\u001b[0m\u001b[1;33m\u001b[0m\u001b[1;33m\u001b[0m\u001b[0m\n",
      "\u001b[1;32mc:\\Users\\arist\\anaconda3\\lib\\site-packages\\pandas\\io\\parsers\\readers.py\u001b[0m in \u001b[0;36m__init__\u001b[1;34m(self, f, engine, **kwds)\u001b[0m\n\u001b[0;32m    930\u001b[0m \u001b[1;33m\u001b[0m\u001b[0m\n\u001b[0;32m    931\u001b[0m         \u001b[0mself\u001b[0m\u001b[1;33m.\u001b[0m\u001b[0mhandles\u001b[0m\u001b[1;33m:\u001b[0m \u001b[0mIOHandles\u001b[0m \u001b[1;33m|\u001b[0m \u001b[1;32mNone\u001b[0m \u001b[1;33m=\u001b[0m \u001b[1;32mNone\u001b[0m\u001b[1;33m\u001b[0m\u001b[1;33m\u001b[0m\u001b[0m\n\u001b[1;32m--> 932\u001b[1;33m         \u001b[0mself\u001b[0m\u001b[1;33m.\u001b[0m\u001b[0m_engine\u001b[0m \u001b[1;33m=\u001b[0m \u001b[0mself\u001b[0m\u001b[1;33m.\u001b[0m\u001b[0m_make_engine\u001b[0m\u001b[1;33m(\u001b[0m\u001b[0mf\u001b[0m\u001b[1;33m,\u001b[0m \u001b[0mself\u001b[0m\u001b[1;33m.\u001b[0m\u001b[0mengine\u001b[0m\u001b[1;33m)\u001b[0m\u001b[1;33m\u001b[0m\u001b[1;33m\u001b[0m\u001b[0m\n\u001b[0m\u001b[0;32m    933\u001b[0m \u001b[1;33m\u001b[0m\u001b[0m\n\u001b[0;32m    934\u001b[0m     \u001b[1;32mdef\u001b[0m \u001b[0mclose\u001b[0m\u001b[1;33m(\u001b[0m\u001b[0mself\u001b[0m\u001b[1;33m)\u001b[0m\u001b[1;33m:\u001b[0m\u001b[1;33m\u001b[0m\u001b[1;33m\u001b[0m\u001b[0m\n",
      "\u001b[1;32mc:\\Users\\arist\\anaconda3\\lib\\site-packages\\pandas\\io\\parsers\\readers.py\u001b[0m in \u001b[0;36m_make_engine\u001b[1;34m(self, f, engine)\u001b[0m\n\u001b[0;32m   1214\u001b[0m             \u001b[1;31m# \"Union[str, PathLike[str], ReadCsvBuffer[bytes], ReadCsvBuffer[str]]\"\u001b[0m\u001b[1;33m\u001b[0m\u001b[1;33m\u001b[0m\u001b[0m\n\u001b[0;32m   1215\u001b[0m             \u001b[1;31m# , \"str\", \"bool\", \"Any\", \"Any\", \"Any\", \"Any\", \"Any\"\u001b[0m\u001b[1;33m\u001b[0m\u001b[1;33m\u001b[0m\u001b[0m\n\u001b[1;32m-> 1216\u001b[1;33m             self.handles = get_handle(  # type: ignore[call-overload]\n\u001b[0m\u001b[0;32m   1217\u001b[0m                 \u001b[0mf\u001b[0m\u001b[1;33m,\u001b[0m\u001b[1;33m\u001b[0m\u001b[1;33m\u001b[0m\u001b[0m\n\u001b[0;32m   1218\u001b[0m                 \u001b[0mmode\u001b[0m\u001b[1;33m,\u001b[0m\u001b[1;33m\u001b[0m\u001b[1;33m\u001b[0m\u001b[0m\n",
      "\u001b[1;32mc:\\Users\\arist\\anaconda3\\lib\\site-packages\\pandas\\io\\common.py\u001b[0m in \u001b[0;36mget_handle\u001b[1;34m(path_or_buf, mode, encoding, compression, memory_map, is_text, errors, storage_options)\u001b[0m\n\u001b[0;32m    784\u001b[0m         \u001b[1;32mif\u001b[0m \u001b[0mioargs\u001b[0m\u001b[1;33m.\u001b[0m\u001b[0mencoding\u001b[0m \u001b[1;32mand\u001b[0m \u001b[1;34m\"b\"\u001b[0m \u001b[1;32mnot\u001b[0m \u001b[1;32min\u001b[0m \u001b[0mioargs\u001b[0m\u001b[1;33m.\u001b[0m\u001b[0mmode\u001b[0m\u001b[1;33m:\u001b[0m\u001b[1;33m\u001b[0m\u001b[1;33m\u001b[0m\u001b[0m\n\u001b[0;32m    785\u001b[0m             \u001b[1;31m# Encoding\u001b[0m\u001b[1;33m\u001b[0m\u001b[1;33m\u001b[0m\u001b[0m\n\u001b[1;32m--> 786\u001b[1;33m             handle = open(\n\u001b[0m\u001b[0;32m    787\u001b[0m                 \u001b[0mhandle\u001b[0m\u001b[1;33m,\u001b[0m\u001b[1;33m\u001b[0m\u001b[1;33m\u001b[0m\u001b[0m\n\u001b[0;32m    788\u001b[0m                 \u001b[0mioargs\u001b[0m\u001b[1;33m.\u001b[0m\u001b[0mmode\u001b[0m\u001b[1;33m,\u001b[0m\u001b[1;33m\u001b[0m\u001b[1;33m\u001b[0m\u001b[0m\n",
      "\u001b[1;31mFileNotFoundError\u001b[0m: [Errno 2] No such file or directory: 'data/wine.csv'"
     ]
    }
   ],
   "source": [
    "traindata_set=DataBuilder(DATA_PATH, train=True)\n",
    "testdata_set=DataBuilder(DATA_PATH, train=False)\n",
    "\n",
    "trainloader=DataLoader(dataset=traindata_set,batch_size=1024)\n",
    "testloader=DataLoader(dataset=testdata_set,batch_size=1024)"
   ]
  },
  {
   "cell_type": "code",
   "execution_count": 36,
   "metadata": {},
   "outputs": [],
   "source": [
    "from keras.layers import Input, Dense, Lambda, Concatenate\n",
    "from keras.models import Model\n",
    "from keras.utils import to_categorical\n",
    "from keras import backend as K\n",
    "from keras.losses import binary_crossentropy\n",
    "\n",
    "def create_vae(categorical_dim, numerical_dim, latent_dim):\n",
    "    # encoder\n",
    "    categorical_inputs = Input(shape=(categorical_dim,))\n",
    "    x = Lambda(lambda x: to_categorical(x))(categorical_inputs)\n",
    "    numerical_inputs = Input(shape=(numerical_dim,))\n",
    "    inputs = Concatenate()([x, numerical_inputs])\n",
    "    x = Dense(64, activation='relu')(inputs)\n",
    "    x = Dense(64, activation='relu')(x)\n",
    "    z_mean = Dense(latent_dim)(x)\n",
    "    z_log_var = Dense(latent_dim)(x)\n",
    "    encoder = Model(inputs=[categorical_inputs, numerical_inputs], outputs=[z_mean, z_log_var])\n",
    "    \n",
    "    # decoder\n",
    "    latent_inputs = Input(shape=(latent_dim,))\n",
    "    x = Dense(64, activation='relu')(latent_inputs)\n",
    "    x = Dense(64, activation='relu')(x)\n",
    "    categorical_outputs = Dense(categorical_dim, activation='softmax')(x)\n",
    "    numerical_outputs = Dense(numerical_dim)(x)\n",
    "    decoder = Model(inputs=latent_inputs, outputs=[categorical_outputs, numerical_outputs])\n",
    "    \n",
    "    # VAE\n",
    "    outputs = decoder(encoder([categorical_inputs, numerical_inputs])[0])\n",
    "    vae = Model(inputs=[categorical_inputs, numerical_inputs], outputs=outputs)\n",
    "    \n",
    "    # loss\n",
    "    def vae_loss(y_true, y_pred):\n",
    "        categorical_true, numerical_true = y_true\n",
    "        categorical_pred, numerical_pred = y_pred\n",
    "        categorical_loss = K.categorical_crossentropy(categorical_true, categorical_pred)\n",
    "        numerical_loss = K.mean(K.square(numerical_true - numerical_pred), axis=-1)\n",
    "        return categorical_loss + numerical_loss\n",
    "    \n",
    "    vae.compile(optimizer='adam', loss=vae_loss)\n",
    "    return vae"
   ]
  },
  {
   "cell_type": "code",
   "execution_count": 97,
   "metadata": {},
   "outputs": [],
   "source": [
    "import tensorflow as tf\n",
    "from keras.layers import Input, Dense, Lambda, Concatenate\n",
    "from keras.models import Model\n",
    "from keras.utils import to_categorical\n",
    "from keras import backend as K\n",
    "from keras.losses import binary_crossentropy\n",
    "\n",
    "from sklearn.preprocessing import LabelEncoder\n",
    "import numpy as np\n",
    "\n",
    "\n",
    "def create_vae(categorical_dim, numerical_dim, latent_dim):\n",
    "    # encoder\n",
    "    categorical_inputs = Input(shape=(categorical_dim,))\n",
    "    #x = Lambda(lambda x: tf.argmax(x, axis=1))(categorical_inputs)\n",
    "    x = Lambda(lambda x: tf.keras.utils.to_categorical(x, num_classes=categorical_dim))(categorical_inputs)\n",
    "    #categorical_inputs = to_categorical(categorical_inputs.values)\n",
    "    numerical_inputs = Input(shape=(numerical_dim,))\n",
    "    inputs = Concatenate()([x, numerical_inputs])\n",
    "    x = Dense(64, activation='relu')(inputs)\n",
    "    x = Dense(64, activation='relu')(x)\n",
    "    z_mean = Dense(latent_dim)(x)\n",
    "    z_log_var = Dense(latent_dim)(x)\n",
    "    encoder = Model(inputs=[categorical_inputs, numerical_inputs], outputs=[z_mean, z_log_var])\n",
    "    \n",
    "    # decoder\n",
    "    latent_inputs = Input(shape=(latent_dim,))\n",
    "    x = Dense(64, activation='relu')(latent_inputs)\n",
    "    x = Dense(64, activation='relu')(x)\n",
    "    categorical_outputs = Dense(categorical_dim, activation='softmax')(x)\n",
    "    numerical_outputs = Dense(numerical_dim)(x)\n",
    "    binary_output = Dense(1, activation='sigmoid')(x)\n",
    "    decoder = Model(inputs=latent_inputs, outputs=[categorical_outputs, numerical_outputs,binary_output])\n",
    "    \n",
    "    # VAE\n",
    "    outputs = decoder(encoder([categorical_inputs, numerical_inputs])[0])\n",
    "    vae = Model(inputs=[categorical_inputs, numerical_inputs], outputs=outputs[2])\n",
    "    \n",
    "    # loss\n",
    "    def vae_loss(y_true, y_pred):\n",
    "        binary_loss = binary_crossentropy(y_true, y_pred)\n",
    "        return binary_loss\n",
    "    \n",
    "    vae.compile(optimizer='adam', loss=vae_loss)\n",
    "    return vae"
   ]
  },
  {
   "cell_type": "code",
   "execution_count": 98,
   "metadata": {},
   "outputs": [
    {
     "ename": "ValueError",
     "evalue": "invalid literal for int() with base 10: '< 0 DM'",
     "output_type": "error",
     "traceback": [
      "\u001b[1;31m---------------------------------------------------------------------------\u001b[0m",
      "\u001b[1;31mValueError\u001b[0m                                Traceback (most recent call last)",
      "\u001b[1;32m~\\AppData\\Local\\Temp\\ipykernel_28660\\1119255273.py\u001b[0m in \u001b[0;36m<cell line: 5>\u001b[1;34m()\u001b[0m\n\u001b[0;32m      3\u001b[0m \u001b[1;33m\u001b[0m\u001b[0m\n\u001b[0;32m      4\u001b[0m \u001b[1;31m#X_categorical_np = credit[columns_to_encode].values\u001b[0m\u001b[1;33m\u001b[0m\u001b[1;33m\u001b[0m\u001b[0m\n\u001b[1;32m----> 5\u001b[1;33m \u001b[0mX_categorical_np\u001b[0m \u001b[1;33m=\u001b[0m \u001b[0mto_categorical\u001b[0m\u001b[1;33m(\u001b[0m\u001b[0mcredit\u001b[0m\u001b[1;33m[\u001b[0m\u001b[0mcolumns_to_encode\u001b[0m\u001b[1;33m]\u001b[0m\u001b[1;33m.\u001b[0m\u001b[0mvalues\u001b[0m\u001b[1;33m)\u001b[0m\u001b[1;33m\u001b[0m\u001b[1;33m\u001b[0m\u001b[0m\n\u001b[0m\u001b[0;32m      6\u001b[0m \u001b[0mX_numerical_np\u001b[0m \u001b[1;33m=\u001b[0m \u001b[0mcredit\u001b[0m\u001b[1;33m[\u001b[0m\u001b[0mcolumns_to_scale\u001b[0m\u001b[1;33m]\u001b[0m\u001b[1;33m.\u001b[0m\u001b[0mvalues\u001b[0m\u001b[1;33m\u001b[0m\u001b[1;33m\u001b[0m\u001b[0m\n\u001b[0;32m      7\u001b[0m \u001b[1;33m\u001b[0m\u001b[0m\n",
      "\u001b[1;32mc:\\Users\\arist\\anaconda3\\lib\\site-packages\\keras\\utils\\np_utils.py\u001b[0m in \u001b[0;36mto_categorical\u001b[1;34m(y, num_classes, dtype)\u001b[0m\n\u001b[0;32m     62\u001b[0m     \u001b[1;33m[\u001b[0m\u001b[1;36m0.\u001b[0m \u001b[1;36m0.\u001b[0m \u001b[1;36m0.\u001b[0m \u001b[1;36m0.\u001b[0m\u001b[1;33m]\u001b[0m\u001b[1;33m\u001b[0m\u001b[1;33m\u001b[0m\u001b[0m\n\u001b[0;32m     63\u001b[0m     \"\"\"\n\u001b[1;32m---> 64\u001b[1;33m     \u001b[0my\u001b[0m \u001b[1;33m=\u001b[0m \u001b[0mnp\u001b[0m\u001b[1;33m.\u001b[0m\u001b[0marray\u001b[0m\u001b[1;33m(\u001b[0m\u001b[0my\u001b[0m\u001b[1;33m,\u001b[0m \u001b[0mdtype\u001b[0m\u001b[1;33m=\u001b[0m\u001b[1;34m\"int\"\u001b[0m\u001b[1;33m)\u001b[0m\u001b[1;33m\u001b[0m\u001b[1;33m\u001b[0m\u001b[0m\n\u001b[0m\u001b[0;32m     65\u001b[0m     \u001b[0minput_shape\u001b[0m \u001b[1;33m=\u001b[0m \u001b[0my\u001b[0m\u001b[1;33m.\u001b[0m\u001b[0mshape\u001b[0m\u001b[1;33m\u001b[0m\u001b[1;33m\u001b[0m\u001b[0m\n\u001b[0;32m     66\u001b[0m     \u001b[1;32mif\u001b[0m \u001b[0minput_shape\u001b[0m \u001b[1;32mand\u001b[0m \u001b[0minput_shape\u001b[0m\u001b[1;33m[\u001b[0m\u001b[1;33m-\u001b[0m\u001b[1;36m1\u001b[0m\u001b[1;33m]\u001b[0m \u001b[1;33m==\u001b[0m \u001b[1;36m1\u001b[0m \u001b[1;32mand\u001b[0m \u001b[0mlen\u001b[0m\u001b[1;33m(\u001b[0m\u001b[0minput_shape\u001b[0m\u001b[1;33m)\u001b[0m \u001b[1;33m>\u001b[0m \u001b[1;36m1\u001b[0m\u001b[1;33m:\u001b[0m\u001b[1;33m\u001b[0m\u001b[1;33m\u001b[0m\u001b[0m\n",
      "\u001b[1;31mValueError\u001b[0m: invalid literal for int() with base 10: '< 0 DM'"
     ]
    }
   ],
   "source": [
    "credit[columns_to_encode] = credit[columns_to_encode].astype('string')\n",
    "X_categorical_np = pd.get_dummies(credit[columns_to_encode])\n",
    "X_numerical_np = credit.drop(columns_to_encode+['default'], axis=1).values\n",
    "X = np.concatenate((X_categorical_np, X_numerical_np), axis=1)\n",
    "y = credit['default'].values\n",
    "\n",
    "scaler=StandardScaler()\n",
    "X_train[columns_to_scale] = scaler.fit_transform(X_train[columns_to_scale])\n",
    "\n",
    "encoder = LabelEncoder()\n",
    "y = encoder.fit_transform(y)\n",
    "\n",
    "categorical_dim = len(columns_to_encode)\n",
    "numerical_dim = len(columns_to_scale)\n",
    "\n",
    "#X_categorical_np = credit[columns_to_encode].values\n",
    "X_categorical_np = to_categorical(credit[columns_to_encode].values)\n",
    "X_numerical_np = credit[columns_to_scale].values\n",
    "\n",
    "credit.default = credit.default.replace({\"Default\": 1, \"Not default\": 0})\n",
    "y_binary_np = credit.default.values\n",
    "\n",
    "latent_dim = 3\n",
    "\n",
    "vae = create_vae(categorical_dim, numerical_dim, latent_dim)\n",
    "vae.fit([X_categorical_np, X_numerical_np], y_binary_np, epochs=100, batch_size=32)"
   ]
  },
  {
   "cell_type": "code",
   "execution_count": 95,
   "metadata": {},
   "outputs": [
    {
     "data": {
      "text/plain": [
       "['duration_in_month',\n",
       " 'credit_amount',\n",
       " 'installment_as_income_perc',\n",
       " 'present_residence_since',\n",
       " 'age',\n",
       " 'credits_this_bank',\n",
       " 'people_under_maintenance']"
      ]
     },
     "execution_count": 95,
     "metadata": {},
     "output_type": "execute_result"
    }
   ],
   "source": [
    "columns_to_scale"
   ]
  },
  {
   "cell_type": "code",
   "execution_count": null,
   "metadata": {},
   "outputs": [],
   "source": [
    "latent_values = np.random.normal(size=(1, latent_dim))\n",
    "new_categorical, new_numerical = vae.decoder.predict(latent_values)"
   ]
  },
  {
   "cell_type": "code",
   "execution_count": 96,
   "metadata": {},
   "outputs": [
    {
     "ename": "TypeError",
     "evalue": "Keras symbolic inputs/outputs do not implement `__len__`. You may be trying to pass Keras symbolic inputs/outputs to a TF API that does not register dispatching, preventing Keras from automatically converting the API call to a lambda layer in the Functional Model. This error will also get raised if you try asserting a symbolic input/output directly.",
     "output_type": "error",
     "traceback": [
      "\u001b[1;31m---------------------------------------------------------------------------\u001b[0m",
      "\u001b[1;31mTypeError\u001b[0m                                 Traceback (most recent call last)",
      "\u001b[1;32m~\\AppData\\Local\\Temp\\ipykernel_28660\\399613651.py\u001b[0m in \u001b[0;36m<cell line: 52>\u001b[1;34m()\u001b[0m\n\u001b[0;32m     50\u001b[0m \u001b[0mvae_loss\u001b[0m \u001b[1;33m=\u001b[0m \u001b[0mtf\u001b[0m\u001b[1;33m.\u001b[0m\u001b[0mreduce_mean\u001b[0m\u001b[1;33m(\u001b[0m\u001b[0mreconstruction_loss\u001b[0m \u001b[1;33m+\u001b[0m \u001b[0mkl_loss\u001b[0m\u001b[1;33m)\u001b[0m\u001b[1;33m\u001b[0m\u001b[1;33m\u001b[0m\u001b[0m\n\u001b[0;32m     51\u001b[0m \u001b[1;33m\u001b[0m\u001b[0m\n\u001b[1;32m---> 52\u001b[1;33m \u001b[0mvae\u001b[0m\u001b[1;33m.\u001b[0m\u001b[0mcompile\u001b[0m\u001b[1;33m(\u001b[0m\u001b[0moptimizer\u001b[0m\u001b[1;33m=\u001b[0m\u001b[1;34m'adam'\u001b[0m\u001b[1;33m,\u001b[0m \u001b[0mloss\u001b[0m\u001b[1;33m=\u001b[0m\u001b[0mvae_loss\u001b[0m\u001b[1;33m)\u001b[0m\u001b[1;33m\u001b[0m\u001b[1;33m\u001b[0m\u001b[0m\n\u001b[0m\u001b[0;32m     53\u001b[0m \u001b[0mvae\u001b[0m\u001b[1;33m.\u001b[0m\u001b[0mfit\u001b[0m\u001b[1;33m(\u001b[0m\u001b[0mX_train\u001b[0m\u001b[1;33m,\u001b[0m \u001b[0mX_train\u001b[0m\u001b[1;33m,\u001b[0m \u001b[0mepochs\u001b[0m\u001b[1;33m=\u001b[0m\u001b[1;36m50\u001b[0m\u001b[1;33m,\u001b[0m \u001b[0mbatch_size\u001b[0m\u001b[1;33m=\u001b[0m\u001b[1;36m32\u001b[0m\u001b[1;33m)\u001b[0m\u001b[1;33m\u001b[0m\u001b[1;33m\u001b[0m\u001b[0m\n\u001b[0;32m     54\u001b[0m \u001b[1;33m\u001b[0m\u001b[0m\n",
      "\u001b[1;32mc:\\Users\\arist\\anaconda3\\lib\\site-packages\\keras\\utils\\traceback_utils.py\u001b[0m in \u001b[0;36merror_handler\u001b[1;34m(*args, **kwargs)\u001b[0m\n\u001b[0;32m     68\u001b[0m             \u001b[1;31m# To get the full stack trace, call:\u001b[0m\u001b[1;33m\u001b[0m\u001b[1;33m\u001b[0m\u001b[0m\n\u001b[0;32m     69\u001b[0m             \u001b[1;31m# `tf.debugging.disable_traceback_filtering()`\u001b[0m\u001b[1;33m\u001b[0m\u001b[1;33m\u001b[0m\u001b[0m\n\u001b[1;32m---> 70\u001b[1;33m             \u001b[1;32mraise\u001b[0m \u001b[0me\u001b[0m\u001b[1;33m.\u001b[0m\u001b[0mwith_traceback\u001b[0m\u001b[1;33m(\u001b[0m\u001b[0mfiltered_tb\u001b[0m\u001b[1;33m)\u001b[0m \u001b[1;32mfrom\u001b[0m \u001b[1;32mNone\u001b[0m\u001b[1;33m\u001b[0m\u001b[1;33m\u001b[0m\u001b[0m\n\u001b[0m\u001b[0;32m     71\u001b[0m         \u001b[1;32mfinally\u001b[0m\u001b[1;33m:\u001b[0m\u001b[1;33m\u001b[0m\u001b[1;33m\u001b[0m\u001b[0m\n\u001b[0;32m     72\u001b[0m             \u001b[1;32mdel\u001b[0m \u001b[0mfiltered_tb\u001b[0m\u001b[1;33m\u001b[0m\u001b[1;33m\u001b[0m\u001b[0m\n",
      "\u001b[1;32mc:\\Users\\arist\\anaconda3\\lib\\site-packages\\keras\\engine\\keras_tensor.py\u001b[0m in \u001b[0;36m__len__\u001b[1;34m(self)\u001b[0m\n\u001b[0;32m    242\u001b[0m \u001b[1;33m\u001b[0m\u001b[0m\n\u001b[0;32m    243\u001b[0m     \u001b[1;32mdef\u001b[0m \u001b[0m__len__\u001b[0m\u001b[1;33m(\u001b[0m\u001b[0mself\u001b[0m\u001b[1;33m)\u001b[0m\u001b[1;33m:\u001b[0m\u001b[1;33m\u001b[0m\u001b[1;33m\u001b[0m\u001b[0m\n\u001b[1;32m--> 244\u001b[1;33m         raise TypeError(\n\u001b[0m\u001b[0;32m    245\u001b[0m             \u001b[1;34m\"Keras symbolic inputs/outputs do not \"\u001b[0m\u001b[1;33m\u001b[0m\u001b[1;33m\u001b[0m\u001b[0m\n\u001b[0;32m    246\u001b[0m             \u001b[1;34m\"implement `__len__`. You may be \"\u001b[0m\u001b[1;33m\u001b[0m\u001b[1;33m\u001b[0m\u001b[0m\n",
      "\u001b[1;31mTypeError\u001b[0m: Keras symbolic inputs/outputs do not implement `__len__`. You may be trying to pass Keras symbolic inputs/outputs to a TF API that does not register dispatching, preventing Keras from automatically converting the API call to a lambda layer in the Functional Model. This error will also get raised if you try asserting a symbolic input/output directly."
     ]
    }
   ],
   "source": [
    "from sklearn.preprocessing import LabelEncoder\n",
    "import numpy as np\n",
    "\n",
    "credit[columns_to_encode] = credit[columns_to_encode].astype('string')\n",
    "X_categorical_np = pd.get_dummies(credit[columns_to_encode])\n",
    "X_numerical_np = credit.drop(columns_to_encode+['default'], axis=1).values\n",
    "X = np.concatenate((X_categorical_np, X_numerical_np), axis=1)\n",
    "y = credit['default'].values\n",
    "\n",
    "scaler=StandardScaler()\n",
    "X_train[columns_to_scale] = scaler.fit_transform(X_train[columns_to_scale])\n",
    "\n",
    "encoder = LabelEncoder()\n",
    "y = encoder.fit_transform(y)\n",
    "\n",
    "latent_dim = 2\n",
    "input_dim = X_train.shape[1]\n",
    "\n",
    "encoder_inputs = Input(shape=(input_dim, ), name='encoder_input')\n",
    "x = Dense(32, activation='relu')(encoder_inputs)\n",
    "x = Dense(16, activation='relu')(x)\n",
    "\n",
    "z_mean = Dense(latent_dim, name='z_mean')(x)\n",
    "z_log_var = Dense(latent_dim, name='z_log_var')(x)\n",
    "\n",
    "# Reparametrization trick\n",
    "def sampling(args):\n",
    "    z_mean, z_log_var = args\n",
    "    epsilon = tf.random.normal(shape=tf.shape(z_mean))\n",
    "    return z_mean + tf.exp(z_log_var / 2) * epsilon\n",
    "\n",
    "z = Lambda(sampling, output_shape=(latent_dim,), name='z')([z_mean, z_log_var])\n",
    "\n",
    "encoder = Model(encoder_inputs, [z_mean, z_log_var, z], name='encoder')\n",
    "\n",
    "latent_inputs = Input(shape=(latent_dim,), name='z_sampling')\n",
    "x = Dense(16, activation='relu')(latent_inputs)\n",
    "x = Dense(32, activation='relu')(x)\n",
    "decoder_outputs = Dense(input_dim, activation='sigmoid')(x)\n",
    "decoder = Model(latent_inputs, decoder_outputs, name='decoder')\n",
    "\n",
    "outputs = decoder(encoder(encoder_inputs)[2])\n",
    "vae = Model(encoder_inputs, outputs, name='vae')\n",
    "\n",
    "reconstruction_loss = binary_crossentropy(encoder_inputs, outputs)\n",
    "reconstruction_loss *= input_dim\n",
    "kl_loss = 1 + z_log_var - tf.square(z_mean) - tf.exp(z_log_var)\n",
    "kl_loss = tf.reduce_mean(kl_loss)\n",
    "kl_loss *= -0.5\n",
    "vae_loss = tf.reduce_mean(reconstruction_loss + kl_loss)\n",
    "\n",
    "vae.compile(optimizer='adam', loss=vae_loss)\n",
    "vae.fit(X_train, X_train, epochs=50, batch_size=32)\n",
    "\n"
   ]
  },
  {
   "attachments": {},
   "cell_type": "markdown",
   "metadata": {},
   "source": [
    "## GAN"
   ]
  },
  {
   "cell_type": "code",
   "execution_count": 68,
   "metadata": {},
   "outputs": [],
   "source": [
    "from keras.layers import Input, Dense, LeakyReLU, Dropout, Concatenate\n",
    "from keras.models import Model, Sequential\n",
    "import tensorflow as tf\n",
    "from tensorflow import convert_to_tensor\n",
    "from sklearn.preprocessing import MinMaxScaler\n",
    "\n",
    "data = credit\n",
    "output_dim = data.shape[1]\n",
    "input_dim = output_dim\n",
    "data.default = data.default.replace({\"Default\": 1, \"Not default\": 0})\n",
    "\n",
    "epochs = 300\n",
    "# Preprocessing function\n",
    "def preprocess_data(data, columns_to_encode, columns_to_scale):\n",
    "    # One-hot encode categorical variables\n",
    "    data = pd.get_dummies(data, columns=columns_to_encode)\n",
    "    # Scale numerical variables\n",
    "    scaler = MinMaxScaler()\n",
    "    data[columns_to_scale] = scaler.fit_transform(data[columns_to_scale])\n",
    "    return data\n",
    "\n",
    "# Define the generator\n",
    "def build_generator():\n",
    "    model = Sequential()\n",
    "    model.add(Dense(64, input_dim=63, activation='relu'))\n",
    "    model.add(LeakyReLU(alpha=0.01))\n",
    "    model.add(Dense(64, activation='relu'))\n",
    "    model.add(LeakyReLU(alpha=0.01))\n",
    "    model.add(Dense(output_dim, activation='sigmoid'))\n",
    "    return model\n",
    "\n",
    "# Define the discriminator\n",
    "def build_discriminator():\n",
    "    model = Sequential()\n",
    "    model.add(Dense(64, input_dim=input_dim, activation='relu'))\n",
    "    model.add(LeakyReLU(alpha=0.01))\n",
    "    model.add(Dropout(0.5))\n",
    "    model.add(Dense(64, activation='relu'))\n",
    "    model.add(LeakyReLU(alpha=0.01))\n",
    "    model.add(Dropout(0.5))\n",
    "    model.add(Dense(1, activation='sigmoid'))\n",
    "    return model\n",
    "\n",
    "# Preprocessing data\n",
    "data = preprocess_data(data, columns_to_encode, columns_to_scale)\n",
    "\n",
    "# Splitting data\n",
    "X_train, X_test = train_test_split(data, test_size=0.3)\n",
    "\n",
    "# Creating the generator\n",
    "generator = build_generator()\n",
    "# Creating the discriminator\n",
    "discriminator = build_discriminator()\n",
    "\n",
    "# Creating the GAN\n",
    "gan = Sequential([generator, discriminator])\n",
    "# Compiling the GAN\n",
    "gan.compile(loss='binary_crossentropy', optimizer='adam')\n"
   ]
  },
  {
   "cell_type": "code",
   "execution_count": 71,
   "metadata": {},
   "outputs": [
    {
     "name": "stdout",
     "output_type": "stream",
     "text": [
      "Model: \"sequential_28\"\n",
      "_________________________________________________________________\n",
      " Layer (type)                Output Shape              Param #   \n",
      "=================================================================\n",
      " dense_57 (Dense)            (None, 64)                1472      \n",
      "                                                                 \n",
      " leaky_re_lu_38 (LeakyReLU)  (None, 64)                0         \n",
      "                                                                 \n",
      " dropout_18 (Dropout)        (None, 64)                0         \n",
      "                                                                 \n",
      " dense_58 (Dense)            (None, 64)                4160      \n",
      "                                                                 \n",
      " leaky_re_lu_39 (LeakyReLU)  (None, 64)                0         \n",
      "                                                                 \n",
      " dropout_19 (Dropout)        (None, 64)                0         \n",
      "                                                                 \n",
      " dense_59 (Dense)            (None, 1)                 65        \n",
      "                                                                 \n",
      "=================================================================\n",
      "Total params: 5,697\n",
      "Trainable params: 5,697\n",
      "Non-trainable params: 0\n",
      "_________________________________________________________________\n"
     ]
    },
    {
     "data": {
      "text/plain": [
       "(700, 63)"
      ]
     },
     "execution_count": 71,
     "metadata": {},
     "output_type": "execute_result"
    }
   ],
   "source": [
    "discriminator.summary()\n",
    "X_train.shape"
   ]
  },
  {
   "cell_type": "code",
   "execution_count": 72,
   "metadata": {},
   "outputs": [
    {
     "name": "stdout",
     "output_type": "stream",
     "text": [
      "22/22 [==============================] - 1s 3ms/step\n"
     ]
    },
    {
     "ename": "ValueError",
     "evalue": "all the input array dimensions for the concatenation axis must match exactly, but along dimension 1, the array at index 0 has size 63 and the array at index 1 has size 22",
     "output_type": "error",
     "traceback": [
      "\u001b[1;31m---------------------------------------------------------------------------\u001b[0m",
      "\u001b[1;31mValueError\u001b[0m                                Traceback (most recent call last)",
      "\u001b[1;32m~\\AppData\\Local\\Temp\\ipykernel_2680\\1109223383.py\u001b[0m in \u001b[0;36m<cell line: 2>\u001b[1;34m()\u001b[0m\n\u001b[0;32m      4\u001b[0m     \u001b[0mX_fake\u001b[0m \u001b[1;33m=\u001b[0m \u001b[0mgenerator\u001b[0m\u001b[1;33m.\u001b[0m\u001b[0mpredict\u001b[0m\u001b[1;33m(\u001b[0m\u001b[0mconvert_to_tensor\u001b[0m\u001b[1;33m(\u001b[0m\u001b[0mX_train\u001b[0m\u001b[1;33m)\u001b[0m\u001b[1;33m)\u001b[0m\u001b[1;33m\u001b[0m\u001b[1;33m\u001b[0m\u001b[0m\n\u001b[0;32m      5\u001b[0m     \u001b[1;31m# Concatenate real and fake data\u001b[0m\u001b[1;33m\u001b[0m\u001b[1;33m\u001b[0m\u001b[0m\n\u001b[1;32m----> 6\u001b[1;33m     \u001b[0mX\u001b[0m \u001b[1;33m=\u001b[0m \u001b[0mnp\u001b[0m\u001b[1;33m.\u001b[0m\u001b[0mconcatenate\u001b[0m\u001b[1;33m(\u001b[0m\u001b[1;33m(\u001b[0m\u001b[0mX_train\u001b[0m\u001b[1;33m,\u001b[0m \u001b[0mX_fake\u001b[0m\u001b[1;33m)\u001b[0m\u001b[1;33m)\u001b[0m\u001b[1;33m\u001b[0m\u001b[1;33m\u001b[0m\u001b[0m\n\u001b[0m\u001b[0;32m      7\u001b[0m     \u001b[1;31m# Create labels for real and fake data\u001b[0m\u001b[1;33m\u001b[0m\u001b[1;33m\u001b[0m\u001b[0m\n\u001b[0;32m      8\u001b[0m     \u001b[0my\u001b[0m \u001b[1;33m=\u001b[0m \u001b[0mnp\u001b[0m\u001b[1;33m.\u001b[0m\u001b[0mconcatenate\u001b[0m\u001b[1;33m(\u001b[0m\u001b[1;33m(\u001b[0m\u001b[0mnp\u001b[0m\u001b[1;33m.\u001b[0m\u001b[0mones\u001b[0m\u001b[1;33m(\u001b[0m\u001b[0mX_train\u001b[0m\u001b[1;33m.\u001b[0m\u001b[0mshape\u001b[0m\u001b[1;33m[\u001b[0m\u001b[1;36m0\u001b[0m\u001b[1;33m]\u001b[0m\u001b[1;33m)\u001b[0m\u001b[1;33m,\u001b[0m \u001b[0mnp\u001b[0m\u001b[1;33m.\u001b[0m\u001b[0mzeros\u001b[0m\u001b[1;33m(\u001b[0m\u001b[0mX_fake\u001b[0m\u001b[1;33m.\u001b[0m\u001b[0mshape\u001b[0m\u001b[1;33m[\u001b[0m\u001b[1;36m0\u001b[0m\u001b[1;33m]\u001b[0m\u001b[1;33m)\u001b[0m\u001b[1;33m)\u001b[0m\u001b[1;33m)\u001b[0m\u001b[1;33m\u001b[0m\u001b[1;33m\u001b[0m\u001b[0m\n",
      "\u001b[1;32m<__array_function__ internals>\u001b[0m in \u001b[0;36mconcatenate\u001b[1;34m(*args, **kwargs)\u001b[0m\n",
      "\u001b[1;31mValueError\u001b[0m: all the input array dimensions for the concatenation axis must match exactly, but along dimension 1, the array at index 0 has size 63 and the array at index 1 has size 22"
     ]
    }
   ],
   "source": [
    "# Training the GAN\n",
    "for epoch in range(epochs):\n",
    "    # Generate fake data\n",
    "    X_fake = generator.predict(convert_to_tensor(X_train))\n",
    "    # Concatenate real and fake data\n",
    "    X = np.concatenate((X_train, X_fake))\n",
    "    # Create labels for real and fake data\n",
    "    y = np.concatenate((np.ones(X_train.shape[0]), np.zeros(X_fake.shape[0])))\n",
    "    # Train the discriminator\n",
    "    d_loss = discriminator.train_on_batch(X, y)\n",
    "    # Generate random noise\n",
    "    noise = np.random.rand(X_train.shape[0], input_dim)\n",
    "    # Train the generator\n",
    "    g_loss = gan.train_on_batch(noise, np.ones(X_train.shape[0]))\n",
    "    # Print losses\n",
    "    print(\"epoch: %d, discriminator loss: %f, generator loss: %f\" % (epoch+1, d_loss, g_loss))"
   ]
  },
  {
   "cell_type": "code",
   "execution_count": 76,
   "metadata": {},
   "outputs": [
    {
     "data": {
      "text/plain": [
       "pandas.core.frame.DataFrame"
      ]
     },
     "execution_count": 76,
     "metadata": {},
     "output_type": "execute_result"
    }
   ],
   "source": [
    "type(X_train)\n"
   ]
  },
  {
   "cell_type": "code",
   "execution_count": 117,
   "metadata": {},
   "outputs": [
    {
     "ename": "ValueError",
     "evalue": "invalid literal for int() with base 10: '< 0 DM'",
     "output_type": "error",
     "traceback": [
      "\u001b[1;31m---------------------------------------------------------------------------\u001b[0m",
      "\u001b[1;31mValueError\u001b[0m                                Traceback (most recent call last)",
      "\u001b[1;32m~\\AppData\\Local\\Temp\\ipykernel_2680\\1312887368.py\u001b[0m in \u001b[0;36m<cell line: 20>\u001b[1;34m()\u001b[0m\n\u001b[0;32m     18\u001b[0m \u001b[0mX_categorical\u001b[0m \u001b[1;33m=\u001b[0m \u001b[0mX\u001b[0m\u001b[1;33m[\u001b[0m\u001b[1;33m:\u001b[0m\u001b[1;33m,\u001b[0m \u001b[0mencoding_columns_indexes\u001b[0m\u001b[1;33m]\u001b[0m\u001b[1;33m\u001b[0m\u001b[1;33m\u001b[0m\u001b[0m\n\u001b[0;32m     19\u001b[0m \u001b[1;31m# X_categorical = pd.get_dummies(pd.DataFrame(X_categorical)).values\u001b[0m\u001b[1;33m\u001b[0m\u001b[1;33m\u001b[0m\u001b[0m\n\u001b[1;32m---> 20\u001b[1;33m \u001b[0mX_categorical\u001b[0m \u001b[1;33m=\u001b[0m \u001b[0mtf\u001b[0m\u001b[1;33m.\u001b[0m\u001b[0mkeras\u001b[0m\u001b[1;33m.\u001b[0m\u001b[0mutils\u001b[0m\u001b[1;33m.\u001b[0m\u001b[0mto_categorical\u001b[0m\u001b[1;33m(\u001b[0m\u001b[0mX_categorical\u001b[0m\u001b[1;33m)\u001b[0m\u001b[1;33m\u001b[0m\u001b[1;33m\u001b[0m\u001b[0m\n\u001b[0m\u001b[0;32m     21\u001b[0m \u001b[1;33m\u001b[0m\u001b[0m\n\u001b[0;32m     22\u001b[0m \u001b[1;31m# Normalize numerical variables\u001b[0m\u001b[1;33m\u001b[0m\u001b[1;33m\u001b[0m\u001b[0m\n",
      "\u001b[1;32mc:\\Users\\arist\\anaconda3\\lib\\site-packages\\keras\\utils\\np_utils.py\u001b[0m in \u001b[0;36mto_categorical\u001b[1;34m(y, num_classes, dtype)\u001b[0m\n\u001b[0;32m     62\u001b[0m     \u001b[1;33m[\u001b[0m\u001b[1;36m0.\u001b[0m \u001b[1;36m0.\u001b[0m \u001b[1;36m0.\u001b[0m \u001b[1;36m0.\u001b[0m\u001b[1;33m]\u001b[0m\u001b[1;33m\u001b[0m\u001b[1;33m\u001b[0m\u001b[0m\n\u001b[0;32m     63\u001b[0m     \"\"\"\n\u001b[1;32m---> 64\u001b[1;33m     \u001b[0my\u001b[0m \u001b[1;33m=\u001b[0m \u001b[0mnp\u001b[0m\u001b[1;33m.\u001b[0m\u001b[0marray\u001b[0m\u001b[1;33m(\u001b[0m\u001b[0my\u001b[0m\u001b[1;33m,\u001b[0m \u001b[0mdtype\u001b[0m\u001b[1;33m=\u001b[0m\u001b[1;34m\"int\"\u001b[0m\u001b[1;33m)\u001b[0m\u001b[1;33m\u001b[0m\u001b[1;33m\u001b[0m\u001b[0m\n\u001b[0m\u001b[0;32m     65\u001b[0m     \u001b[0minput_shape\u001b[0m \u001b[1;33m=\u001b[0m \u001b[0my\u001b[0m\u001b[1;33m.\u001b[0m\u001b[0mshape\u001b[0m\u001b[1;33m\u001b[0m\u001b[1;33m\u001b[0m\u001b[0m\n\u001b[0;32m     66\u001b[0m     \u001b[1;32mif\u001b[0m \u001b[0minput_shape\u001b[0m \u001b[1;32mand\u001b[0m \u001b[0minput_shape\u001b[0m\u001b[1;33m[\u001b[0m\u001b[1;33m-\u001b[0m\u001b[1;36m1\u001b[0m\u001b[1;33m]\u001b[0m \u001b[1;33m==\u001b[0m \u001b[1;36m1\u001b[0m \u001b[1;32mand\u001b[0m \u001b[0mlen\u001b[0m\u001b[1;33m(\u001b[0m\u001b[0minput_shape\u001b[0m\u001b[1;33m)\u001b[0m \u001b[1;33m>\u001b[0m \u001b[1;36m1\u001b[0m\u001b[1;33m:\u001b[0m\u001b[1;33m\u001b[0m\u001b[1;33m\u001b[0m\u001b[0m\n",
      "\u001b[1;31mValueError\u001b[0m: invalid literal for int() with base 10: '< 0 DM'"
     ]
    }
   ],
   "source": [
    "import tensorflow as tf\n",
    "import numpy as np\n",
    "import pandas as pd\n",
    "\n",
    "# Convert pandas dataframe to numpy array\n",
    "X = credit.drop(columns='default')\n",
    "#y = credit.default\n",
    "y = credit.default.replace({\"Default\": 1, \"Not default\": 0})\n",
    "\n",
    "# Get the indexes of the columns to encode and scale\n",
    "encoding_columns_indexes = [X.columns.get_loc(col) for col in columns_to_encode]\n",
    "scaling_columns_indexes = [X.columns.get_loc(col) for col in columns_to_scale]\n",
    "\n",
    "X = X.values\n",
    "y = y[:, np.newaxis]\n",
    "\n",
    "# One-hot encode categorical variables\n",
    "X_categorical = X[:, encoding_columns_indexes]\n",
    "# X_categorical = pd.get_dummies(pd.DataFrame(X_categorical)).values\n",
    "X_categorical = tf.keras.utils.to_categorical(X_categorical)\n",
    "\n",
    "# Normalize numerical variables\n",
    "X_numerical = X[:, scaling_columns_indexes]\n",
    "X_numerical = (X_numerical - X_numerical.mean()) / X_numerical.std()\n",
    "\n",
    "# Concatenate the processed numerical and categorical variables\n",
    "X = np.concatenate((X_categorical, X_numerical), axis=1)\n",
    "\n",
    "# One-hot encode target variable\n",
    "y = tf.keras.utils.to_categorical(y)\n",
    "\n",
    "# Build the generator\n",
    "def build_generator():\n",
    "    model = tf.keras.Sequential()\n",
    "    model.add(tf.keras.layers.Dense(64, input_dim=X.shape[1], activation='relu'))\n",
    "    model.add(tf.keras.layers.Dense(64, activation='relu'))\n",
    "    model.add(tf.keras.layers.Dense(X.shape[1], activation='relu'))\n",
    "    return model\n",
    "\n",
    "# Build the discriminator\n",
    "def build_discriminator():\n",
    "    model = tf.keras.Sequential()\n",
    "    model.add(tf.keras.layers.Dense(64, input_dim=X.shape[1], activation='relu'))\n",
    "    model.add(tf.keras.layers.Dense(64, activation='relu'))\n",
    "    model.add(tf.keras.layers.Dense(1, activation='sigmoid'))\n",
    "    return model\n",
    "\n",
    "# Build and compile GAN\n",
    "def build_gan(discriminator, generator):\n",
    "    model = tf.keras.Sequential()\n",
    "    model = tf.keras.Model(inputs=generator.input, outputs=discriminator(generator.output))\n",
    "    model.compile(loss='binary_crossentropy', optimizer='adam')\n",
    "    return model\n",
    "\n",
    "\n",
    "# Create instances of generator and discriminator\n",
    "generator = build_generator()\n",
    "discriminator = build_discriminator()\n",
    "\n",
    "# Create GAN\n",
    "gan = build_gan(discriminator, generator)\n",
    "\n",
    "# y = np.random.rand(1000, 1)\n",
    "# y = y.astype('float32')\n",
    "\n",
    "# # Fit GAN on data\n",
    "# gan.fit(X, y, epochs=200, batch_size=32)\n",
    "\n",
    "# def generate_minority_data(generator, num_samples):\n",
    "#     minority_class_indices = np.where(y == 1)[0]\n",
    "#     minority_class_data = X[minority_class_indices]\n",
    "#     generated_data = generator.predict(np.random.rand(num_samples, X.shape[1]))\n",
    "#     generated_data[np.where(generated_data > 0.5)] = 1\n",
    "#     generated_data[np.where(generated_data <= 0.5)] = 0\n",
    "#     generated_data = np.concatenate((generated_data, minority_class_data))\n",
    "#     return generated_data\n",
    "\n",
    "# # Generate 1000 samples of new data from minority class\n",
    "# new_data = generate_minority_data(generator, 1000)\n",
    "\n"
   ]
  },
  {
   "cell_type": "code",
   "execution_count": 119,
   "metadata": {},
   "outputs": [
    {
     "name": "stdout",
     "output_type": "stream",
     "text": [
      "Collecting scipy==1.4.1"
     ]
    },
    {
     "name": "stderr",
     "output_type": "stream",
     "text": [
      "WARNING: Retrying (Retry(total=4, connect=None, read=None, redirect=None, status=None)) after connection broken by 'NewConnectionError('<pip._vendor.urllib3.connection.HTTPSConnection object at 0x000002A032E00400>: Failed to establish a new connection: [Errno 11001] getaddrinfo failed')': /simple/scipy/\n",
      "WARNING: Retrying (Retry(total=3, connect=None, read=None, redirect=None, status=None)) after connection broken by 'NewConnectionError('<pip._vendor.urllib3.connection.HTTPSConnection object at 0x000002A032E00430>: Failed to establish a new connection: [Errno 11001] getaddrinfo failed')': /simple/scipy/\n",
      "WARNING: Retrying (Retry(total=2, connect=None, read=None, redirect=None, status=None)) after connection broken by 'NewConnectionError('<pip._vendor.urllib3.connection.HTTPSConnection object at 0x000002A032E18670>: Failed to establish a new connection: [Errno 11001] getaddrinfo failed')': /simple/scipy/\n",
      "WARNING: Retrying (Retry(total=1, connect=None, read=None, redirect=None, status=None)) after connection broken by 'NewConnectionError('<pip._vendor.urllib3.connection.HTTPSConnection object at 0x000002A032E186A0>: Failed to establish a new connection: [Errno 11001] getaddrinfo failed')': /simple/scipy/\n",
      "WARNING: Retrying (Retry(total=0, connect=None, read=None, redirect=None, status=None)) after connection broken by 'NewConnectionError('<pip._vendor.urllib3.connection.HTTPSConnection object at 0x000002A032E18850>: Failed to establish a new connection: [Errno 11001] getaddrinfo failed')': /simple/scipy/\n",
      "  error: subprocess-exited-with-error\n",
      "  \n",
      "  × pip subprocess to install build dependencies did not run successfully.\n",
      "  │ exit code: 1\n",
      "  ╰─> [613 lines of output]\n",
      "      Ignoring numpy: markers 'python_version == \"3.5\" and platform_system != \"AIX\"' don't match your environment\n",
      "      Ignoring numpy: markers 'python_version == \"3.6\" and platform_system != \"AIX\"' don't match your environment\n",
      "      Ignoring numpy: markers 'python_version == \"3.7\" and platform_system != \"AIX\"' don't match your environment\n",
      "      Ignoring numpy: markers 'python_version == \"3.5\" and platform_system == \"AIX\"' don't match your environment\n",
      "      Ignoring numpy: markers 'python_version == \"3.6\" and platform_system == \"AIX\"' don't match your environment\n",
      "      Ignoring numpy: markers 'python_version == \"3.7\" and platform_system == \"AIX\"' don't match your environment\n",
      "      Ignoring numpy: markers 'python_version >= \"3.8\" and platform_system == \"AIX\"' don't match your environment\n",
      "      Collecting wheel\n",
      "        Using cached wheel-0.38.4-py3-none-any.whl (36 kB)\n",
      "      Collecting setuptools\n",
      "        Using cached setuptools-66.1.0-py3-none-any.whl (1.3 MB)\n",
      "      Collecting Cython>=0.29.13\n",
      "        Using cached Cython-0.29.33-py2.py3-none-any.whl (987 kB)\n",
      "      Collecting numpy==1.17.3\n",
      "        Using cached numpy-1.17.3.zip (6.4 MB)\n",
      "        Preparing metadata (setup.py): started\n",
      "        Preparing metadata (setup.py): finished with status 'done'\n",
      "      Collecting pybind11>=2.4.0\n",
      "        Using cached pybind11-2.10.3-py3-none-any.whl (222 kB)\n",
      "      Building wheels for collected packages: numpy\n",
      "        Building wheel for numpy (setup.py): started\n",
      "        Building wheel for numpy (setup.py): finished with status 'error'\n",
      "        error: subprocess-exited-with-error\n",
      "      \n",
      "        Ã— python setup.py bdist_wheel did not run successfully.\n",
      "        â”‚ exit code: 1\n",
      "        â•°â”€> [268 lines of output]\n",
      "            Running from numpy source directory.\n",
      "            blas_opt_info:\n",
      "            blas_mkl_info:\n",
      "            No module named 'numpy.distutils._msvccompiler' in numpy.distutils; trying from distutils\n",
      "            customize MSVCCompiler\n",
      "              libraries mkl_rt not found in ['C:\\\\Users\\\\arist\\\\anaconda3\\\\lib', 'C:\\\\', 'C:\\\\Users\\\\arist\\\\anaconda3\\\\libs']\n",
      "              NOT AVAILABLE\n",
      "      \n",
      "            blis_info:\n",
      "            No module named 'numpy.distutils._msvccompiler' in numpy.distutils; trying from distutils\n",
      "            customize MSVCCompiler\n",
      "              libraries blis not found in ['C:\\\\Users\\\\arist\\\\anaconda3\\\\lib', 'C:\\\\', 'C:\\\\Users\\\\arist\\\\anaconda3\\\\libs']\n",
      "              NOT AVAILABLE\n",
      "      \n",
      "            openblas_info:\n",
      "            No module named 'numpy.distutils._msvccompiler' in numpy.distutils; trying from distutils\n",
      "            customize MSVCCompiler\n",
      "            No module named 'numpy.distutils._msvccompiler' in numpy.distutils; trying from distutils\n",
      "            customize MSVCCompiler\n",
      "              libraries openblas not found in ['C:\\\\Users\\\\arist\\\\anaconda3\\\\lib', 'C:\\\\', 'C:\\\\Users\\\\arist\\\\anaconda3\\\\libs']\n",
      "            get_default_fcompiler: matching types: '['gnu', 'intelv', 'absoft', 'compaqv', 'intelev', 'gnu95', 'g95', 'intelvem', 'intelem', 'flang']'\n",
      "            customize GnuFCompiler\n",
      "            Could not locate executable g77\n",
      "            Could not locate executable f77\n",
      "            customize IntelVisualFCompiler\n",
      "            Could not locate executable ifort\n",
      "            Could not locate executable ifl\n",
      "            customize AbsoftFCompiler\n",
      "            Could not locate executable f90\n",
      "            customize CompaqVisualFCompiler\n",
      "            Could not locate executable DF\n",
      "            customize IntelItaniumVisualFCompiler\n",
      "            Could not locate executable efl\n",
      "            customize Gnu95FCompiler\n",
      "            Could not locate executable gfortran\n",
      "            Could not locate executable f95\n",
      "            customize G95FCompiler\n",
      "            Could not locate executable g95\n",
      "            customize IntelEM64VisualFCompiler\n",
      "            customize IntelEM64TFCompiler\n",
      "            Could not locate executable efort\n",
      "            Could not locate executable efc\n",
      "            customize PGroupFlangCompiler\n",
      "            Could not locate executable flang\n",
      "            don't know how to compile Fortran code on platform 'nt'\n",
      "              NOT AVAILABLE\n",
      "      \n",
      "            atlas_3_10_blas_threads_info:\n",
      "            Setting PTATLAS=ATLAS\n",
      "            No module named 'numpy.distutils._msvccompiler' in numpy.distutils; trying from distutils\n",
      "            customize MSVCCompiler\n",
      "              libraries tatlas not found in ['C:\\\\Users\\\\arist\\\\anaconda3\\\\lib', 'C:\\\\', 'C:\\\\Users\\\\arist\\\\anaconda3\\\\libs']\n",
      "              NOT AVAILABLE\n",
      "      \n",
      "            atlas_3_10_blas_info:\n",
      "            No module named 'numpy.distutils._msvccompiler' in numpy.distutils; trying from distutils\n",
      "            customize MSVCCompiler\n",
      "              libraries satlas not found in ['C:\\\\Users\\\\arist\\\\anaconda3\\\\lib', 'C:\\\\', 'C:\\\\Users\\\\arist\\\\anaconda3\\\\libs']\n",
      "              NOT AVAILABLE\n",
      "      \n",
      "            atlas_blas_threads_info:\n",
      "            Setting PTATLAS=ATLAS\n",
      "            No module named 'numpy.distutils._msvccompiler' in numpy.distutils; trying from distutils\n",
      "            customize MSVCCompiler\n",
      "              libraries ptf77blas,ptcblas,atlas not found in ['C:\\\\Users\\\\arist\\\\anaconda3\\\\lib', 'C:\\\\', 'C:\\\\Users\\\\arist\\\\anaconda3\\\\libs']\n",
      "              NOT AVAILABLE\n",
      "      \n",
      "            atlas_blas_info:\n",
      "            No module named 'numpy.distutils._msvccompiler' in numpy.distutils; trying from distutils\n",
      "            customize MSVCCompiler\n",
      "              libraries f77blas,cblas,atlas not found in ['C:\\\\Users\\\\arist\\\\anaconda3\\\\lib', 'C:\\\\', 'C:\\\\Users\\\\arist\\\\anaconda3\\\\libs']\n",
      "              NOT AVAILABLE\n",
      "      \n",
      "            accelerate_info:\n",
      "              NOT AVAILABLE\n",
      "      \n",
      "            C:\\Users\\arist\\AppData\\Local\\Temp\\pip-install-ivy3rtbe\\numpy_ab543ad2a1404c54a96f54380be079ea\\numpy\\distutils\\system_info.py:690: UserWarning:\n",
      "                Optimized (vendor) Blas libraries are not found.\n",
      "                Falls back to netlib Blas library which has worse performance.\n",
      "                A better performance should be easily gained by switching\n",
      "                Blas library.\n",
      "              self.calc_info()\n",
      "            blas_info:\n",
      "            No module named 'numpy.distutils._msvccompiler' in numpy.distutils; trying from distutils\n",
      "            customize MSVCCompiler\n",
      "              libraries blas not found in ['C:\\\\Users\\\\arist\\\\anaconda3\\\\lib', 'C:\\\\', 'C:\\\\Users\\\\arist\\\\anaconda3\\\\libs']\n",
      "              NOT AVAILABLE\n",
      "      \n",
      "            C:\\Users\\arist\\AppData\\Local\\Temp\\pip-install-ivy3rtbe\\numpy_ab543ad2a1404c54a96f54380be079ea\\numpy\\distutils\\system_info.py:690: UserWarning:\n",
      "                Blas (http://www.netlib.org/blas/) libraries not found.\n",
      "                Directories to search for the libraries can be specified in the\n",
      "                numpy/distutils/site.cfg file (section [blas]) or by setting\n",
      "                the BLAS environment variable.\n",
      "              self.calc_info()\n",
      "            blas_src_info:\n",
      "              NOT AVAILABLE\n",
      "      \n",
      "            C:\\Users\\arist\\AppData\\Local\\Temp\\pip-install-ivy3rtbe\\numpy_ab543ad2a1404c54a96f54380be079ea\\numpy\\distutils\\system_info.py:690: UserWarning:\n",
      "                Blas (http://www.netlib.org/blas/) sources not found.\n",
      "                Directories to search for the sources can be specified in the\n",
      "                numpy/distutils/site.cfg file (section [blas_src]) or by setting\n",
      "                the BLAS_SRC environment variable.\n",
      "              self.calc_info()\n",
      "              NOT AVAILABLE\n",
      "      \n",
      "            'svnversion' n'est pas reconnu en tant que commande interne\n",
      "            ou externe, un programme exâ€šcutable ou un fichier de commandes.\n",
      "            non-existing path in 'numpy\\\\distutils': 'site.cfg'\n",
      "            lapack_opt_info:\n",
      "            lapack_mkl_info:\n",
      "            No module named 'numpy.distutils._msvccompiler' in numpy.distutils; trying from distutils\n",
      "            customize MSVCCompiler\n",
      "              libraries mkl_rt not found in ['C:\\\\Users\\\\arist\\\\anaconda3\\\\lib', 'C:\\\\', 'C:\\\\Users\\\\arist\\\\anaconda3\\\\libs']\n",
      "              NOT AVAILABLE\n",
      "      \n",
      "            openblas_lapack_info:\n",
      "            No module named 'numpy.distutils._msvccompiler' in numpy.distutils; trying from distutils\n",
      "            customize MSVCCompiler\n",
      "            No module named 'numpy.distutils._msvccompiler' in numpy.distutils; trying from distutils\n",
      "            customize MSVCCompiler\n",
      "              libraries openblas not found in ['C:\\\\Users\\\\arist\\\\anaconda3\\\\lib', 'C:\\\\', 'C:\\\\Users\\\\arist\\\\anaconda3\\\\libs']\n",
      "              NOT AVAILABLE\n",
      "      \n",
      "            openblas_clapack_info:\n",
      "            No module named 'numpy.distutils._msvccompiler' in numpy.distutils; trying from distutils\n",
      "            customize MSVCCompiler\n",
      "            No module named 'numpy.distutils._msvccompiler' in numpy.distutils; trying from distutils\n",
      "            customize MSVCCompiler\n",
      "              libraries openblas,lapack not found in ['C:\\\\Users\\\\arist\\\\anaconda3\\\\lib', 'C:\\\\', 'C:\\\\Users\\\\arist\\\\anaconda3\\\\libs']\n",
      "              NOT AVAILABLE\n",
      "      \n",
      "            flame_info:\n",
      "            No module named 'numpy.distutils._msvccompiler' in numpy.distutils; trying from distutils\n",
      "            customize MSVCCompiler\n",
      "              libraries flame not found in ['C:\\\\Users\\\\arist\\\\anaconda3\\\\lib', 'C:\\\\', 'C:\\\\Users\\\\arist\\\\anaconda3\\\\libs']\n",
      "              NOT AVAILABLE\n",
      "      \n",
      "            atlas_3_10_threads_info:\n",
      "            Setting PTATLAS=ATLAS\n",
      "            No module named 'numpy.distutils._msvccompiler' in numpy.distutils; trying from distutils\n",
      "            customize MSVCCompiler\n",
      "              libraries lapack_atlas not found in C:\\Users\\arist\\anaconda3\\lib\n",
      "            No module named 'numpy.distutils._msvccompiler' in numpy.distutils; trying from distutils\n",
      "            customize MSVCCompiler\n",
      "              libraries tatlas,tatlas not found in C:\\Users\\arist\\anaconda3\\lib\n",
      "            No module named 'numpy.distutils._msvccompiler' in numpy.distutils; trying from distutils\n",
      "            customize MSVCCompiler\n",
      "              libraries lapack_atlas not found in C:\\\n",
      "            No module named 'numpy.distutils._msvccompiler' in numpy.distutils; trying from distutils\n",
      "            customize MSVCCompiler\n",
      "              libraries tatlas,tatlas not found in C:\\\n",
      "            No module named 'numpy.distutils._msvccompiler' in numpy.distutils; trying from distutils\n",
      "            customize MSVCCompiler\n",
      "              libraries lapack_atlas not found in C:\\Users\\arist\\anaconda3\\libs\n",
      "            No module named 'numpy.distutils._msvccompiler' in numpy.distutils; trying from distutils\n",
      "            customize MSVCCompiler\n",
      "              libraries tatlas,tatlas not found in C:\\Users\\arist\\anaconda3\\libs\n",
      "            <class 'numpy.distutils.system_info.atlas_3_10_threads_info'>\n",
      "              NOT AVAILABLE\n",
      "      \n",
      "            atlas_3_10_info:\n",
      "            No module named 'numpy.distutils._msvccompiler' in numpy.distutils; trying from distutils\n",
      "            customize MSVCCompiler\n",
      "              libraries lapack_atlas not found in C:\\Users\\arist\\anaconda3\\lib\n",
      "            No module named 'numpy.distutils._msvccompiler' in numpy.distutils; trying from distutils\n",
      "            customize MSVCCompiler\n",
      "              libraries satlas,satlas not found in C:\\Users\\arist\\anaconda3\\lib\n",
      "            No module named 'numpy.distutils._msvccompiler' in numpy.distutils; trying from distutils\n",
      "            customize MSVCCompiler\n",
      "              libraries lapack_atlas not found in C:\\\n",
      "            No module named 'numpy.distutils._msvccompiler' in numpy.distutils; trying from distutils\n",
      "            customize MSVCCompiler\n",
      "              libraries satlas,satlas not found in C:\\\n",
      "            No module named 'numpy.distutils._msvccompiler' in numpy.distutils; trying from distutils\n",
      "            customize MSVCCompiler\n",
      "              libraries lapack_atlas not found in C:\\Users\\arist\\anaconda3\\libs\n",
      "            No module named 'numpy.distutils._msvccompiler' in numpy.distutils; trying from distutils\n",
      "            customize MSVCCompiler\n",
      "              libraries satlas,satlas not found in C:\\Users\\arist\\anaconda3\\libs\n",
      "            <class 'numpy.distutils.system_info.atlas_3_10_info'>\n",
      "              NOT AVAILABLE\n",
      "      \n",
      "            atlas_threads_info:\n",
      "            Setting PTATLAS=ATLAS\n",
      "            No module named 'numpy.distutils._msvccompiler' in numpy.distutils; trying from distutils\n",
      "            customize MSVCCompiler\n",
      "              libraries lapack_atlas not found in C:\\Users\\arist\\anaconda3\\lib\n",
      "            No module named 'numpy.distutils._msvccompiler' in numpy.distutils; trying from distutils\n",
      "            customize MSVCCompiler\n",
      "              libraries ptf77blas,ptcblas,atlas not found in C:\\Users\\arist\\anaconda3\\lib\n",
      "            No module named 'numpy.distutils._msvccompiler' in numpy.distutils; trying from distutils\n",
      "            customize MSVCCompiler\n",
      "              libraries lapack_atlas not found in C:\\\n",
      "            No module named 'numpy.distutils._msvccompiler' in numpy.distutils; trying from distutils\n",
      "            customize MSVCCompiler\n",
      "              libraries ptf77blas,ptcblas,atlas not found in C:\\\n",
      "            No module named 'numpy.distutils._msvccompiler' in numpy.distutils; trying from distutils\n",
      "            customize MSVCCompiler\n",
      "              libraries lapack_atlas not found in C:\\Users\\arist\\anaconda3\\libs\n",
      "            No module named 'numpy.distutils._msvccompiler' in numpy.distutils; trying from distutils\n",
      "            customize MSVCCompiler\n",
      "              libraries ptf77blas,ptcblas,atlas not found in C:\\Users\\arist\\anaconda3\\libs\n",
      "            <class 'numpy.distutils.system_info.atlas_threads_info'>\n",
      "              NOT AVAILABLE\n",
      "      \n",
      "            atlas_info:\n",
      "            No module named 'numpy.distutils._msvccompiler' in numpy.distutils; trying from distutils\n",
      "            customize MSVCCompiler\n",
      "              libraries lapack_atlas not found in C:\\Users\\arist\\anaconda3\\lib\n",
      "            No module named 'numpy.distutils._msvccompiler' in numpy.distutils; trying from distutils\n",
      "            customize MSVCCompiler\n",
      "              libraries f77blas,cblas,atlas not found in C:\\Users\\arist\\anaconda3\\lib\n",
      "            No module named 'numpy.distutils._msvccompiler' in numpy.distutils; trying from distutils\n",
      "            customize MSVCCompiler\n",
      "              libraries lapack_atlas not found in C:\\\n",
      "            No module named 'numpy.distutils._msvccompiler' in numpy.distutils; trying from distutils\n",
      "            customize MSVCCompiler\n",
      "              libraries f77blas,cblas,atlas not found in C:\\\n",
      "            No module named 'numpy.distutils._msvccompiler' in numpy.distutils; trying from distutils\n",
      "            customize MSVCCompiler\n",
      "              libraries lapack_atlas not found in C:\\Users\\arist\\anaconda3\\libs\n",
      "            No module named 'numpy.distutils._msvccompiler' in numpy.distutils; trying from distutils\n",
      "            customize MSVCCompiler\n",
      "              libraries f77blas,cblas,atlas not found in C:\\Users\\arist\\anaconda3\\libs\n",
      "            <class 'numpy.distutils.system_info.atlas_info'>\n",
      "              NOT AVAILABLE\n",
      "      \n",
      "            lapack_info:\n",
      "            No module named 'numpy.distutils._msvccompiler' in numpy.distutils; trying from distutils\n",
      "            customize MSVCCompiler\n",
      "              libraries lapack not found in ['C:\\\\Users\\\\arist\\\\anaconda3\\\\lib', 'C:\\\\', 'C:\\\\Users\\\\arist\\\\anaconda3\\\\libs']\n",
      "              NOT AVAILABLE\n",
      "      \n",
      "            C:\\Users\\arist\\AppData\\Local\\Temp\\pip-install-ivy3rtbe\\numpy_ab543ad2a1404c54a96f54380be079ea\\numpy\\distutils\\system_info.py:1712: UserWarning:\n",
      "                Lapack (http://www.netlib.org/lapack/) libraries not found.\n",
      "                Directories to search for the libraries can be specified in the\n",
      "                numpy/distutils/site.cfg file (section [lapack]) or by setting\n",
      "                the LAPACK environment variable.\n",
      "              if getattr(self, '_calc_info_{}'.format(lapack))():\n",
      "            lapack_src_info:\n",
      "              NOT AVAILABLE\n",
      "      \n",
      "            C:\\Users\\arist\\AppData\\Local\\Temp\\pip-install-ivy3rtbe\\numpy_ab543ad2a1404c54a96f54380be079ea\\numpy\\distutils\\system_info.py:1712: UserWarning:\n",
      "                Lapack (http://www.netlib.org/lapack/) sources not found.\n",
      "                Directories to search for the sources can be specified in the\n",
      "                numpy/distutils/site.cfg file (section [lapack_src]) or by setting\n",
      "                the LAPACK_SRC environment variable.\n",
      "              if getattr(self, '_calc_info_{}'.format(lapack))():\n",
      "              NOT AVAILABLE\n",
      "      \n",
      "            C:\\Users\\arist\\anaconda3\\lib\\site-packages\\setuptools\\_distutils\\dist.py:264: UserWarning: Unknown distribution option: 'define_macros'\n",
      "              warnings.warn(msg)\n",
      "            running bdist_wheel\n",
      "            running build\n",
      "            running config_cc\n",
      "            unifing config_cc, config, build_clib, build_ext, build commands --compiler options\n",
      "            running config_fc\n",
      "            unifing config_fc, config, build_clib, build_ext, build commands --fcompiler options\n",
      "            running build_src\n",
      "            build_src\n",
      "            building py_modules sources\n",
      "            creating build\n",
      "            creating build\\src.win-amd64-3.9\n",
      "            creating build\\src.win-amd64-3.9\\numpy\n",
      "            creating build\\src.win-amd64-3.9\\numpy\\distutils\n",
      "            building library \"npymath\" sources\n",
      "            No module named 'numpy.distutils._msvccompiler' in numpy.distutils; trying from distutils\n",
      "            error: Microsoft Visual C++ 14.0 or greater is required. Get it with \"Microsoft C++ Build Tools\": https://visualstudio.microsoft.com/visual-cpp-build-tools/\n",
      "            [end of output]\n",
      "      \n",
      "        note: This error originates from a subprocess, and is likely not a problem with pip.\n",
      "        ERROR: Failed building wheel for numpy\n",
      "        Running setup.py clean for numpy\n",
      "        error: subprocess-exited-with-error\n",
      "      \n",
      "        Ã— python setup.py clean did not run successfully.\n",
      "        â”‚ exit code: 1\n",
      "        â•°â”€> [10 lines of output]\n",
      "            Running from numpy source directory.\n",
      "      \n",
      "            `setup.py clean` is not supported, use one of the following instead:\n",
      "      \n",
      "              - `git clean -xdf` (cleans all files)\n",
      "              - `git clean -Xdf` (cleans all versioned files, doesn't touch\n",
      "                                  files that aren't checked into the git repo)\n",
      "      \n",
      "            Add `--force` to your command to use it anyway if you must (unsupported).\n",
      "      \n",
      "            [end of output]\n",
      "      \n",
      "        note: This error originates from a subprocess, and is likely not a problem with pip.\n",
      "        ERROR: Failed cleaning build dir for numpy\n",
      "      Failed to build numpy\n",
      "      Installing collected packages: wheel, setuptools, pybind11, numpy, Cython\n",
      "        Running setup.py install for numpy: started\n",
      "        Running setup.py install for numpy: finished with status 'error'\n",
      "        error: subprocess-exited-with-error\n",
      "      \n",
      "        Ã— Running setup.py install for numpy did not run successfully.\n",
      "        â”‚ exit code: 1\n",
      "        â•°â”€> [275 lines of output]\n",
      "            Running from numpy source directory.\n",
      "      \n",
      "            Note: if you need reliable uninstall behavior, then install\n",
      "            with pip instead of using `setup.py install`:\n",
      "      \n",
      "              - `pip install .`       (from a git repo or downloaded source\n",
      "                                       release)\n",
      "              - `pip install numpy`   (last NumPy release on PyPi)\n",
      "      \n",
      "      \n",
      "            blas_opt_info:\n",
      "            blas_mkl_info:\n",
      "            No module named 'numpy.distutils._msvccompiler' in numpy.distutils; trying from distutils\n",
      "            customize MSVCCompiler\n",
      "              libraries mkl_rt not found in ['C:\\\\Users\\\\arist\\\\anaconda3\\\\lib', 'C:\\\\', 'C:\\\\Users\\\\arist\\\\anaconda3\\\\libs']\n",
      "              NOT AVAILABLE\n",
      "      \n",
      "            blis_info:\n",
      "            No module named 'numpy.distutils._msvccompiler' in numpy.distutils; trying from distutils\n",
      "            customize MSVCCompiler\n",
      "              libraries blis not found in ['C:\\\\Users\\\\arist\\\\anaconda3\\\\lib', 'C:\\\\', 'C:\\\\Users\\\\arist\\\\anaconda3\\\\libs']\n",
      "              NOT AVAILABLE\n",
      "      \n",
      "            openblas_info:\n",
      "            No module named 'numpy.distutils._msvccompiler' in numpy.distutils; trying from distutils\n",
      "            customize MSVCCompiler\n",
      "            No module named 'numpy.distutils._msvccompiler' in numpy.distutils; trying from distutils\n",
      "            customize MSVCCompiler\n",
      "              libraries openblas not found in ['C:\\\\Users\\\\arist\\\\anaconda3\\\\lib', 'C:\\\\', 'C:\\\\Users\\\\arist\\\\anaconda3\\\\libs']\n",
      "            get_default_fcompiler: matching types: '['gnu', 'intelv', 'absoft', 'compaqv', 'intelev', 'gnu95', 'g95', 'intelvem', 'intelem', 'flang']'\n",
      "            customize GnuFCompiler\n",
      "            Could not locate executable g77\n",
      "            Could not locate executable f77\n",
      "            customize IntelVisualFCompiler\n",
      "            Could not locate executable ifort\n",
      "            Could not locate executable ifl\n",
      "            customize AbsoftFCompiler\n",
      "            Could not locate executable f90\n",
      "            customize CompaqVisualFCompiler\n",
      "            Could not locate executable DF\n",
      "            customize IntelItaniumVisualFCompiler\n",
      "            Could not locate executable efl\n",
      "            customize Gnu95FCompiler\n",
      "            Could not locate executable gfortran\n",
      "            Could not locate executable f95\n",
      "            customize G95FCompiler\n",
      "            Could not locate executable g95\n",
      "            customize IntelEM64VisualFCompiler\n",
      "            customize IntelEM64TFCompiler\n",
      "            Could not locate executable efort\n",
      "            Could not locate executable efc\n",
      "            customize PGroupFlangCompiler\n",
      "            Could not locate executable flang\n",
      "            don't know how to compile Fortran code on platform 'nt'\n",
      "              NOT AVAILABLE\n",
      "      \n",
      "            atlas_3_10_blas_threads_info:\n",
      "            Setting PTATLAS=ATLAS\n",
      "            No module named 'numpy.distutils._msvccompiler' in numpy.distutils; trying from distutils\n",
      "            customize MSVCCompiler\n",
      "              libraries tatlas not found in ['C:\\\\Users\\\\arist\\\\anaconda3\\\\lib', 'C:\\\\', 'C:\\\\Users\\\\arist\\\\anaconda3\\\\libs']\n",
      "              NOT AVAILABLE\n",
      "      \n",
      "            atlas_3_10_blas_info:\n",
      "            No module named 'numpy.distutils._msvccompiler' in numpy.distutils; trying from distutils\n",
      "            customize MSVCCompiler\n",
      "              libraries satlas not found in ['C:\\\\Users\\\\arist\\\\anaconda3\\\\lib', 'C:\\\\', 'C:\\\\Users\\\\arist\\\\anaconda3\\\\libs']\n",
      "              NOT AVAILABLE\n",
      "      \n",
      "            atlas_blas_threads_info:\n",
      "            Setting PTATLAS=ATLAS\n",
      "            No module named 'numpy.distutils._msvccompiler' in numpy.distutils; trying from distutils\n",
      "            customize MSVCCompiler\n",
      "              libraries ptf77blas,ptcblas,atlas not found in ['C:\\\\Users\\\\arist\\\\anaconda3\\\\lib', 'C:\\\\', 'C:\\\\Users\\\\arist\\\\anaconda3\\\\libs']\n",
      "              NOT AVAILABLE\n",
      "      \n",
      "            atlas_blas_info:\n",
      "            No module named 'numpy.distutils._msvccompiler' in numpy.distutils; trying from distutils\n",
      "            customize MSVCCompiler\n",
      "              libraries f77blas,cblas,atlas not found in ['C:\\\\Users\\\\arist\\\\anaconda3\\\\lib', 'C:\\\\', 'C:\\\\Users\\\\arist\\\\anaconda3\\\\libs']\n",
      "              NOT AVAILABLE\n",
      "      \n",
      "            accelerate_info:\n",
      "              NOT AVAILABLE\n",
      "      \n",
      "            C:\\Users\\arist\\AppData\\Local\\Temp\\pip-install-ivy3rtbe\\numpy_ab543ad2a1404c54a96f54380be079ea\\numpy\\distutils\\system_info.py:690: UserWarning:\n",
      "                Optimized (vendor) Blas libraries are not found.\n",
      "                Falls back to netlib Blas library which has worse performance.\n",
      "                A better performance should be easily gained by switching\n",
      "                Blas library.\n",
      "              self.calc_info()\n",
      "            blas_info:\n",
      "            No module named 'numpy.distutils._msvccompiler' in numpy.distutils; trying from distutils\n",
      "            customize MSVCCompiler\n",
      "              libraries blas not found in ['C:\\\\Users\\\\arist\\\\anaconda3\\\\lib', 'C:\\\\', 'C:\\\\Users\\\\arist\\\\anaconda3\\\\libs']\n",
      "              NOT AVAILABLE\n",
      "      \n",
      "            C:\\Users\\arist\\AppData\\Local\\Temp\\pip-install-ivy3rtbe\\numpy_ab543ad2a1404c54a96f54380be079ea\\numpy\\distutils\\system_info.py:690: UserWarning:\n",
      "                Blas (http://www.netlib.org/blas/) libraries not found.\n",
      "                Directories to search for the libraries can be specified in the\n",
      "                numpy/distutils/site.cfg file (section [blas]) or by setting\n",
      "                the BLAS environment variable.\n",
      "              self.calc_info()\n",
      "            blas_src_info:\n",
      "              NOT AVAILABLE\n",
      "      \n",
      "            C:\\Users\\arist\\AppData\\Local\\Temp\\pip-install-ivy3rtbe\\numpy_ab543ad2a1404c54a96f54380be079ea\\numpy\\distutils\\system_info.py:690: UserWarning:\n",
      "                Blas (http://www.netlib.org/blas/) sources not found.\n",
      "                Directories to search for the sources can be specified in the\n",
      "                numpy/distutils/site.cfg file (section [blas_src]) or by setting\n",
      "                the BLAS_SRC environment variable.\n",
      "              self.calc_info()\n",
      "              NOT AVAILABLE\n",
      "      \n",
      "            'svnversion' n'est pas reconnu en tant que commande interne\n",
      "            ou externe, un programme exâ€šcutable ou un fichier de commandes.\n",
      "            non-existing path in 'numpy\\\\distutils': 'site.cfg'\n",
      "            lapack_opt_info:\n",
      "            lapack_mkl_info:\n",
      "            No module named 'numpy.distutils._msvccompiler' in numpy.distutils; trying from distutils\n",
      "            customize MSVCCompiler\n",
      "              libraries mkl_rt not found in ['C:\\\\Users\\\\arist\\\\anaconda3\\\\lib', 'C:\\\\', 'C:\\\\Users\\\\arist\\\\anaconda3\\\\libs']\n",
      "              NOT AVAILABLE\n",
      "      \n",
      "            openblas_lapack_info:\n",
      "            No module named 'numpy.distutils._msvccompiler' in numpy.distutils; trying from distutils\n",
      "            customize MSVCCompiler\n",
      "            No module named 'numpy.distutils._msvccompiler' in numpy.distutils; trying from distutils\n",
      "            customize MSVCCompiler\n",
      "              libraries openblas not found in ['C:\\\\Users\\\\arist\\\\anaconda3\\\\lib', 'C:\\\\', 'C:\\\\Users\\\\arist\\\\anaconda3\\\\libs']\n",
      "              NOT AVAILABLE\n",
      "      \n",
      "            openblas_clapack_info:\n",
      "            No module named 'numpy.distutils._msvccompiler' in numpy.distutils; trying from distutils\n",
      "            customize MSVCCompiler\n",
      "            No module named 'numpy.distutils._msvccompiler' in numpy.distutils; trying from distutils\n",
      "            customize MSVCCompiler\n",
      "              libraries openblas,lapack not found in ['C:\\\\Users\\\\arist\\\\anaconda3\\\\lib', 'C:\\\\', 'C:\\\\Users\\\\arist\\\\anaconda3\\\\libs']\n",
      "              NOT AVAILABLE\n",
      "      \n",
      "            flame_info:\n",
      "            No module named 'numpy.distutils._msvccompiler' in numpy.distutils; trying from distutils\n",
      "            customize MSVCCompiler\n",
      "              libraries flame not found in ['C:\\\\Users\\\\arist\\\\anaconda3\\\\lib', 'C:\\\\', 'C:\\\\Users\\\\arist\\\\anaconda3\\\\libs']\n",
      "              NOT AVAILABLE\n",
      "      \n",
      "            atlas_3_10_threads_info:\n",
      "            Setting PTATLAS=ATLAS\n",
      "            No module named 'numpy.distutils._msvccompiler' in numpy.distutils; trying from distutils\n",
      "            customize MSVCCompiler\n",
      "              libraries lapack_atlas not found in C:\\Users\\arist\\anaconda3\\lib\n",
      "            No module named 'numpy.distutils._msvccompiler' in numpy.distutils; trying from distutils\n",
      "            customize MSVCCompiler\n",
      "              libraries tatlas,tatlas not found in C:\\Users\\arist\\anaconda3\\lib\n",
      "            No module named 'numpy.distutils._msvccompiler' in numpy.distutils; trying from distutils\n",
      "            customize MSVCCompiler\n",
      "              libraries lapack_atlas not found in C:\\\n",
      "            No module named 'numpy.distutils._msvccompiler' in numpy.distutils; trying from distutils\n",
      "            customize MSVCCompiler\n",
      "              libraries tatlas,tatlas not found in C:\\\n",
      "            No module named 'numpy.distutils._msvccompiler' in numpy.distutils; trying from distutils\n",
      "            customize MSVCCompiler\n",
      "              libraries lapack_atlas not found in C:\\Users\\arist\\anaconda3\\libs\n",
      "            No module named 'numpy.distutils._msvccompiler' in numpy.distutils; trying from distutils\n",
      "            customize MSVCCompiler\n",
      "              libraries tatlas,tatlas not found in C:\\Users\\arist\\anaconda3\\libs\n",
      "            <class 'numpy.distutils.system_info.atlas_3_10_threads_info'>\n",
      "              NOT AVAILABLE\n",
      "      \n",
      "            atlas_3_10_info:\n",
      "            No module named 'numpy.distutils._msvccompiler' in numpy.distutils; trying from distutils\n",
      "            customize MSVCCompiler\n",
      "              libraries lapack_atlas not found in C:\\Users\\arist\\anaconda3\\lib\n",
      "            No module named 'numpy.distutils._msvccompiler' in numpy.distutils; trying from distutils\n",
      "            customize MSVCCompiler\n",
      "              libraries satlas,satlas not found in C:\\Users\\arist\\anaconda3\\lib\n",
      "            No module named 'numpy.distutils._msvccompiler' in numpy.distutils; trying from distutils\n",
      "            customize MSVCCompiler\n",
      "              libraries lapack_atlas not found in C:\\\n",
      "            No module named 'numpy.distutils._msvccompiler' in numpy.distutils; trying from distutils\n",
      "            customize MSVCCompiler\n",
      "              libraries satlas,satlas not found in C:\\\n",
      "            No module named 'numpy.distutils._msvccompiler' in numpy.distutils; trying from distutils\n",
      "            customize MSVCCompiler\n",
      "              libraries lapack_atlas not found in C:\\Users\\arist\\anaconda3\\libs\n",
      "            No module named 'numpy.distutils._msvccompiler' in numpy.distutils; trying from distutils\n",
      "            customize MSVCCompiler\n",
      "              libraries satlas,satlas not found in C:\\Users\\arist\\anaconda3\\libs\n",
      "            <class 'numpy.distutils.system_info.atlas_3_10_info'>\n",
      "              NOT AVAILABLE\n",
      "      \n",
      "            atlas_threads_info:\n",
      "            Setting PTATLAS=ATLAS\n",
      "            No module named 'numpy.distutils._msvccompiler' in numpy.distutils; trying from distutils\n",
      "            customize MSVCCompiler\n",
      "              libraries lapack_atlas not found in C:\\Users\\arist\\anaconda3\\lib\n",
      "            No module named 'numpy.distutils._msvccompiler' in numpy.distutils; trying from distutils\n",
      "            customize MSVCCompiler\n",
      "              libraries ptf77blas,ptcblas,atlas not found in C:\\Users\\arist\\anaconda3\\lib\n",
      "            No module named 'numpy.distutils._msvccompiler' in numpy.distutils; trying from distutils\n",
      "            customize MSVCCompiler\n",
      "              libraries lapack_atlas not found in C:\\\n",
      "            No module named 'numpy.distutils._msvccompiler' in numpy.distutils; trying from distutils\n",
      "            customize MSVCCompiler\n",
      "              libraries ptf77blas,ptcblas,atlas not found in C:\\\n",
      "            No module named 'numpy.distutils._msvccompiler' in numpy.distutils; trying from distutils\n",
      "            customize MSVCCompiler\n",
      "              libraries lapack_atlas not found in C:\\Users\\arist\\anaconda3\\libs\n",
      "            No module named 'numpy.distutils._msvccompiler' in numpy.distutils; trying from distutils\n",
      "            customize MSVCCompiler\n",
      "              libraries ptf77blas,ptcblas,atlas not found in C:\\Users\\arist\\anaconda3\\libs\n",
      "            <class 'numpy.distutils.system_info.atlas_threads_info'>\n",
      "              NOT AVAILABLE\n",
      "      \n",
      "            atlas_info:\n",
      "            No module named 'numpy.distutils._msvccompiler' in numpy.distutils; trying from distutils\n",
      "            customize MSVCCompiler\n",
      "              libraries lapack_atlas not found in C:\\Users\\arist\\anaconda3\\lib\n",
      "            No module named 'numpy.distutils._msvccompiler' in numpy.distutils; trying from distutils\n",
      "            customize MSVCCompiler\n",
      "              libraries f77blas,cblas,atlas not found in C:\\Users\\arist\\anaconda3\\lib\n",
      "            No module named 'numpy.distutils._msvccompiler' in numpy.distutils; trying from distutils\n",
      "            customize MSVCCompiler\n",
      "              libraries lapack_atlas not found in C:\\\n",
      "            No module named 'numpy.distutils._msvccompiler' in numpy.distutils; trying from distutils\n",
      "            customize MSVCCompiler\n",
      "              libraries f77blas,cblas,atlas not found in C:\\\n",
      "            No module named 'numpy.distutils._msvccompiler' in numpy.distutils; trying from distutils\n",
      "            customize MSVCCompiler\n",
      "              libraries lapack_atlas not found in C:\\Users\\arist\\anaconda3\\libs\n",
      "            No module named 'numpy.distutils._msvccompiler' in numpy.distutils; trying from distutils\n",
      "            customize MSVCCompiler\n",
      "              libraries f77blas,cblas,atlas not found in C:\\Users\\arist\\anaconda3\\libs\n",
      "            <class 'numpy.distutils.system_info.atlas_info'>\n",
      "              NOT AVAILABLE\n",
      "      \n",
      "            lapack_info:\n",
      "            No module named 'numpy.distutils._msvccompiler' in numpy.distutils; trying from distutils\n",
      "            customize MSVCCompiler\n",
      "              libraries lapack not found in ['C:\\\\Users\\\\arist\\\\anaconda3\\\\lib', 'C:\\\\', 'C:\\\\Users\\\\arist\\\\anaconda3\\\\libs']\n",
      "              NOT AVAILABLE\n",
      "      \n",
      "            C:\\Users\\arist\\AppData\\Local\\Temp\\pip-install-ivy3rtbe\\numpy_ab543ad2a1404c54a96f54380be079ea\\numpy\\distutils\\system_info.py:1712: UserWarning:\n",
      "                Lapack (http://www.netlib.org/lapack/) libraries not found.\n",
      "                Directories to search for the libraries can be specified in the\n",
      "                numpy/distutils/site.cfg file (section [lapack]) or by setting\n",
      "                the LAPACK environment variable.\n",
      "              if getattr(self, '_calc_info_{}'.format(lapack))():\n",
      "            lapack_src_info:\n",
      "              NOT AVAILABLE\n",
      "      \n",
      "            C:\\Users\\arist\\AppData\\Local\\Temp\\pip-install-ivy3rtbe\\numpy_ab543ad2a1404c54a96f54380be079ea\\numpy\\distutils\\system_info.py:1712: UserWarning:\n",
      "                Lapack (http://www.netlib.org/lapack/) sources not found.\n",
      "                Directories to search for the sources can be specified in the\n",
      "                numpy/distutils/site.cfg file (section [lapack_src]) or by setting\n",
      "                the LAPACK_SRC environment variable.\n",
      "              if getattr(self, '_calc_info_{}'.format(lapack))():\n",
      "              NOT AVAILABLE\n",
      "      \n",
      "            C:\\Users\\arist\\anaconda3\\lib\\site-packages\\setuptools\\_distutils\\dist.py:264: UserWarning: Unknown distribution option: 'define_macros'\n",
      "              warnings.warn(msg)\n",
      "            running install\n",
      "            C:\\Users\\arist\\anaconda3\\lib\\site-packages\\setuptools\\command\\install.py:34: SetuptoolsDeprecationWarning: setup.py install is deprecated. Use build and pip and other standards-based tools.\n",
      "              warnings.warn(\n",
      "            running build\n",
      "            running config_cc\n",
      "            unifing config_cc, config, build_clib, build_ext, build commands --compiler options\n",
      "            running config_fc\n",
      "            unifing config_fc, config, build_clib, build_ext, build commands --fcompiler options\n",
      "            running build_src\n",
      "            build_src\n",
      "            building py_modules sources\n",
      "            building library \"npymath\" sources\n",
      "            No module named 'numpy.distutils._msvccompiler' in numpy.distutils; trying from distutils\n",
      "            error: Microsoft Visual C++ 14.0 or greater is required. Get it with \"Microsoft C++ Build Tools\": https://visualstudio.microsoft.com/visual-cpp-build-tools/\n",
      "            [end of output]\n",
      "      \n",
      "        note: This error originates from a subprocess, and is likely not a problem with pip.\n",
      "      error: legacy-install-failure\n",
      "      \n",
      "      Ã— Encountered error while trying to install package.\n",
      "      â•°â”€> numpy\n",
      "      \n",
      "      note: This is an issue with the package mentioned above, not pip.\n",
      "      hint: See above for output from the failure.\n",
      "      [end of output]\n",
      "  \n",
      "  note: This error originates from a subprocess, and is likely not a problem with pip.\n",
      "error: subprocess-exited-with-error\n",
      "\n",
      "× pip subprocess to install build dependencies did not run successfully.\n",
      "│ exit code: 1\n",
      "╰─> See above for output.\n",
      "\n",
      "note: This error originates from a subprocess, and is likely not a problem with pip.\n"
     ]
    },
    {
     "name": "stdout",
     "output_type": "stream",
     "text": [
      "\n",
      "  Using cached scipy-1.4.1.tar.gz (24.6 MB)\n",
      "  Installing build dependencies: started\n",
      "  Installing build dependencies: finished with status 'error'\n"
     ]
    }
   ],
   "source": [
    "!pip install scipy==1.4.1"
   ]
  },
  {
   "cell_type": "code",
   "execution_count": 42,
   "metadata": {},
   "outputs": [
    {
     "data": {
      "application/vnd.jupyter.widget-view+json": {
       "model_id": "c0ef57f031b841f5866f467ef44199e5",
       "version_major": 2,
       "version_minor": 0
      },
      "text/plain": [
       "Fitting CTGAN transformers for each column:   0%|          | 0/31 [00:00<?, ?it/s]"
      ]
     },
     "metadata": {},
     "output_type": "display_data"
    },
    {
     "data": {
      "application/vnd.jupyter.widget-view+json": {
       "model_id": "2c38d906740547389938da6adf67072a",
       "version_major": 2,
       "version_minor": 0
      },
      "text/plain": [
       "Training CTGAN, epochs::   0%|          | 0/500 [00:00<?, ?it/s]"
      ]
     },
     "metadata": {},
     "output_type": "display_data"
    },
    {
     "ename": "KeyError",
     "evalue": "'account_check_status'",
     "output_type": "error",
     "traceback": [
      "\u001b[1;31m---------------------------------------------------------------------------\u001b[0m",
      "\u001b[1;31mKeyError\u001b[0m                                  Traceback (most recent call last)",
      "\u001b[1;32mc:\\Users\\arist\\anaconda3\\lib\\site-packages\\pandas\\core\\indexes\\base.py\u001b[0m in \u001b[0;36mget_loc\u001b[1;34m(self, key, method, tolerance)\u001b[0m\n\u001b[0;32m   3628\u001b[0m             \u001b[1;32mtry\u001b[0m\u001b[1;33m:\u001b[0m\u001b[1;33m\u001b[0m\u001b[1;33m\u001b[0m\u001b[0m\n\u001b[1;32m-> 3629\u001b[1;33m                 \u001b[1;32mreturn\u001b[0m \u001b[0mself\u001b[0m\u001b[1;33m.\u001b[0m\u001b[0m_engine\u001b[0m\u001b[1;33m.\u001b[0m\u001b[0mget_loc\u001b[0m\u001b[1;33m(\u001b[0m\u001b[0mcasted_key\u001b[0m\u001b[1;33m)\u001b[0m\u001b[1;33m\u001b[0m\u001b[1;33m\u001b[0m\u001b[0m\n\u001b[0m\u001b[0;32m   3630\u001b[0m             \u001b[1;32mexcept\u001b[0m \u001b[0mKeyError\u001b[0m \u001b[1;32mas\u001b[0m \u001b[0merr\u001b[0m\u001b[1;33m:\u001b[0m\u001b[1;33m\u001b[0m\u001b[1;33m\u001b[0m\u001b[0m\n",
      "\u001b[1;32mc:\\Users\\arist\\anaconda3\\lib\\site-packages\\pandas\\_libs\\index.pyx\u001b[0m in \u001b[0;36mpandas._libs.index.IndexEngine.get_loc\u001b[1;34m()\u001b[0m\n",
      "\u001b[1;32mc:\\Users\\arist\\anaconda3\\lib\\site-packages\\pandas\\_libs\\index.pyx\u001b[0m in \u001b[0;36mpandas._libs.index.IndexEngine.get_loc\u001b[1;34m()\u001b[0m\n",
      "\u001b[1;32mpandas\\_libs\\hashtable_class_helper.pxi\u001b[0m in \u001b[0;36mpandas._libs.hashtable.PyObjectHashTable.get_item\u001b[1;34m()\u001b[0m\n",
      "\u001b[1;32mpandas\\_libs\\hashtable_class_helper.pxi\u001b[0m in \u001b[0;36mpandas._libs.hashtable.PyObjectHashTable.get_item\u001b[1;34m()\u001b[0m\n",
      "\u001b[1;31mKeyError\u001b[0m: 'account_check_status'",
      "\nThe above exception was the direct cause of the following exception:\n",
      "\u001b[1;31mKeyError\u001b[0m                                  Traceback (most recent call last)",
      "\u001b[1;32m~\\AppData\\Local\\Temp\\ipykernel_2680\\1525890000.py\u001b[0m in \u001b[0;36m<cell line: 12>\u001b[1;34m()\u001b[0m\n\u001b[0;32m     10\u001b[0m \u001b[1;31m# generate data\u001b[0m\u001b[1;33m\u001b[0m\u001b[1;33m\u001b[0m\u001b[0m\n\u001b[0;32m     11\u001b[0m \u001b[1;31m#new_train1, new_target1 = OriginalGenerator().generate_data_pipe(train, target, test, )\u001b[0m\u001b[1;33m\u001b[0m\u001b[1;33m\u001b[0m\u001b[0m\n\u001b[1;32m---> 12\u001b[1;33m \u001b[0mnew_train2\u001b[0m\u001b[1;33m,\u001b[0m \u001b[0mnew_target2\u001b[0m \u001b[1;33m=\u001b[0m \u001b[0mGANGenerator\u001b[0m\u001b[1;33m(\u001b[0m\u001b[0mcat_cols\u001b[0m\u001b[1;33m=\u001b[0m\u001b[0mcolumns_to_encode\u001b[0m\u001b[1;33m)\u001b[0m\u001b[1;33m.\u001b[0m\u001b[0mgenerate_data_pipe\u001b[0m\u001b[1;33m(\u001b[0m\u001b[0mtrain\u001b[0m\u001b[1;33m,\u001b[0m \u001b[0mtarget\u001b[0m\u001b[1;33m,\u001b[0m \u001b[0mtest\u001b[0m\u001b[1;33m,\u001b[0m\u001b[1;33m)\u001b[0m\u001b[1;33m\u001b[0m\u001b[1;33m\u001b[0m\u001b[0m\n\u001b[0m\u001b[0;32m     13\u001b[0m \u001b[1;33m\u001b[0m\u001b[0m\n",
      "\u001b[1;32mc:\\Users\\arist\\anaconda3\\lib\\site-packages\\tabgan\\abc_sampler.py\u001b[0m in \u001b[0;36mgenerate_data_pipe\u001b[1;34m(self, train_df, target, test_df, deep_copy, only_adversarial, use_adversarial, only_generated_data)\u001b[0m\n\u001b[0;32m     70\u001b[0m             )\n\u001b[0;32m     71\u001b[0m             \u001b[0mlogging\u001b[0m\u001b[1;33m.\u001b[0m\u001b[0minfo\u001b[0m\u001b[1;33m(\u001b[0m\u001b[1;34m\"Starting postprocessing step.\"\u001b[0m\u001b[1;33m)\u001b[0m\u001b[1;33m\u001b[0m\u001b[1;33m\u001b[0m\u001b[0m\n\u001b[1;32m---> 72\u001b[1;33m             new_train, new_target = generator.postprocess_data(\n\u001b[0m\u001b[0;32m     73\u001b[0m                 \u001b[0mnew_train\u001b[0m\u001b[1;33m,\u001b[0m \u001b[0mnew_target\u001b[0m\u001b[1;33m,\u001b[0m \u001b[0mtest_df\u001b[0m\u001b[1;33m\u001b[0m\u001b[1;33m\u001b[0m\u001b[0m\n\u001b[0;32m     74\u001b[0m             )\n",
      "\u001b[1;32mc:\\Users\\arist\\anaconda3\\lib\\site-packages\\tabgan\\sampler.py\u001b[0m in \u001b[0;36mpostprocess_data\u001b[1;34m(self, train_df, target, test_df)\u001b[0m\n\u001b[0;32m    174\u001b[0m             \u001b[1;32mfor\u001b[0m \u001b[0mcat_col\u001b[0m \u001b[1;32min\u001b[0m \u001b[0mself\u001b[0m\u001b[1;33m.\u001b[0m\u001b[0mcat_cols\u001b[0m\u001b[1;33m:\u001b[0m\u001b[1;33m\u001b[0m\u001b[1;33m\u001b[0m\u001b[0m\n\u001b[0;32m    175\u001b[0m                 filtered_df = train_df[\n\u001b[1;32m--> 176\u001b[1;33m                     \u001b[0mtrain_df\u001b[0m\u001b[1;33m[\u001b[0m\u001b[0mcat_col\u001b[0m\u001b[1;33m]\u001b[0m\u001b[1;33m.\u001b[0m\u001b[0misin\u001b[0m\u001b[1;33m(\u001b[0m\u001b[0mtest_df\u001b[0m\u001b[1;33m[\u001b[0m\u001b[0mcat_col\u001b[0m\u001b[1;33m]\u001b[0m\u001b[1;33m.\u001b[0m\u001b[0munique\u001b[0m\u001b[1;33m(\u001b[0m\u001b[1;33m)\u001b[0m\u001b[1;33m)\u001b[0m\u001b[1;33m\u001b[0m\u001b[1;33m\u001b[0m\u001b[0m\n\u001b[0m\u001b[0;32m    177\u001b[0m                 ]\n\u001b[0;32m    178\u001b[0m                 \u001b[1;32mif\u001b[0m \u001b[0mfiltered_df\u001b[0m\u001b[1;33m.\u001b[0m\u001b[0mshape\u001b[0m\u001b[1;33m[\u001b[0m\u001b[1;36m0\u001b[0m\u001b[1;33m]\u001b[0m \u001b[1;33m<\u001b[0m \u001b[1;36m10\u001b[0m\u001b[1;33m:\u001b[0m\u001b[1;33m\u001b[0m\u001b[1;33m\u001b[0m\u001b[0m\n",
      "\u001b[1;32mc:\\Users\\arist\\anaconda3\\lib\\site-packages\\pandas\\core\\frame.py\u001b[0m in \u001b[0;36m__getitem__\u001b[1;34m(self, key)\u001b[0m\n\u001b[0;32m   3503\u001b[0m             \u001b[1;32mif\u001b[0m \u001b[0mself\u001b[0m\u001b[1;33m.\u001b[0m\u001b[0mcolumns\u001b[0m\u001b[1;33m.\u001b[0m\u001b[0mnlevels\u001b[0m \u001b[1;33m>\u001b[0m \u001b[1;36m1\u001b[0m\u001b[1;33m:\u001b[0m\u001b[1;33m\u001b[0m\u001b[1;33m\u001b[0m\u001b[0m\n\u001b[0;32m   3504\u001b[0m                 \u001b[1;32mreturn\u001b[0m \u001b[0mself\u001b[0m\u001b[1;33m.\u001b[0m\u001b[0m_getitem_multilevel\u001b[0m\u001b[1;33m(\u001b[0m\u001b[0mkey\u001b[0m\u001b[1;33m)\u001b[0m\u001b[1;33m\u001b[0m\u001b[1;33m\u001b[0m\u001b[0m\n\u001b[1;32m-> 3505\u001b[1;33m             \u001b[0mindexer\u001b[0m \u001b[1;33m=\u001b[0m \u001b[0mself\u001b[0m\u001b[1;33m.\u001b[0m\u001b[0mcolumns\u001b[0m\u001b[1;33m.\u001b[0m\u001b[0mget_loc\u001b[0m\u001b[1;33m(\u001b[0m\u001b[0mkey\u001b[0m\u001b[1;33m)\u001b[0m\u001b[1;33m\u001b[0m\u001b[1;33m\u001b[0m\u001b[0m\n\u001b[0m\u001b[0;32m   3506\u001b[0m             \u001b[1;32mif\u001b[0m \u001b[0mis_integer\u001b[0m\u001b[1;33m(\u001b[0m\u001b[0mindexer\u001b[0m\u001b[1;33m)\u001b[0m\u001b[1;33m:\u001b[0m\u001b[1;33m\u001b[0m\u001b[1;33m\u001b[0m\u001b[0m\n\u001b[0;32m   3507\u001b[0m                 \u001b[0mindexer\u001b[0m \u001b[1;33m=\u001b[0m \u001b[1;33m[\u001b[0m\u001b[0mindexer\u001b[0m\u001b[1;33m]\u001b[0m\u001b[1;33m\u001b[0m\u001b[1;33m\u001b[0m\u001b[0m\n",
      "\u001b[1;32mc:\\Users\\arist\\anaconda3\\lib\\site-packages\\pandas\\core\\indexes\\base.py\u001b[0m in \u001b[0;36mget_loc\u001b[1;34m(self, key, method, tolerance)\u001b[0m\n\u001b[0;32m   3629\u001b[0m                 \u001b[1;32mreturn\u001b[0m \u001b[0mself\u001b[0m\u001b[1;33m.\u001b[0m\u001b[0m_engine\u001b[0m\u001b[1;33m.\u001b[0m\u001b[0mget_loc\u001b[0m\u001b[1;33m(\u001b[0m\u001b[0mcasted_key\u001b[0m\u001b[1;33m)\u001b[0m\u001b[1;33m\u001b[0m\u001b[1;33m\u001b[0m\u001b[0m\n\u001b[0;32m   3630\u001b[0m             \u001b[1;32mexcept\u001b[0m \u001b[0mKeyError\u001b[0m \u001b[1;32mas\u001b[0m \u001b[0merr\u001b[0m\u001b[1;33m:\u001b[0m\u001b[1;33m\u001b[0m\u001b[1;33m\u001b[0m\u001b[0m\n\u001b[1;32m-> 3631\u001b[1;33m                 \u001b[1;32mraise\u001b[0m \u001b[0mKeyError\u001b[0m\u001b[1;33m(\u001b[0m\u001b[0mkey\u001b[0m\u001b[1;33m)\u001b[0m \u001b[1;32mfrom\u001b[0m \u001b[0merr\u001b[0m\u001b[1;33m\u001b[0m\u001b[1;33m\u001b[0m\u001b[0m\n\u001b[0m\u001b[0;32m   3632\u001b[0m             \u001b[1;32mexcept\u001b[0m \u001b[0mTypeError\u001b[0m\u001b[1;33m:\u001b[0m\u001b[1;33m\u001b[0m\u001b[1;33m\u001b[0m\u001b[0m\n\u001b[0;32m   3633\u001b[0m                 \u001b[1;31m# If we have a listlike key, _check_indexing_error will raise\u001b[0m\u001b[1;33m\u001b[0m\u001b[1;33m\u001b[0m\u001b[0m\n",
      "\u001b[1;31mKeyError\u001b[0m: 'account_check_status'"
     ]
    }
   ],
   "source": [
    "from tabgan.sampler import OriginalGenerator, GANGenerator\n",
    "import pandas as pd\n",
    "import numpy as np\n",
    "\n",
    "# random input data\n",
    "train = X_train\n",
    "target = pd.DataFrame(y_train)\n",
    "test = X_test\n",
    "\n",
    "# generate data\n",
    "#new_train1, new_target1 = OriginalGenerator().generate_data_pipe(train, target, test, )\n",
    "new_train2, new_target2 = GANGenerator(cat_cols=columns_to_encode).generate_data_pipe(train, target, test,)\n",
    "\n"
   ]
  },
  {
   "cell_type": "code",
   "execution_count": 15,
   "metadata": {},
   "outputs": [
    {
     "name": "stderr",
     "output_type": "stream",
     "text": [
      "C:\\Users\\arist\\AppData\\Local\\Temp\\ipykernel_2680\\2537243834.py:4: DataConversionWarning: A column-vector y was passed when a 1d array was expected. Please change the shape of y to (n_samples,), for example using ravel().\n",
      "  clf.fit(X_train, y_train)\n"
     ]
    },
    {
     "name": "stdout",
     "output_type": "stream",
     "text": [
      "initial metric 0.9942025410139386\n"
     ]
    },
    {
     "name": "stderr",
     "output_type": "stream",
     "text": [
      "c:\\Users\\arist\\anaconda3\\lib\\site-packages\\lightgbm\\sklearn.py:726: UserWarning: 'early_stopping_rounds' argument is deprecated and will be removed in a future release of LightGBM. Pass 'early_stopping()' callback via 'callbacks' argument instead.\n",
      "  _log_warning(\"'early_stopping_rounds' argument is deprecated and will be removed in a future release of LightGBM. \"\n",
      "c:\\Users\\arist\\anaconda3\\lib\\site-packages\\lightgbm\\sklearn.py:736: UserWarning: 'verbose' argument is deprecated and will be removed in a future release of LightGBM. Pass 'log_evaluation()' callback via 'callbacks' argument instead.\n",
      "  _log_warning(\"'verbose' argument is deprecated and will be removed in a future release of LightGBM. \"\n",
      "c:\\Users\\arist\\anaconda3\\lib\\site-packages\\lightgbm\\sklearn.py:726: UserWarning: 'early_stopping_rounds' argument is deprecated and will be removed in a future release of LightGBM. Pass 'early_stopping()' callback via 'callbacks' argument instead.\n",
      "  _log_warning(\"'early_stopping_rounds' argument is deprecated and will be removed in a future release of LightGBM. \"\n",
      "c:\\Users\\arist\\anaconda3\\lib\\site-packages\\lightgbm\\sklearn.py:736: UserWarning: 'verbose' argument is deprecated and will be removed in a future release of LightGBM. Pass 'log_evaluation()' callback via 'callbacks' argument instead.\n",
      "  _log_warning(\"'verbose' argument is deprecated and will be removed in a future release of LightGBM. \"\n",
      "c:\\Users\\arist\\anaconda3\\lib\\site-packages\\lightgbm\\sklearn.py:726: UserWarning: 'early_stopping_rounds' argument is deprecated and will be removed in a future release of LightGBM. Pass 'early_stopping()' callback via 'callbacks' argument instead.\n",
      "  _log_warning(\"'early_stopping_rounds' argument is deprecated and will be removed in a future release of LightGBM. \"\n",
      "c:\\Users\\arist\\anaconda3\\lib\\site-packages\\lightgbm\\sklearn.py:736: UserWarning: 'verbose' argument is deprecated and will be removed in a future release of LightGBM. Pass 'log_evaluation()' callback via 'callbacks' argument instead.\n",
      "  _log_warning(\"'verbose' argument is deprecated and will be removed in a future release of LightGBM. \"\n",
      "c:\\Users\\arist\\anaconda3\\lib\\site-packages\\lightgbm\\sklearn.py:726: UserWarning: 'early_stopping_rounds' argument is deprecated and will be removed in a future release of LightGBM. Pass 'early_stopping()' callback via 'callbacks' argument instead.\n",
      "  _log_warning(\"'early_stopping_rounds' argument is deprecated and will be removed in a future release of LightGBM. \"\n",
      "c:\\Users\\arist\\anaconda3\\lib\\site-packages\\lightgbm\\sklearn.py:736: UserWarning: 'verbose' argument is deprecated and will be removed in a future release of LightGBM. Pass 'log_evaluation()' callback via 'callbacks' argument instead.\n",
      "  _log_warning(\"'verbose' argument is deprecated and will be removed in a future release of LightGBM. \"\n",
      "c:\\Users\\arist\\anaconda3\\lib\\site-packages\\lightgbm\\sklearn.py:726: UserWarning: 'early_stopping_rounds' argument is deprecated and will be removed in a future release of LightGBM. Pass 'early_stopping()' callback via 'callbacks' argument instead.\n",
      "  _log_warning(\"'early_stopping_rounds' argument is deprecated and will be removed in a future release of LightGBM. \"\n",
      "c:\\Users\\arist\\anaconda3\\lib\\site-packages\\lightgbm\\sklearn.py:736: UserWarning: 'verbose' argument is deprecated and will be removed in a future release of LightGBM. Pass 'log_evaluation()' callback via 'callbacks' argument instead.\n",
      "  _log_warning(\"'verbose' argument is deprecated and will be removed in a future release of LightGBM. \"\n"
     ]
    },
    {
     "name": "stdout",
     "output_type": "stream",
     "text": [
      "OriginalGenerator metric 0.9935241149623782\n"
     ]
    },
    {
     "data": {
      "application/vnd.jupyter.widget-view+json": {
       "model_id": "3fb7f4cc9add4cdfa172dee266af75ff",
       "version_major": 2,
       "version_minor": 0
      },
      "text/plain": [
       "Fitting CTGAN transformers for each column:   0%|          | 0/31 [00:00<?, ?it/s]"
      ]
     },
     "metadata": {},
     "output_type": "display_data"
    },
    {
     "data": {
      "application/vnd.jupyter.widget-view+json": {
       "model_id": "0da765fdcad6499aab5650dd51c27b45",
       "version_major": 2,
       "version_minor": 0
      },
      "text/plain": [
       "Training CTGAN, epochs::   0%|          | 0/500 [00:00<?, ?it/s]"
      ]
     },
     "metadata": {},
     "output_type": "display_data"
    },
    {
     "name": "stderr",
     "output_type": "stream",
     "text": [
      "c:\\Users\\arist\\anaconda3\\lib\\site-packages\\lightgbm\\sklearn.py:726: UserWarning: 'early_stopping_rounds' argument is deprecated and will be removed in a future release of LightGBM. Pass 'early_stopping()' callback via 'callbacks' argument instead.\n",
      "  _log_warning(\"'early_stopping_rounds' argument is deprecated and will be removed in a future release of LightGBM. \"\n",
      "c:\\Users\\arist\\anaconda3\\lib\\site-packages\\lightgbm\\sklearn.py:736: UserWarning: 'verbose' argument is deprecated and will be removed in a future release of LightGBM. Pass 'log_evaluation()' callback via 'callbacks' argument instead.\n",
      "  _log_warning(\"'verbose' argument is deprecated and will be removed in a future release of LightGBM. \"\n",
      "c:\\Users\\arist\\anaconda3\\lib\\site-packages\\lightgbm\\sklearn.py:726: UserWarning: 'early_stopping_rounds' argument is deprecated and will be removed in a future release of LightGBM. Pass 'early_stopping()' callback via 'callbacks' argument instead.\n",
      "  _log_warning(\"'early_stopping_rounds' argument is deprecated and will be removed in a future release of LightGBM. \"\n",
      "c:\\Users\\arist\\anaconda3\\lib\\site-packages\\lightgbm\\sklearn.py:736: UserWarning: 'verbose' argument is deprecated and will be removed in a future release of LightGBM. Pass 'log_evaluation()' callback via 'callbacks' argument instead.\n",
      "  _log_warning(\"'verbose' argument is deprecated and will be removed in a future release of LightGBM. \"\n",
      "c:\\Users\\arist\\anaconda3\\lib\\site-packages\\lightgbm\\sklearn.py:726: UserWarning: 'early_stopping_rounds' argument is deprecated and will be removed in a future release of LightGBM. Pass 'early_stopping()' callback via 'callbacks' argument instead.\n",
      "  _log_warning(\"'early_stopping_rounds' argument is deprecated and will be removed in a future release of LightGBM. \"\n",
      "c:\\Users\\arist\\anaconda3\\lib\\site-packages\\lightgbm\\sklearn.py:736: UserWarning: 'verbose' argument is deprecated and will be removed in a future release of LightGBM. Pass 'log_evaluation()' callback via 'callbacks' argument instead.\n",
      "  _log_warning(\"'verbose' argument is deprecated and will be removed in a future release of LightGBM. \"\n",
      "c:\\Users\\arist\\anaconda3\\lib\\site-packages\\lightgbm\\sklearn.py:726: UserWarning: 'early_stopping_rounds' argument is deprecated and will be removed in a future release of LightGBM. Pass 'early_stopping()' callback via 'callbacks' argument instead.\n",
      "  _log_warning(\"'early_stopping_rounds' argument is deprecated and will be removed in a future release of LightGBM. \"\n",
      "c:\\Users\\arist\\anaconda3\\lib\\site-packages\\lightgbm\\sklearn.py:736: UserWarning: 'verbose' argument is deprecated and will be removed in a future release of LightGBM. Pass 'log_evaluation()' callback via 'callbacks' argument instead.\n",
      "  _log_warning(\"'verbose' argument is deprecated and will be removed in a future release of LightGBM. \"\n",
      "c:\\Users\\arist\\anaconda3\\lib\\site-packages\\lightgbm\\sklearn.py:726: UserWarning: 'early_stopping_rounds' argument is deprecated and will be removed in a future release of LightGBM. Pass 'early_stopping()' callback via 'callbacks' argument instead.\n",
      "  _log_warning(\"'early_stopping_rounds' argument is deprecated and will be removed in a future release of LightGBM. \"\n",
      "c:\\Users\\arist\\anaconda3\\lib\\site-packages\\lightgbm\\sklearn.py:736: UserWarning: 'verbose' argument is deprecated and will be removed in a future release of LightGBM. Pass 'log_evaluation()' callback via 'callbacks' argument instead.\n",
      "  _log_warning(\"'verbose' argument is deprecated and will be removed in a future release of LightGBM. \"\n"
     ]
    },
    {
     "name": "stdout",
     "output_type": "stream",
     "text": [
      "GANGenerator metric 0.9956827433082521\n"
     ]
    }
   ],
   "source": [
    "import sklearn.datasets\n",
    "\n",
    "def fit_predict(clf, X_train, y_train, X_test, y_test):\n",
    "    clf.fit(X_train, y_train)\n",
    "    return sklearn.metrics.roc_auc_score(y_test, clf.predict_proba(X_test)[:, 1])\n",
    "\n",
    "\n",
    "\n",
    "dataset = sklearn.datasets.load_breast_cancer()\n",
    "clf = sklearn.ensemble.RandomForestClassifier(n_estimators=25, max_depth=6)\n",
    "X_train, X_test, y_train, y_test = sklearn.model_selection.train_test_split(\n",
    "    pd.DataFrame(dataset.data), pd.DataFrame(dataset.target, columns=[\"target\"]), test_size=0.33, random_state=42)\n",
    "print(\"initial metric\", fit_predict(clf, X_train, y_train, X_test, y_test))\n",
    "\n",
    "new_train1, new_target1 = OriginalGenerator().generate_data_pipe(X_train, y_train, X_test, )\n",
    "print(\"OriginalGenerator metric\", fit_predict(clf, new_train1, new_target1, X_test, y_test))\n",
    "\n",
    "new_train1, new_target1 = GANGenerator().generate_data_pipe(X_train, y_train, X_test, )\n",
    "print(\"GANGenerator metric\", fit_predict(clf, new_train1, new_target1, X_test, y_test))"
   ]
  },
  {
   "cell_type": "code",
   "execution_count": 121,
   "metadata": {},
   "outputs": [],
   "source": [
    "import tensorflow \n",
    "from tensorflow import keras\n",
    "from tensorflow.keras import layers\n"
   ]
  },
  {
   "cell_type": "code",
   "execution_count": 124,
   "metadata": {},
   "outputs": [],
   "source": [
    "img_size_1 = credit.shape[1]\n",
    "latent_space_dim = 2"
   ]
  },
  {
   "cell_type": "code",
   "execution_count": 126,
   "metadata": {},
   "outputs": [],
   "source": [
    "# Encoder\n",
    "x = tensorflow.keras.layers.Input(shape=(img_size_1, 1, 1), name=\"encoder_input\")\n",
    "\n",
    "encoder_conv_layer1 = tensorflow.keras.layers.Conv2D(filters=1, kernel_size=(3, 3), padding=\"same\", strides=1, name=\"encoder_conv_1\")(x)\n",
    "encoder_norm_layer1 = tensorflow.keras.layers.BatchNormalization(name=\"encoder_norm_1\")(encoder_conv_layer1)\n",
    "encoder_activ_layer1 = tensorflow.keras.layers.LeakyReLU(name=\"encoder_leakyrelu_1\")(encoder_norm_layer1)\n",
    "\n",
    "encoder_conv_layer2 = tensorflow.keras.layers.Conv2D(filters=32, kernel_size=(3,3), padding=\"same\", strides=1, name=\"encoder_conv_2\")(encoder_activ_layer1)\n",
    "encoder_norm_layer2 = tensorflow.keras.layers.BatchNormalization(name=\"encoder_norm_2\")(encoder_conv_layer2)\n",
    "encoder_activ_layer2 = tensorflow.keras.layers.LeakyReLU(name=\"encoder_activ_layer_2\")(encoder_norm_layer2)\n",
    "\n",
    "encoder_conv_layer3 = tensorflow.keras.layers.Conv2D(filters=64, kernel_size=(3,3), padding=\"same\", strides=2, name=\"encoder_conv_3\")(encoder_activ_layer2)\n",
    "encoder_norm_layer3 = tensorflow.keras.layers.BatchNormalization(name=\"encoder_norm_3\")(encoder_conv_layer3)\n",
    "encoder_activ_layer3 = tensorflow.keras.layers.LeakyReLU(name=\"encoder_activ_layer_3\")(encoder_norm_layer3)\n",
    "\n",
    "encoder_conv_layer4 = tensorflow.keras.layers.Conv2D(filters=64, kernel_size=(3,3), padding=\"same\", strides=2, name=\"encoder_conv_4\")(encoder_activ_layer3)\n",
    "encoder_norm_layer4 = tensorflow.keras.layers.BatchNormalization(name=\"encoder_norm_4\")(encoder_conv_layer4)\n",
    "encoder_activ_layer4 = tensorflow.keras.layers.LeakyReLU(name=\"encoder_activ_layer_4\")(encoder_norm_layer4)\n",
    "\n",
    "encoder_conv_layer5 = tensorflow.keras.layers.Conv2D(filters=64, kernel_size=(3,3), padding=\"same\", strides=1, name=\"encoder_conv_5\")(encoder_activ_layer4)\n",
    "encoder_norm_layer5 = tensorflow.keras.layers.BatchNormalization(name=\"encoder_norm_5\")(encoder_conv_layer5)\n",
    "encoder_activ_layer5 = tensorflow.keras.layers.LeakyReLU(name=\"encoder_activ_layer_5\")(encoder_norm_layer5)\n",
    "\n",
    "shape_before_flatten = tensorflow.keras.backend.int_shape(encoder_activ_layer5)[1:]\n",
    "encoder_flatten = tensorflow.keras.layers.Flatten()(encoder_activ_layer5)\n",
    "\n",
    "encoder_mu = tensorflow.keras.layers.Dense(units=latent_space_dim, name=\"encoder_mu\")(encoder_flatten)\n",
    "encoder_log_variance = tensorflow.keras.layers.Dense(units=latent_space_dim, name=\"encoder_log_variance\")(encoder_flatten)\n",
    "\n",
    "encoder_mu_log_variance_model = tensorflow.keras.models.Model(x, (encoder_mu, encoder_log_variance), name=\"encoder_mu_log_variance_model\")\n",
    "\n",
    "def sampling(mu_log_variance):\n",
    "    mu, log_variance = mu_log_variance\n",
    "    epsilon = tensorflow.keras.backend.random_normal(shape=tensorflow.keras.backend.shape(mu), mean=0.0, stddev=1.0)\n",
    "    random_sample = mu + tensorflow.keras.backend.exp(log_variance/2) * epsilon\n",
    "    return random_sample\n",
    "\n",
    "encoder_output = tensorflow.keras.layers.Lambda(sampling, name=\"encoder_output\")([encoder_mu, encoder_log_variance])\n",
    "\n",
    "encoder = tensorflow.keras.models.Model(x, encoder_output, name=\"encoder_model\")\n",
    "\n",
    "#encoder.summary()"
   ]
  },
  {
   "cell_type": "code",
   "execution_count": 136,
   "metadata": {},
   "outputs": [],
   "source": [
    "decoder_input = tensorflow.keras.layers.Input(shape=(latent_space_dim), name=\"decoder_input\")\n",
    "\n",
    "decoder_dense_layer1 = tensorflow.keras.layers.Dense(units=640, name=\"decoder_dense_1\")(decoder_input)\n",
    "decoder_reshape = tensorflow.keras.layers.Reshape(target_shape=(10,1,64))(decoder_dense_layer1)\n",
    "\n",
    "decoder_conv_tran_layer1 = tensorflow.keras.layers.Conv2DTranspose(filters=64, kernel_size=(3, 3), padding=\"same\", strides=1, name=\"decoder_conv_tran_1\")(decoder_reshape)\n",
    "decoder_norm_layer1 = tensorflow.keras.layers.BatchNormalization(name=\"decoder_norm_1\")(decoder_conv_tran_layer1)\n",
    "decoder_activ_layer1 = tensorflow.keras.layers.LeakyReLU(name=\"decoder_leakyrelu_1\")(decoder_norm_layer1)\n",
    "\n",
    "decoder_conv_tran_layer2 = tensorflow.keras.layers.Conv2DTranspose(filters=64, kernel_size=(3, 3), padding=\"same\", strides=1, name=\"decoder_conv_tran_2\")(decoder_activ_layer1)\n",
    "decoder_norm_layer2 = tensorflow.keras.layers.BatchNormalization(name=\"decoder_norm_2\")(decoder_conv_tran_layer2)\n",
    "decoder_activ_layer2 = tensorflow.keras.layers.LeakyReLU(name=\"decoder_leakyrelu_2\")(decoder_norm_layer2)\n",
    "\n",
    "decoder_conv_tran_layer3 = tensorflow.keras.layers.Conv2DTranspose(filters=64, kernel_size=(3, 3), padding=\"same\", strides=1, name=\"decoder_conv_tran_3\")(decoder_activ_layer2)\n",
    "decoder_norm_layer3 = tensorflow.keras.layers.BatchNormalization(name=\"decoder_norm_3\")(decoder_conv_tran_layer3)\n",
    "decoder_activ_layer3 = tensorflow.keras.layers.LeakyReLU(name=\"decoder_leakyrelu_3\")(decoder_norm_layer3)\n",
    "\n",
    "decoder_conv_tran_layer4 = tensorflow.keras.layers.Conv2DTranspose(filters=1, kernel_size=(2, 2), padding=\"same\", strides=1, name=\"decoder_conv_tran_4\")(decoder_activ_layer3)\n",
    "decoder_output = tensorflow.keras.layers.LeakyReLU(name=\"decoder_output\")(decoder_conv_tran_layer4 )\n",
    "decode = tensorflow.keras.layers.Reshape(target_shape=(22, 1, 1))\n",
    "decoder = tensorflow.keras.models.Model(decoder_input, decoder_output, name=\"decoder_model\")\n",
    " \n",
    "#decoder.summary()"
   ]
  },
  {
   "cell_type": "code",
   "execution_count": 138,
   "metadata": {},
   "outputs": [],
   "source": [
    "def loss_func(encoder_mu, encoder_log_variance):\n",
    "    def vae_reconstruction_loss(y_true, y_predict):\n",
    "        \n",
    "        reconstruction_loss_factor = 1000\n",
    "        reconstruction_loss = tensorflow.keras.backend.mean(tensorflow.keras.backend.square(y_true-y_predict), axis=[1, 2, 3])\n",
    "        return reconstruction_loss_factor * reconstruction_loss\n",
    "\n",
    "    def vae_kl_loss(encoder_mu, encoder_log_variance):\n",
    "        kl_loss = -0.5 * tensorflow.keras.backend.sum(1.0 + encoder_log_variance - tensorflow.keras.backend.square(encoder_mu) - tensorflow.keras.backend.exp(encoder_log_variance), axis=1)\n",
    "        return kl_loss\n",
    "\n",
    "    def vae_kl_loss_metric(y_true, y_predict):\n",
    "        kl_loss = -0.5 * tensorflow.keras.backend.sum(1.0 + encoder_log_variance - tensorflow.keras.backend.square(encoder_mu) - tensorflow.keras.backend.exp(encoder_log_variance), axis=1)\n",
    "        return kl_loss\n",
    "\n",
    "    def vae_loss(y_true, y_predict):\n",
    "        reconstruction_loss = vae_reconstruction_loss(y_true, y_predict)\n",
    "        kl_loss = vae_kl_loss(y_true, y_predict)\n",
    "\n",
    "        loss = reconstruction_loss + kl_loss\n",
    "        return loss\n",
    "\n",
    "    return vae_loss"
   ]
  },
  {
   "cell_type": "code",
   "execution_count": 139,
   "metadata": {},
   "outputs": [
    {
     "name": "stdout",
     "output_type": "stream",
     "text": [
      "Model: \"VAE\"\n",
      "_________________________________________________________________\n",
      " Layer (type)                Output Shape              Param #   \n",
      "=================================================================\n",
      " VAE_input (InputLayer)      [(None, 22, 1, 1)]        0         \n",
      "                                                                 \n",
      " encoder_model (Functional)  (None, 2)                 95122     \n",
      "                                                                 \n",
      " decoder_model (Functional)  (None, 10, 1, 1)          113729    \n",
      "                                                                 \n",
      "=================================================================\n",
      "Total params: 208,851\n",
      "Trainable params: 208,017\n",
      "Non-trainable params: 834\n",
      "_________________________________________________________________\n"
     ]
    }
   ],
   "source": [
    "vae_input = tensorflow.keras.layers.Input(shape=(img_size_1, 1, 1), name=\"VAE_input\")\n",
    "vae_encoder_output = encoder(vae_input)\n",
    "vae_decoder_output = decoder(vae_encoder_output)\n",
    "vae = tensorflow.keras.models.Model(vae_input, vae_decoder_output, name=\"VAE\")\n",
    "vae.summary()"
   ]
  },
  {
   "cell_type": "code",
   "execution_count": 132,
   "metadata": {},
   "outputs": [],
   "source": [
    "vae.compile(optimizer=tensorflow.keras.optimizers.Adam(learning_rate=0.0005), loss=loss_func(encoder_mu, encoder_log_variance))"
   ]
  },
  {
   "cell_type": "code",
   "execution_count": 145,
   "metadata": {},
   "outputs": [
    {
     "ename": "KeyError",
     "evalue": "None",
     "output_type": "error",
     "traceback": [
      "\u001b[1;31m---------------------------------------------------------------------------\u001b[0m",
      "\u001b[1;31mKeyError\u001b[0m                                  Traceback (most recent call last)",
      "\u001b[1;32mc:\\Users\\arist\\anaconda3\\lib\\site-packages\\pandas\\core\\indexes\\base.py\u001b[0m in \u001b[0;36mget_loc\u001b[1;34m(self, key, method, tolerance)\u001b[0m\n\u001b[0;32m   3628\u001b[0m             \u001b[1;32mtry\u001b[0m\u001b[1;33m:\u001b[0m\u001b[1;33m\u001b[0m\u001b[1;33m\u001b[0m\u001b[0m\n\u001b[1;32m-> 3629\u001b[1;33m                 \u001b[1;32mreturn\u001b[0m \u001b[0mself\u001b[0m\u001b[1;33m.\u001b[0m\u001b[0m_engine\u001b[0m\u001b[1;33m.\u001b[0m\u001b[0mget_loc\u001b[0m\u001b[1;33m(\u001b[0m\u001b[0mcasted_key\u001b[0m\u001b[1;33m)\u001b[0m\u001b[1;33m\u001b[0m\u001b[1;33m\u001b[0m\u001b[0m\n\u001b[0m\u001b[0;32m   3630\u001b[0m             \u001b[1;32mexcept\u001b[0m \u001b[0mKeyError\u001b[0m \u001b[1;32mas\u001b[0m \u001b[0merr\u001b[0m\u001b[1;33m:\u001b[0m\u001b[1;33m\u001b[0m\u001b[1;33m\u001b[0m\u001b[0m\n",
      "\u001b[1;32mc:\\Users\\arist\\anaconda3\\lib\\site-packages\\pandas\\_libs\\index.pyx\u001b[0m in \u001b[0;36mpandas._libs.index.IndexEngine.get_loc\u001b[1;34m()\u001b[0m\n",
      "\u001b[1;32mc:\\Users\\arist\\anaconda3\\lib\\site-packages\\pandas\\_libs\\index.pyx\u001b[0m in \u001b[0;36mpandas._libs.index.IndexEngine.get_loc\u001b[1;34m()\u001b[0m\n",
      "\u001b[1;32mpandas\\_libs\\hashtable_class_helper.pxi\u001b[0m in \u001b[0;36mpandas._libs.hashtable.PyObjectHashTable.get_item\u001b[1;34m()\u001b[0m\n",
      "\u001b[1;32mpandas\\_libs\\hashtable_class_helper.pxi\u001b[0m in \u001b[0;36mpandas._libs.hashtable.PyObjectHashTable.get_item\u001b[1;34m()\u001b[0m\n",
      "\u001b[1;31mKeyError\u001b[0m: None",
      "\nThe above exception was the direct cause of the following exception:\n",
      "\u001b[1;31mKeyError\u001b[0m                                  Traceback (most recent call last)",
      "\u001b[1;32m~\\AppData\\Local\\Temp\\ipykernel_2680\\1742654399.py\u001b[0m in \u001b[0;36m<cell line: 5>\u001b[1;34m()\u001b[0m\n\u001b[0;32m      3\u001b[0m \u001b[0mencoder\u001b[0m \u001b[1;33m=\u001b[0m \u001b[0mOrdinalEncoder\u001b[0m\u001b[1;33m(\u001b[0m\u001b[1;33m)\u001b[0m\u001b[1;33m\u001b[0m\u001b[1;33m\u001b[0m\u001b[0m\n\u001b[0;32m      4\u001b[0m \u001b[0ma\u001b[0m \u001b[1;33m=\u001b[0m \u001b[0mcolumns_to_encode\u001b[0m\u001b[1;33m.\u001b[0m\u001b[0mappend\u001b[0m\u001b[1;33m(\u001b[0m\u001b[1;34m'default'\u001b[0m\u001b[1;33m)\u001b[0m\u001b[1;33m\u001b[0m\u001b[1;33m\u001b[0m\u001b[0m\n\u001b[1;32m----> 5\u001b[1;33m \u001b[0mX_categorical\u001b[0m \u001b[1;33m=\u001b[0m \u001b[0mcredit\u001b[0m\u001b[1;33m[\u001b[0m\u001b[0ma\u001b[0m\u001b[1;33m]\u001b[0m\u001b[1;33m\u001b[0m\u001b[1;33m\u001b[0m\u001b[0m\n\u001b[0m\u001b[0;32m      6\u001b[0m \u001b[1;31m# encoder.fit_transform()\u001b[0m\u001b[1;33m\u001b[0m\u001b[1;33m\u001b[0m\u001b[0m\n\u001b[0;32m      7\u001b[0m \u001b[1;31m# dfarray = np.array(credit).reshape(-1, credit.shape[1], 1, 1)\u001b[0m\u001b[1;33m\u001b[0m\u001b[1;33m\u001b[0m\u001b[0m\n",
      "\u001b[1;32mc:\\Users\\arist\\anaconda3\\lib\\site-packages\\pandas\\core\\frame.py\u001b[0m in \u001b[0;36m__getitem__\u001b[1;34m(self, key)\u001b[0m\n\u001b[0;32m   3503\u001b[0m             \u001b[1;32mif\u001b[0m \u001b[0mself\u001b[0m\u001b[1;33m.\u001b[0m\u001b[0mcolumns\u001b[0m\u001b[1;33m.\u001b[0m\u001b[0mnlevels\u001b[0m \u001b[1;33m>\u001b[0m \u001b[1;36m1\u001b[0m\u001b[1;33m:\u001b[0m\u001b[1;33m\u001b[0m\u001b[1;33m\u001b[0m\u001b[0m\n\u001b[0;32m   3504\u001b[0m                 \u001b[1;32mreturn\u001b[0m \u001b[0mself\u001b[0m\u001b[1;33m.\u001b[0m\u001b[0m_getitem_multilevel\u001b[0m\u001b[1;33m(\u001b[0m\u001b[0mkey\u001b[0m\u001b[1;33m)\u001b[0m\u001b[1;33m\u001b[0m\u001b[1;33m\u001b[0m\u001b[0m\n\u001b[1;32m-> 3505\u001b[1;33m             \u001b[0mindexer\u001b[0m \u001b[1;33m=\u001b[0m \u001b[0mself\u001b[0m\u001b[1;33m.\u001b[0m\u001b[0mcolumns\u001b[0m\u001b[1;33m.\u001b[0m\u001b[0mget_loc\u001b[0m\u001b[1;33m(\u001b[0m\u001b[0mkey\u001b[0m\u001b[1;33m)\u001b[0m\u001b[1;33m\u001b[0m\u001b[1;33m\u001b[0m\u001b[0m\n\u001b[0m\u001b[0;32m   3506\u001b[0m             \u001b[1;32mif\u001b[0m \u001b[0mis_integer\u001b[0m\u001b[1;33m(\u001b[0m\u001b[0mindexer\u001b[0m\u001b[1;33m)\u001b[0m\u001b[1;33m:\u001b[0m\u001b[1;33m\u001b[0m\u001b[1;33m\u001b[0m\u001b[0m\n\u001b[0;32m   3507\u001b[0m                 \u001b[0mindexer\u001b[0m \u001b[1;33m=\u001b[0m \u001b[1;33m[\u001b[0m\u001b[0mindexer\u001b[0m\u001b[1;33m]\u001b[0m\u001b[1;33m\u001b[0m\u001b[1;33m\u001b[0m\u001b[0m\n",
      "\u001b[1;32mc:\\Users\\arist\\anaconda3\\lib\\site-packages\\pandas\\core\\indexes\\base.py\u001b[0m in \u001b[0;36mget_loc\u001b[1;34m(self, key, method, tolerance)\u001b[0m\n\u001b[0;32m   3629\u001b[0m                 \u001b[1;32mreturn\u001b[0m \u001b[0mself\u001b[0m\u001b[1;33m.\u001b[0m\u001b[0m_engine\u001b[0m\u001b[1;33m.\u001b[0m\u001b[0mget_loc\u001b[0m\u001b[1;33m(\u001b[0m\u001b[0mcasted_key\u001b[0m\u001b[1;33m)\u001b[0m\u001b[1;33m\u001b[0m\u001b[1;33m\u001b[0m\u001b[0m\n\u001b[0;32m   3630\u001b[0m             \u001b[1;32mexcept\u001b[0m \u001b[0mKeyError\u001b[0m \u001b[1;32mas\u001b[0m \u001b[0merr\u001b[0m\u001b[1;33m:\u001b[0m\u001b[1;33m\u001b[0m\u001b[1;33m\u001b[0m\u001b[0m\n\u001b[1;32m-> 3631\u001b[1;33m                 \u001b[1;32mraise\u001b[0m \u001b[0mKeyError\u001b[0m\u001b[1;33m(\u001b[0m\u001b[0mkey\u001b[0m\u001b[1;33m)\u001b[0m \u001b[1;32mfrom\u001b[0m \u001b[0merr\u001b[0m\u001b[1;33m\u001b[0m\u001b[1;33m\u001b[0m\u001b[0m\n\u001b[0m\u001b[0;32m   3632\u001b[0m             \u001b[1;32mexcept\u001b[0m \u001b[0mTypeError\u001b[0m\u001b[1;33m:\u001b[0m\u001b[1;33m\u001b[0m\u001b[1;33m\u001b[0m\u001b[0m\n\u001b[0;32m   3633\u001b[0m                 \u001b[1;31m# If we have a listlike key, _check_indexing_error will raise\u001b[0m\u001b[1;33m\u001b[0m\u001b[1;33m\u001b[0m\u001b[0m\n",
      "\u001b[1;31mKeyError\u001b[0m: None"
     ]
    }
   ],
   "source": [
    "from sklearn.preprocessing import OrdinalEncoder\n",
    "\n",
    "encoder = OrdinalEncoder()\n",
    "a = columns_to_encode.append('default')\n",
    "X_categorical = credit[a]\n",
    "# encoder.fit_transform()\n",
    "# dfarray = np.array(credit).reshape(-1, credit.shape[1], 1, 1)"
   ]
  },
  {
   "cell_type": "code",
   "execution_count": 135,
   "metadata": {},
   "outputs": [
    {
     "name": "stdout",
     "output_type": "stream",
     "text": [
      "(None, 22, 1, 1) <dtype: 'float32'>\n",
      "(None, 10, 1, 1) <dtype: 'float32'>\n",
      "VAE_input [(None, 22, 1, 1)] float32\n",
      "encoder_model (None, 22, 1, 1) float32\n",
      "decoder_model (None, 2) float32\n"
     ]
    },
    {
     "data": {
      "text/plain": [
       "[None, None, None]"
      ]
     },
     "execution_count": 135,
     "metadata": {},
     "output_type": "execute_result"
    }
   ],
   "source": [
    "[print(i.shape, i.dtype) for i in vae.inputs]\n",
    "[print(o.shape, o.dtype) for o in vae.outputs]\n",
    "[print(l.name, l.input_shape, l.dtype) for l in vae.layers]"
   ]
  },
  {
   "cell_type": "code",
   "execution_count": 134,
   "metadata": {},
   "outputs": [
    {
     "ename": "ValueError",
     "evalue": "Failed to convert a NumPy array to a Tensor (Unsupported object type int).",
     "output_type": "error",
     "traceback": [
      "\u001b[1;31m---------------------------------------------------------------------------\u001b[0m",
      "\u001b[1;31mValueError\u001b[0m                                Traceback (most recent call last)",
      "\u001b[1;32m~\\AppData\\Local\\Temp\\ipykernel_2680\\622568999.py\u001b[0m in \u001b[0;36m<cell line: 1>\u001b[1;34m()\u001b[0m\n\u001b[1;32m----> 1\u001b[1;33m \u001b[0mvae\u001b[0m\u001b[1;33m.\u001b[0m\u001b[0mfit\u001b[0m\u001b[1;33m(\u001b[0m\u001b[0mdfarray\u001b[0m\u001b[1;33m,\u001b[0m \u001b[0mdfarray\u001b[0m\u001b[1;33m,\u001b[0m \u001b[0mepochs\u001b[0m\u001b[1;33m=\u001b[0m\u001b[1;36m1000\u001b[0m\u001b[1;33m,\u001b[0m \u001b[0mbatch_size\u001b[0m\u001b[1;33m=\u001b[0m\u001b[1;36m10\u001b[0m\u001b[1;33m,\u001b[0m \u001b[0mshuffle\u001b[0m\u001b[1;33m=\u001b[0m\u001b[1;32mTrue\u001b[0m\u001b[1;33m)\u001b[0m\u001b[1;33m\u001b[0m\u001b[1;33m\u001b[0m\u001b[0m\n\u001b[0m",
      "\u001b[1;32mc:\\Users\\arist\\anaconda3\\lib\\site-packages\\keras\\utils\\traceback_utils.py\u001b[0m in \u001b[0;36merror_handler\u001b[1;34m(*args, **kwargs)\u001b[0m\n\u001b[0;32m     68\u001b[0m             \u001b[1;31m# To get the full stack trace, call:\u001b[0m\u001b[1;33m\u001b[0m\u001b[1;33m\u001b[0m\u001b[0m\n\u001b[0;32m     69\u001b[0m             \u001b[1;31m# `tf.debugging.disable_traceback_filtering()`\u001b[0m\u001b[1;33m\u001b[0m\u001b[1;33m\u001b[0m\u001b[0m\n\u001b[1;32m---> 70\u001b[1;33m             \u001b[1;32mraise\u001b[0m \u001b[0me\u001b[0m\u001b[1;33m.\u001b[0m\u001b[0mwith_traceback\u001b[0m\u001b[1;33m(\u001b[0m\u001b[0mfiltered_tb\u001b[0m\u001b[1;33m)\u001b[0m \u001b[1;32mfrom\u001b[0m \u001b[1;32mNone\u001b[0m\u001b[1;33m\u001b[0m\u001b[1;33m\u001b[0m\u001b[0m\n\u001b[0m\u001b[0;32m     71\u001b[0m         \u001b[1;32mfinally\u001b[0m\u001b[1;33m:\u001b[0m\u001b[1;33m\u001b[0m\u001b[1;33m\u001b[0m\u001b[0m\n\u001b[0;32m     72\u001b[0m             \u001b[1;32mdel\u001b[0m \u001b[0mfiltered_tb\u001b[0m\u001b[1;33m\u001b[0m\u001b[1;33m\u001b[0m\u001b[0m\n",
      "\u001b[1;32mc:\\Users\\arist\\anaconda3\\lib\\site-packages\\tensorflow\\python\\framework\\constant_op.py\u001b[0m in \u001b[0;36mconvert_to_eager_tensor\u001b[1;34m(value, ctx, dtype)\u001b[0m\n\u001b[0;32m    100\u001b[0m       \u001b[0mdtype\u001b[0m \u001b[1;33m=\u001b[0m \u001b[0mdtypes\u001b[0m\u001b[1;33m.\u001b[0m\u001b[0mas_dtype\u001b[0m\u001b[1;33m(\u001b[0m\u001b[0mdtype\u001b[0m\u001b[1;33m)\u001b[0m\u001b[1;33m.\u001b[0m\u001b[0mas_datatype_enum\u001b[0m\u001b[1;33m\u001b[0m\u001b[1;33m\u001b[0m\u001b[0m\n\u001b[0;32m    101\u001b[0m   \u001b[0mctx\u001b[0m\u001b[1;33m.\u001b[0m\u001b[0mensure_initialized\u001b[0m\u001b[1;33m(\u001b[0m\u001b[1;33m)\u001b[0m\u001b[1;33m\u001b[0m\u001b[1;33m\u001b[0m\u001b[0m\n\u001b[1;32m--> 102\u001b[1;33m   \u001b[1;32mreturn\u001b[0m \u001b[0mops\u001b[0m\u001b[1;33m.\u001b[0m\u001b[0mEagerTensor\u001b[0m\u001b[1;33m(\u001b[0m\u001b[0mvalue\u001b[0m\u001b[1;33m,\u001b[0m \u001b[0mctx\u001b[0m\u001b[1;33m.\u001b[0m\u001b[0mdevice_name\u001b[0m\u001b[1;33m,\u001b[0m \u001b[0mdtype\u001b[0m\u001b[1;33m)\u001b[0m\u001b[1;33m\u001b[0m\u001b[1;33m\u001b[0m\u001b[0m\n\u001b[0m\u001b[0;32m    103\u001b[0m \u001b[1;33m\u001b[0m\u001b[0m\n\u001b[0;32m    104\u001b[0m \u001b[1;33m\u001b[0m\u001b[0m\n",
      "\u001b[1;31mValueError\u001b[0m: Failed to convert a NumPy array to a Tensor (Unsupported object type int)."
     ]
    }
   ],
   "source": [
    "vae.fit(dfarray, dfarray, epochs=1000, batch_size=10, shuffle=True)"
   ]
  },
  {
   "attachments": {},
   "cell_type": "markdown",
   "metadata": {},
   "source": [
    "## K-nearest neigbors"
   ]
  },
  {
   "cell_type": "code",
   "execution_count": 30,
   "metadata": {},
   "outputs": [],
   "source": [
    "from smart_open import open\n",
    "from sklearn.neighbors import NearestNeighbors, KNeighborsClassifier\n",
    "from sklearn.preprocessing import LabelEncoder, OneHotEncoder"
   ]
  },
  {
   "cell_type": "code",
   "execution_count": 36,
   "metadata": {},
   "outputs": [
    {
     "ename": "ValueError",
     "evalue": "Expected 2D array, got 1D array instead:\narray=['0 <= ... < 200 DM' '< 0 DM' '0 <= ... < 200 DM' '0 <= ... < 200 DM'\n '< 0 DM' '< 0 DM' '< 0 DM' '0 <= ... < 200 DM' '< 0 DM'\n '0 <= ... < 200 DM' '>= 200 DM / salary assignments for at least 1 year'\n '< 0 DM' '0 <= ... < 200 DM' '0 <= ... < 200 DM' '< 0 DM'\n '0 <= ... < 200 DM' '0 <= ... < 200 DM' 'no checking account' '< 0 DM'\n '< 0 DM' 'no checking account' '0 <= ... < 200 DM' '< 0 DM'\n 'no checking account' '0 <= ... < 200 DM' '0 <= ... < 200 DM'\n 'no checking account' 'no checking account' '< 0 DM' '< 0 DM' '< 0 DM'\n '0 <= ... < 200 DM' '0 <= ... < 200 DM' '< 0 DM' '< 0 DM'\n '0 <= ... < 200 DM' '< 0 DM' '< 0 DM' '< 0 DM' '0 <= ... < 200 DM'\n '< 0 DM' '0 <= ... < 200 DM' '< 0 DM' 'no checking account'\n 'no checking account' '0 <= ... < 200 DM' '< 0 DM' '0 <= ... < 200 DM'\n '0 <= ... < 200 DM' '< 0 DM' 'no checking account' '0 <= ... < 200 DM'\n '0 <= ... < 200 DM' '0 <= ... < 200 DM' '0 <= ... < 200 DM'\n '0 <= ... < 200 DM' '0 <= ... < 200 DM' '< 0 DM' '< 0 DM'\n '>= 200 DM / salary assignments for at least 1 year' '0 <= ... < 200 DM'\n '< 0 DM' 'no checking account'\n '>= 200 DM / salary assignments for at least 1 year' '< 0 DM'\n '0 <= ... < 200 DM' '0 <= ... < 200 DM' '< 0 DM' '< 0 DM'\n 'no checking account' '0 <= ... < 200 DM' '< 0 DM' '0 <= ... < 200 DM'\n '< 0 DM' '0 <= ... < 200 DM' '< 0 DM' 'no checking account' '< 0 DM'\n '0 <= ... < 200 DM' '0 <= ... < 200 DM' '0 <= ... < 200 DM'\n '>= 200 DM / salary assignments for at least 1 year'\n 'no checking account' '< 0 DM' '0 <= ... < 200 DM' '0 <= ... < 200 DM'\n '< 0 DM' '0 <= ... < 200 DM' '< 0 DM' 'no checking account'\n '0 <= ... < 200 DM' 'no checking account' '< 0 DM' '< 0 DM' '< 0 DM'\n '0 <= ... < 200 DM' '0 <= ... < 200 DM' '< 0 DM' '0 <= ... < 200 DM'\n 'no checking account' '< 0 DM' '< 0 DM' '< 0 DM' '0 <= ... < 200 DM'\n '< 0 DM' '0 <= ... < 200 DM' '0 <= ... < 200 DM' '0 <= ... < 200 DM'\n 'no checking account' '0 <= ... < 200 DM'\n '>= 200 DM / salary assignments for at least 1 year'\n 'no checking account' '< 0 DM' '< 0 DM' '0 <= ... < 200 DM'\n '0 <= ... < 200 DM' '< 0 DM' '0 <= ... < 200 DM' '0 <= ... < 200 DM'\n '>= 200 DM / salary assignments for at least 1 year'\n 'no checking account' '0 <= ... < 200 DM' '< 0 DM' '0 <= ... < 200 DM'\n '< 0 DM' '< 0 DM' '< 0 DM' '0 <= ... < 200 DM' '< 0 DM' '< 0 DM'\n '0 <= ... < 200 DM' '< 0 DM' '0 <= ... < 200 DM' '0 <= ... < 200 DM'\n '< 0 DM' '0 <= ... < 200 DM' '< 0 DM' '0 <= ... < 200 DM' '< 0 DM'\n 'no checking account' '0 <= ... < 200 DM' '< 0 DM' 'no checking account'\n '< 0 DM' '< 0 DM' '< 0 DM' '0 <= ... < 200 DM'\n '>= 200 DM / salary assignments for at least 1 year' '< 0 DM'\n '0 <= ... < 200 DM' '< 0 DM'\n '>= 200 DM / salary assignments for at least 1 year' '< 0 DM' '< 0 DM'\n '< 0 DM' '0 <= ... < 200 DM' '0 <= ... < 200 DM' 'no checking account'\n '< 0 DM' '0 <= ... < 200 DM' '< 0 DM' '0 <= ... < 200 DM' '< 0 DM'\n '< 0 DM' '< 0 DM' '0 <= ... < 200 DM' '0 <= ... < 200 DM'\n '0 <= ... < 200 DM' '< 0 DM' '< 0 DM' '< 0 DM' '0 <= ... < 200 DM'\n '< 0 DM' '0 <= ... < 200 DM' '< 0 DM' '0 <= ... < 200 DM'\n 'no checking account' '0 <= ... < 200 DM' '0 <= ... < 200 DM'\n 'no checking account' '0 <= ... < 200 DM' '< 0 DM'\n '>= 200 DM / salary assignments for at least 1 year'\n 'no checking account' '0 <= ... < 200 DM' 'no checking account'\n 'no checking account' '< 0 DM' '0 <= ... < 200 DM' '< 0 DM'\n 'no checking account' '0 <= ... < 200 DM' '< 0 DM' '< 0 DM'\n 'no checking account' 'no checking account' 'no checking account'\n '>= 200 DM / salary assignments for at least 1 year' '< 0 DM'\n '0 <= ... < 200 DM' '< 0 DM' '0 <= ... < 200 DM' '0 <= ... < 200 DM'\n '< 0 DM' '< 0 DM' 'no checking account' '0 <= ... < 200 DM'\n 'no checking account' '< 0 DM' '0 <= ... < 200 DM' '0 <= ... < 200 DM'\n '< 0 DM' '0 <= ... < 200 DM'\n '>= 200 DM / salary assignments for at least 1 year' '0 <= ... < 200 DM'\n '< 0 DM' 'no checking account' '< 0 DM' '0 <= ... < 200 DM' '< 0 DM'\n '0 <= ... < 200 DM' '0 <= ... < 200 DM' '< 0 DM' '< 0 DM'\n 'no checking account' '< 0 DM'\n '>= 200 DM / salary assignments for at least 1 year' '< 0 DM' '< 0 DM'\n 'no checking account' '< 0 DM' '< 0 DM' '< 0 DM' '0 <= ... < 200 DM'\n '0 <= ... < 200 DM' '0 <= ... < 200 DM' '< 0 DM' '0 <= ... < 200 DM'\n '< 0 DM' '< 0 DM' '0 <= ... < 200 DM' '< 0 DM' '< 0 DM' '< 0 DM' '< 0 DM'\n '< 0 DM' '< 0 DM' 'no checking account' '< 0 DM' '< 0 DM' '< 0 DM'\n '>= 200 DM / salary assignments for at least 1 year' '< 0 DM' '< 0 DM'\n 'no checking account' 'no checking account' '< 0 DM' '< 0 DM' '< 0 DM'\n '< 0 DM' 'no checking account' '< 0 DM' 'no checking account' '< 0 DM'\n '0 <= ... < 200 DM' '< 0 DM' '0 <= ... < 200 DM' '< 0 DM' '< 0 DM'\n '0 <= ... < 200 DM' '< 0 DM' '0 <= ... < 200 DM' '< 0 DM' '< 0 DM'\n '< 0 DM' '< 0 DM' '< 0 DM' '< 0 DM' '< 0 DM' '0 <= ... < 200 DM'\n '0 <= ... < 200 DM' '>= 200 DM / salary assignments for at least 1 year'\n '0 <= ... < 200 DM' '< 0 DM' 'no checking account' 'no checking account'\n '< 0 DM' '0 <= ... < 200 DM' 'no checking account' '< 0 DM'\n 'no checking account' '0 <= ... < 200 DM' '< 0 DM' '< 0 DM'\n 'no checking account' '0 <= ... < 200 DM' '0 <= ... < 200 DM'\n 'no checking account' '< 0 DM' '< 0 DM'].\nReshape your data either using array.reshape(-1, 1) if your data has a single feature or array.reshape(1, -1) if it contains a single sample.",
     "output_type": "error",
     "traceback": [
      "\u001b[1;31m---------------------------------------------------------------------------\u001b[0m",
      "\u001b[1;31mValueError\u001b[0m                                Traceback (most recent call last)",
      "\u001b[1;32m~\\AppData\\Local\\Temp\\ipykernel_2680\\4020006381.py\u001b[0m in \u001b[0;36m<cell line: 5>\u001b[1;34m()\u001b[0m\n\u001b[0;32m      5\u001b[0m \u001b[1;32mfor\u001b[0m \u001b[0mi\u001b[0m \u001b[1;32min\u001b[0m \u001b[0mcolumns_to_encode\u001b[0m\u001b[1;33m:\u001b[0m\u001b[1;33m\u001b[0m\u001b[1;33m\u001b[0m\u001b[0m\n\u001b[0;32m      6\u001b[0m \u001b[1;33m\u001b[0m\u001b[0m\n\u001b[1;32m----> 7\u001b[1;33m     \u001b[0mdefault\u001b[0m\u001b[1;33m[\u001b[0m\u001b[0mi\u001b[0m\u001b[1;33m]\u001b[0m \u001b[1;33m=\u001b[0m \u001b[0mencoder\u001b[0m\u001b[1;33m.\u001b[0m\u001b[0mfit_transform\u001b[0m\u001b[1;33m(\u001b[0m\u001b[0mdefault\u001b[0m\u001b[1;33m[\u001b[0m\u001b[0mi\u001b[0m\u001b[1;33m]\u001b[0m\u001b[1;33m)\u001b[0m\u001b[1;33m\u001b[0m\u001b[1;33m\u001b[0m\u001b[0m\n\u001b[0m\u001b[0;32m      8\u001b[0m \u001b[1;33m\u001b[0m\u001b[0m\n\u001b[0;32m      9\u001b[0m \u001b[0mprint\u001b[0m\u001b[1;33m(\u001b[0m\u001b[0mdefault\u001b[0m\u001b[1;33m.\u001b[0m\u001b[0mshape\u001b[0m\u001b[1;33m,\u001b[0m \u001b[0mnot_default\u001b[0m\u001b[1;33m.\u001b[0m\u001b[0mshape\u001b[0m\u001b[1;33m)\u001b[0m\u001b[1;33m\u001b[0m\u001b[1;33m\u001b[0m\u001b[0m\n",
      "\u001b[1;32mc:\\Users\\arist\\anaconda3\\lib\\site-packages\\sklearn\\preprocessing\\_encoders.py\u001b[0m in \u001b[0;36mfit_transform\u001b[1;34m(self, X, y)\u001b[0m\n\u001b[0;32m    486\u001b[0m         \"\"\"\n\u001b[0;32m    487\u001b[0m         \u001b[0mself\u001b[0m\u001b[1;33m.\u001b[0m\u001b[0m_validate_keywords\u001b[0m\u001b[1;33m(\u001b[0m\u001b[1;33m)\u001b[0m\u001b[1;33m\u001b[0m\u001b[1;33m\u001b[0m\u001b[0m\n\u001b[1;32m--> 488\u001b[1;33m         \u001b[1;32mreturn\u001b[0m \u001b[0msuper\u001b[0m\u001b[1;33m(\u001b[0m\u001b[1;33m)\u001b[0m\u001b[1;33m.\u001b[0m\u001b[0mfit_transform\u001b[0m\u001b[1;33m(\u001b[0m\u001b[0mX\u001b[0m\u001b[1;33m,\u001b[0m \u001b[0my\u001b[0m\u001b[1;33m)\u001b[0m\u001b[1;33m\u001b[0m\u001b[1;33m\u001b[0m\u001b[0m\n\u001b[0m\u001b[0;32m    489\u001b[0m \u001b[1;33m\u001b[0m\u001b[0m\n\u001b[0;32m    490\u001b[0m     \u001b[1;32mdef\u001b[0m \u001b[0mtransform\u001b[0m\u001b[1;33m(\u001b[0m\u001b[0mself\u001b[0m\u001b[1;33m,\u001b[0m \u001b[0mX\u001b[0m\u001b[1;33m)\u001b[0m\u001b[1;33m:\u001b[0m\u001b[1;33m\u001b[0m\u001b[1;33m\u001b[0m\u001b[0m\n",
      "\u001b[1;32mc:\\Users\\arist\\anaconda3\\lib\\site-packages\\sklearn\\base.py\u001b[0m in \u001b[0;36mfit_transform\u001b[1;34m(self, X, y, **fit_params)\u001b[0m\n\u001b[0;32m    850\u001b[0m         \u001b[1;32mif\u001b[0m \u001b[0my\u001b[0m \u001b[1;32mis\u001b[0m \u001b[1;32mNone\u001b[0m\u001b[1;33m:\u001b[0m\u001b[1;33m\u001b[0m\u001b[1;33m\u001b[0m\u001b[0m\n\u001b[0;32m    851\u001b[0m             \u001b[1;31m# fit method of arity 1 (unsupervised transformation)\u001b[0m\u001b[1;33m\u001b[0m\u001b[1;33m\u001b[0m\u001b[0m\n\u001b[1;32m--> 852\u001b[1;33m             \u001b[1;32mreturn\u001b[0m \u001b[0mself\u001b[0m\u001b[1;33m.\u001b[0m\u001b[0mfit\u001b[0m\u001b[1;33m(\u001b[0m\u001b[0mX\u001b[0m\u001b[1;33m,\u001b[0m \u001b[1;33m**\u001b[0m\u001b[0mfit_params\u001b[0m\u001b[1;33m)\u001b[0m\u001b[1;33m.\u001b[0m\u001b[0mtransform\u001b[0m\u001b[1;33m(\u001b[0m\u001b[0mX\u001b[0m\u001b[1;33m)\u001b[0m\u001b[1;33m\u001b[0m\u001b[1;33m\u001b[0m\u001b[0m\n\u001b[0m\u001b[0;32m    853\u001b[0m         \u001b[1;32melse\u001b[0m\u001b[1;33m:\u001b[0m\u001b[1;33m\u001b[0m\u001b[1;33m\u001b[0m\u001b[0m\n\u001b[0;32m    854\u001b[0m             \u001b[1;31m# fit method of arity 2 (supervised transformation)\u001b[0m\u001b[1;33m\u001b[0m\u001b[1;33m\u001b[0m\u001b[0m\n",
      "\u001b[1;32mc:\\Users\\arist\\anaconda3\\lib\\site-packages\\sklearn\\preprocessing\\_encoders.py\u001b[0m in \u001b[0;36mfit\u001b[1;34m(self, X, y)\u001b[0m\n\u001b[0;32m    459\u001b[0m         \"\"\"\n\u001b[0;32m    460\u001b[0m         \u001b[0mself\u001b[0m\u001b[1;33m.\u001b[0m\u001b[0m_validate_keywords\u001b[0m\u001b[1;33m(\u001b[0m\u001b[1;33m)\u001b[0m\u001b[1;33m\u001b[0m\u001b[1;33m\u001b[0m\u001b[0m\n\u001b[1;32m--> 461\u001b[1;33m         \u001b[0mself\u001b[0m\u001b[1;33m.\u001b[0m\u001b[0m_fit\u001b[0m\u001b[1;33m(\u001b[0m\u001b[0mX\u001b[0m\u001b[1;33m,\u001b[0m \u001b[0mhandle_unknown\u001b[0m\u001b[1;33m=\u001b[0m\u001b[0mself\u001b[0m\u001b[1;33m.\u001b[0m\u001b[0mhandle_unknown\u001b[0m\u001b[1;33m,\u001b[0m \u001b[0mforce_all_finite\u001b[0m\u001b[1;33m=\u001b[0m\u001b[1;34m\"allow-nan\"\u001b[0m\u001b[1;33m)\u001b[0m\u001b[1;33m\u001b[0m\u001b[1;33m\u001b[0m\u001b[0m\n\u001b[0m\u001b[0;32m    462\u001b[0m         \u001b[0mself\u001b[0m\u001b[1;33m.\u001b[0m\u001b[0mdrop_idx_\u001b[0m \u001b[1;33m=\u001b[0m \u001b[0mself\u001b[0m\u001b[1;33m.\u001b[0m\u001b[0m_compute_drop_idx\u001b[0m\u001b[1;33m(\u001b[0m\u001b[1;33m)\u001b[0m\u001b[1;33m\u001b[0m\u001b[1;33m\u001b[0m\u001b[0m\n\u001b[0;32m    463\u001b[0m         \u001b[1;32mreturn\u001b[0m \u001b[0mself\u001b[0m\u001b[1;33m\u001b[0m\u001b[1;33m\u001b[0m\u001b[0m\n",
      "\u001b[1;32mc:\\Users\\arist\\anaconda3\\lib\\site-packages\\sklearn\\preprocessing\\_encoders.py\u001b[0m in \u001b[0;36m_fit\u001b[1;34m(self, X, handle_unknown, force_all_finite)\u001b[0m\n\u001b[0;32m     75\u001b[0m         \u001b[0mself\u001b[0m\u001b[1;33m.\u001b[0m\u001b[0m_check_n_features\u001b[0m\u001b[1;33m(\u001b[0m\u001b[0mX\u001b[0m\u001b[1;33m,\u001b[0m \u001b[0mreset\u001b[0m\u001b[1;33m=\u001b[0m\u001b[1;32mTrue\u001b[0m\u001b[1;33m)\u001b[0m\u001b[1;33m\u001b[0m\u001b[1;33m\u001b[0m\u001b[0m\n\u001b[0;32m     76\u001b[0m         \u001b[0mself\u001b[0m\u001b[1;33m.\u001b[0m\u001b[0m_check_feature_names\u001b[0m\u001b[1;33m(\u001b[0m\u001b[0mX\u001b[0m\u001b[1;33m,\u001b[0m \u001b[0mreset\u001b[0m\u001b[1;33m=\u001b[0m\u001b[1;32mTrue\u001b[0m\u001b[1;33m)\u001b[0m\u001b[1;33m\u001b[0m\u001b[1;33m\u001b[0m\u001b[0m\n\u001b[1;32m---> 77\u001b[1;33m         X_list, n_samples, n_features = self._check_X(\n\u001b[0m\u001b[0;32m     78\u001b[0m             \u001b[0mX\u001b[0m\u001b[1;33m,\u001b[0m \u001b[0mforce_all_finite\u001b[0m\u001b[1;33m=\u001b[0m\u001b[0mforce_all_finite\u001b[0m\u001b[1;33m\u001b[0m\u001b[1;33m\u001b[0m\u001b[0m\n\u001b[0;32m     79\u001b[0m         )\n",
      "\u001b[1;32mc:\\Users\\arist\\anaconda3\\lib\\site-packages\\sklearn\\preprocessing\\_encoders.py\u001b[0m in \u001b[0;36m_check_X\u001b[1;34m(self, X, force_all_finite)\u001b[0m\n\u001b[0;32m     42\u001b[0m         \u001b[1;32mif\u001b[0m \u001b[1;32mnot\u001b[0m \u001b[1;33m(\u001b[0m\u001b[0mhasattr\u001b[0m\u001b[1;33m(\u001b[0m\u001b[0mX\u001b[0m\u001b[1;33m,\u001b[0m \u001b[1;34m\"iloc\"\u001b[0m\u001b[1;33m)\u001b[0m \u001b[1;32mand\u001b[0m \u001b[0mgetattr\u001b[0m\u001b[1;33m(\u001b[0m\u001b[0mX\u001b[0m\u001b[1;33m,\u001b[0m \u001b[1;34m\"ndim\"\u001b[0m\u001b[1;33m,\u001b[0m \u001b[1;36m0\u001b[0m\u001b[1;33m)\u001b[0m \u001b[1;33m==\u001b[0m \u001b[1;36m2\u001b[0m\u001b[1;33m)\u001b[0m\u001b[1;33m:\u001b[0m\u001b[1;33m\u001b[0m\u001b[1;33m\u001b[0m\u001b[0m\n\u001b[0;32m     43\u001b[0m             \u001b[1;31m# if not a dataframe, do normal check_array validation\u001b[0m\u001b[1;33m\u001b[0m\u001b[1;33m\u001b[0m\u001b[0m\n\u001b[1;32m---> 44\u001b[1;33m             \u001b[0mX_temp\u001b[0m \u001b[1;33m=\u001b[0m \u001b[0mcheck_array\u001b[0m\u001b[1;33m(\u001b[0m\u001b[0mX\u001b[0m\u001b[1;33m,\u001b[0m \u001b[0mdtype\u001b[0m\u001b[1;33m=\u001b[0m\u001b[1;32mNone\u001b[0m\u001b[1;33m,\u001b[0m \u001b[0mforce_all_finite\u001b[0m\u001b[1;33m=\u001b[0m\u001b[0mforce_all_finite\u001b[0m\u001b[1;33m)\u001b[0m\u001b[1;33m\u001b[0m\u001b[1;33m\u001b[0m\u001b[0m\n\u001b[0m\u001b[0;32m     45\u001b[0m             \u001b[1;32mif\u001b[0m \u001b[1;32mnot\u001b[0m \u001b[0mhasattr\u001b[0m\u001b[1;33m(\u001b[0m\u001b[0mX\u001b[0m\u001b[1;33m,\u001b[0m \u001b[1;34m\"dtype\"\u001b[0m\u001b[1;33m)\u001b[0m \u001b[1;32mand\u001b[0m \u001b[0mnp\u001b[0m\u001b[1;33m.\u001b[0m\u001b[0missubdtype\u001b[0m\u001b[1;33m(\u001b[0m\u001b[0mX_temp\u001b[0m\u001b[1;33m.\u001b[0m\u001b[0mdtype\u001b[0m\u001b[1;33m,\u001b[0m \u001b[0mnp\u001b[0m\u001b[1;33m.\u001b[0m\u001b[0mstr_\u001b[0m\u001b[1;33m)\u001b[0m\u001b[1;33m:\u001b[0m\u001b[1;33m\u001b[0m\u001b[1;33m\u001b[0m\u001b[0m\n\u001b[0;32m     46\u001b[0m                 \u001b[0mX\u001b[0m \u001b[1;33m=\u001b[0m \u001b[0mcheck_array\u001b[0m\u001b[1;33m(\u001b[0m\u001b[0mX\u001b[0m\u001b[1;33m,\u001b[0m \u001b[0mdtype\u001b[0m\u001b[1;33m=\u001b[0m\u001b[0mobject\u001b[0m\u001b[1;33m,\u001b[0m \u001b[0mforce_all_finite\u001b[0m\u001b[1;33m=\u001b[0m\u001b[0mforce_all_finite\u001b[0m\u001b[1;33m)\u001b[0m\u001b[1;33m\u001b[0m\u001b[1;33m\u001b[0m\u001b[0m\n",
      "\u001b[1;32mc:\\Users\\arist\\anaconda3\\lib\\site-packages\\sklearn\\utils\\validation.py\u001b[0m in \u001b[0;36mcheck_array\u001b[1;34m(array, accept_sparse, accept_large_sparse, dtype, order, copy, force_all_finite, ensure_2d, allow_nd, ensure_min_samples, ensure_min_features, estimator)\u001b[0m\n\u001b[0;32m    767\u001b[0m             \u001b[1;31m# If input is 1D raise error\u001b[0m\u001b[1;33m\u001b[0m\u001b[1;33m\u001b[0m\u001b[0m\n\u001b[0;32m    768\u001b[0m             \u001b[1;32mif\u001b[0m \u001b[0marray\u001b[0m\u001b[1;33m.\u001b[0m\u001b[0mndim\u001b[0m \u001b[1;33m==\u001b[0m \u001b[1;36m1\u001b[0m\u001b[1;33m:\u001b[0m\u001b[1;33m\u001b[0m\u001b[1;33m\u001b[0m\u001b[0m\n\u001b[1;32m--> 769\u001b[1;33m                 raise ValueError(\n\u001b[0m\u001b[0;32m    770\u001b[0m                     \u001b[1;34m\"Expected 2D array, got 1D array instead:\\narray={}.\\n\"\u001b[0m\u001b[1;33m\u001b[0m\u001b[1;33m\u001b[0m\u001b[0m\n\u001b[0;32m    771\u001b[0m                     \u001b[1;34m\"Reshape your data either using array.reshape(-1, 1) if \"\u001b[0m\u001b[1;33m\u001b[0m\u001b[1;33m\u001b[0m\u001b[0m\n",
      "\u001b[1;31mValueError\u001b[0m: Expected 2D array, got 1D array instead:\narray=['0 <= ... < 200 DM' '< 0 DM' '0 <= ... < 200 DM' '0 <= ... < 200 DM'\n '< 0 DM' '< 0 DM' '< 0 DM' '0 <= ... < 200 DM' '< 0 DM'\n '0 <= ... < 200 DM' '>= 200 DM / salary assignments for at least 1 year'\n '< 0 DM' '0 <= ... < 200 DM' '0 <= ... < 200 DM' '< 0 DM'\n '0 <= ... < 200 DM' '0 <= ... < 200 DM' 'no checking account' '< 0 DM'\n '< 0 DM' 'no checking account' '0 <= ... < 200 DM' '< 0 DM'\n 'no checking account' '0 <= ... < 200 DM' '0 <= ... < 200 DM'\n 'no checking account' 'no checking account' '< 0 DM' '< 0 DM' '< 0 DM'\n '0 <= ... < 200 DM' '0 <= ... < 200 DM' '< 0 DM' '< 0 DM'\n '0 <= ... < 200 DM' '< 0 DM' '< 0 DM' '< 0 DM' '0 <= ... < 200 DM'\n '< 0 DM' '0 <= ... < 200 DM' '< 0 DM' 'no checking account'\n 'no checking account' '0 <= ... < 200 DM' '< 0 DM' '0 <= ... < 200 DM'\n '0 <= ... < 200 DM' '< 0 DM' 'no checking account' '0 <= ... < 200 DM'\n '0 <= ... < 200 DM' '0 <= ... < 200 DM' '0 <= ... < 200 DM'\n '0 <= ... < 200 DM' '0 <= ... < 200 DM' '< 0 DM' '< 0 DM'\n '>= 200 DM / salary assignments for at least 1 year' '0 <= ... < 200 DM'\n '< 0 DM' 'no checking account'\n '>= 200 DM / salary assignments for at least 1 year' '< 0 DM'\n '0 <= ... < 200 DM' '0 <= ... < 200 DM' '< 0 DM' '< 0 DM'\n 'no checking account' '0 <= ... < 200 DM' '< 0 DM' '0 <= ... < 200 DM'\n '< 0 DM' '0 <= ... < 200 DM' '< 0 DM' 'no checking account' '< 0 DM'\n '0 <= ... < 200 DM' '0 <= ... < 200 DM' '0 <= ... < 200 DM'\n '>= 200 DM / salary assignments for at least 1 year'\n 'no checking account' '< 0 DM' '0 <= ... < 200 DM' '0 <= ... < 200 DM'\n '< 0 DM' '0 <= ... < 200 DM' '< 0 DM' 'no checking account'\n '0 <= ... < 200 DM' 'no checking account' '< 0 DM' '< 0 DM' '< 0 DM'\n '0 <= ... < 200 DM' '0 <= ... < 200 DM' '< 0 DM' '0 <= ... < 200 DM'\n 'no checking account' '< 0 DM' '< 0 DM' '< 0 DM' '0 <= ... < 200 DM'\n '< 0 DM' '0 <= ... < 200 DM' '0 <= ... < 200 DM' '0 <= ... < 200 DM'\n 'no checking account' '0 <= ... < 200 DM'\n '>= 200 DM / salary assignments for at least 1 year'\n 'no checking account' '< 0 DM' '< 0 DM' '0 <= ... < 200 DM'\n '0 <= ... < 200 DM' '< 0 DM' '0 <= ... < 200 DM' '0 <= ... < 200 DM'\n '>= 200 DM / salary assignments for at least 1 year'\n 'no checking account' '0 <= ... < 200 DM' '< 0 DM' '0 <= ... < 200 DM'\n '< 0 DM' '< 0 DM' '< 0 DM' '0 <= ... < 200 DM' '< 0 DM' '< 0 DM'\n '0 <= ... < 200 DM' '< 0 DM' '0 <= ... < 200 DM' '0 <= ... < 200 DM'\n '< 0 DM' '0 <= ... < 200 DM' '< 0 DM' '0 <= ... < 200 DM' '< 0 DM'\n 'no checking account' '0 <= ... < 200 DM' '< 0 DM' 'no checking account'\n '< 0 DM' '< 0 DM' '< 0 DM' '0 <= ... < 200 DM'\n '>= 200 DM / salary assignments for at least 1 year' '< 0 DM'\n '0 <= ... < 200 DM' '< 0 DM'\n '>= 200 DM / salary assignments for at least 1 year' '< 0 DM' '< 0 DM'\n '< 0 DM' '0 <= ... < 200 DM' '0 <= ... < 200 DM' 'no checking account'\n '< 0 DM' '0 <= ... < 200 DM' '< 0 DM' '0 <= ... < 200 DM' '< 0 DM'\n '< 0 DM' '< 0 DM' '0 <= ... < 200 DM' '0 <= ... < 200 DM'\n '0 <= ... < 200 DM' '< 0 DM' '< 0 DM' '< 0 DM' '0 <= ... < 200 DM'\n '< 0 DM' '0 <= ... < 200 DM' '< 0 DM' '0 <= ... < 200 DM'\n 'no checking account' '0 <= ... < 200 DM' '0 <= ... < 200 DM'\n 'no checking account' '0 <= ... < 200 DM' '< 0 DM'\n '>= 200 DM / salary assignments for at least 1 year'\n 'no checking account' '0 <= ... < 200 DM' 'no checking account'\n 'no checking account' '< 0 DM' '0 <= ... < 200 DM' '< 0 DM'\n 'no checking account' '0 <= ... < 200 DM' '< 0 DM' '< 0 DM'\n 'no checking account' 'no checking account' 'no checking account'\n '>= 200 DM / salary assignments for at least 1 year' '< 0 DM'\n '0 <= ... < 200 DM' '< 0 DM' '0 <= ... < 200 DM' '0 <= ... < 200 DM'\n '< 0 DM' '< 0 DM' 'no checking account' '0 <= ... < 200 DM'\n 'no checking account' '< 0 DM' '0 <= ... < 200 DM' '0 <= ... < 200 DM'\n '< 0 DM' '0 <= ... < 200 DM'\n '>= 200 DM / salary assignments for at least 1 year' '0 <= ... < 200 DM'\n '< 0 DM' 'no checking account' '< 0 DM' '0 <= ... < 200 DM' '< 0 DM'\n '0 <= ... < 200 DM' '0 <= ... < 200 DM' '< 0 DM' '< 0 DM'\n 'no checking account' '< 0 DM'\n '>= 200 DM / salary assignments for at least 1 year' '< 0 DM' '< 0 DM'\n 'no checking account' '< 0 DM' '< 0 DM' '< 0 DM' '0 <= ... < 200 DM'\n '0 <= ... < 200 DM' '0 <= ... < 200 DM' '< 0 DM' '0 <= ... < 200 DM'\n '< 0 DM' '< 0 DM' '0 <= ... < 200 DM' '< 0 DM' '< 0 DM' '< 0 DM' '< 0 DM'\n '< 0 DM' '< 0 DM' 'no checking account' '< 0 DM' '< 0 DM' '< 0 DM'\n '>= 200 DM / salary assignments for at least 1 year' '< 0 DM' '< 0 DM'\n 'no checking account' 'no checking account' '< 0 DM' '< 0 DM' '< 0 DM'\n '< 0 DM' 'no checking account' '< 0 DM' 'no checking account' '< 0 DM'\n '0 <= ... < 200 DM' '< 0 DM' '0 <= ... < 200 DM' '< 0 DM' '< 0 DM'\n '0 <= ... < 200 DM' '< 0 DM' '0 <= ... < 200 DM' '< 0 DM' '< 0 DM'\n '< 0 DM' '< 0 DM' '< 0 DM' '< 0 DM' '< 0 DM' '0 <= ... < 200 DM'\n '0 <= ... < 200 DM' '>= 200 DM / salary assignments for at least 1 year'\n '0 <= ... < 200 DM' '< 0 DM' 'no checking account' 'no checking account'\n '< 0 DM' '0 <= ... < 200 DM' 'no checking account' '< 0 DM'\n 'no checking account' '0 <= ... < 200 DM' '< 0 DM' '< 0 DM'\n 'no checking account' '0 <= ... < 200 DM' '0 <= ... < 200 DM'\n 'no checking account' '< 0 DM' '< 0 DM'].\nReshape your data either using array.reshape(-1, 1) if your data has a single feature or array.reshape(1, -1) if it contains a single sample."
     ]
    }
   ],
   "source": [
    "default = credit[credit['default'] == 'Default']\n",
    "not_default = credit[credit['default'] == 'Not default']\n",
    "\n",
    "encoder = OneHotEncoder()\n",
    "for i in columns_to_encode:\n",
    "    \n",
    "    default[i] = encoder.fit_transform(default[i])\n",
    "\n",
    "print(default.shape, not_default.shape)\n",
    "\n",
    "neighbors = NearestNeighbors(n_neighbors=5, algorithm='ball_tree')\n",
    "neighbors.fit(default)\n"
   ]
  },
  {
   "cell_type": "code",
   "execution_count": 40,
   "metadata": {},
   "outputs": [
    {
     "ename": "ValueError",
     "evalue": "Expected 2D array, got 1D array instead:\narray=['Default' 'Default' 'Default' 'Default' 'Default' 'Default' 'Default'\n 'Default' 'Default' 'Default' 'Default' 'Default' 'Default' 'Default'\n 'Default' 'Default' 'Default' 'Default' 'Default' 'Default' 'Default'\n 'Default' 'Default' 'Default' 'Default' 'Default' 'Default' 'Default'\n 'Default' 'Default' 'Default' 'Default' 'Default' 'Default' 'Default'\n 'Default' 'Default' 'Default' 'Default' 'Default' 'Default' 'Default'\n 'Default' 'Default' 'Default' 'Default' 'Default' 'Default' 'Default'\n 'Default' 'Default' 'Default' 'Default' 'Default' 'Default' 'Default'\n 'Default' 'Default' 'Default' 'Default' 'Default' 'Default' 'Default'\n 'Default' 'Default' 'Default' 'Default' 'Default' 'Default' 'Default'\n 'Default' 'Default' 'Default' 'Default' 'Default' 'Default' 'Default'\n 'Default' 'Default' 'Default' 'Default' 'Default' 'Default' 'Default'\n 'Default' 'Default' 'Default' 'Default' 'Default' 'Default' 'Default'\n 'Default' 'Default' 'Default' 'Default' 'Default' 'Default' 'Default'\n 'Default' 'Default' 'Default' 'Default' 'Default' 'Default' 'Default'\n 'Default' 'Default' 'Default' 'Default' 'Default' 'Default' 'Default'\n 'Default' 'Default' 'Default' 'Default' 'Default' 'Default' 'Default'\n 'Default' 'Default' 'Default' 'Default' 'Default' 'Default' 'Default'\n 'Default' 'Default' 'Default' 'Default' 'Default' 'Default' 'Default'\n 'Default' 'Default' 'Default' 'Default' 'Default' 'Default' 'Default'\n 'Default' 'Default' 'Default' 'Default' 'Default' 'Default' 'Default'\n 'Default' 'Default' 'Default' 'Default' 'Default' 'Default' 'Default'\n 'Default' 'Default' 'Default' 'Default' 'Default' 'Default' 'Default'\n 'Default' 'Default' 'Default' 'Default' 'Default' 'Default' 'Default'\n 'Default' 'Default' 'Default' 'Default' 'Default' 'Default' 'Default'\n 'Default' 'Default' 'Default' 'Default' 'Default' 'Default' 'Default'\n 'Default' 'Default' 'Default' 'Default' 'Default' 'Default' 'Default'\n 'Default' 'Default' 'Default' 'Default' 'Default' 'Default' 'Default'\n 'Default' 'Default' 'Default' 'Default' 'Default' 'Default' 'Default'\n 'Default' 'Default' 'Default' 'Default' 'Default' 'Default' 'Default'\n 'Default' 'Default' 'Default' 'Default' 'Default' 'Default' 'Default'\n 'Default' 'Default' 'Default' 'Default' 'Default' 'Default' 'Default'\n 'Default' 'Default' 'Default' 'Default' 'Default' 'Default' 'Default'\n 'Default' 'Default' 'Default' 'Default' 'Default' 'Default' 'Default'\n 'Default' 'Default' 'Default' 'Default' 'Default' 'Default' 'Default'\n 'Default' 'Default' 'Default' 'Default' 'Default' 'Default' 'Default'\n 'Default' 'Default' 'Default' 'Default' 'Default' 'Default' 'Default'\n 'Default' 'Default' 'Default' 'Default' 'Default' 'Default' 'Default'\n 'Default' 'Default' 'Default' 'Default' 'Default' 'Default' 'Default'\n 'Default' 'Default' 'Default' 'Default' 'Default' 'Default' 'Default'\n 'Default' 'Default' 'Default' 'Default' 'Default' 'Default' 'Default'\n 'Default' 'Default' 'Default' 'Default' 'Default' 'Default' 'Default'\n 'Default' 'Default' 'Default' 'Default' 'Default' 'Default'].\nReshape your data either using array.reshape(-1, 1) if your data has a single feature or array.reshape(1, -1) if it contains a single sample.",
     "output_type": "error",
     "traceback": [
      "\u001b[1;31m---------------------------------------------------------------------------\u001b[0m",
      "\u001b[1;31mValueError\u001b[0m                                Traceback (most recent call last)",
      "\u001b[1;32m~\\AppData\\Local\\Temp\\ipykernel_2680\\2534845386.py\u001b[0m in \u001b[0;36m<cell line: 1>\u001b[1;34m()\u001b[0m\n\u001b[1;32m----> 1\u001b[1;33m \u001b[0mdefault\u001b[0m\u001b[1;33m.\u001b[0m\u001b[0mdefault\u001b[0m \u001b[1;33m=\u001b[0m \u001b[0mencoder\u001b[0m\u001b[1;33m.\u001b[0m\u001b[0mfit_transform\u001b[0m\u001b[1;33m(\u001b[0m\u001b[0mdefault\u001b[0m\u001b[1;33m.\u001b[0m\u001b[0mdefault\u001b[0m\u001b[1;33m)\u001b[0m\u001b[1;33m\u001b[0m\u001b[1;33m\u001b[0m\u001b[0m\n\u001b[0m",
      "\u001b[1;32mc:\\Users\\arist\\anaconda3\\lib\\site-packages\\sklearn\\preprocessing\\_encoders.py\u001b[0m in \u001b[0;36mfit_transform\u001b[1;34m(self, X, y)\u001b[0m\n\u001b[0;32m    486\u001b[0m         \"\"\"\n\u001b[0;32m    487\u001b[0m         \u001b[0mself\u001b[0m\u001b[1;33m.\u001b[0m\u001b[0m_validate_keywords\u001b[0m\u001b[1;33m(\u001b[0m\u001b[1;33m)\u001b[0m\u001b[1;33m\u001b[0m\u001b[1;33m\u001b[0m\u001b[0m\n\u001b[1;32m--> 488\u001b[1;33m         \u001b[1;32mreturn\u001b[0m \u001b[0msuper\u001b[0m\u001b[1;33m(\u001b[0m\u001b[1;33m)\u001b[0m\u001b[1;33m.\u001b[0m\u001b[0mfit_transform\u001b[0m\u001b[1;33m(\u001b[0m\u001b[0mX\u001b[0m\u001b[1;33m,\u001b[0m \u001b[0my\u001b[0m\u001b[1;33m)\u001b[0m\u001b[1;33m\u001b[0m\u001b[1;33m\u001b[0m\u001b[0m\n\u001b[0m\u001b[0;32m    489\u001b[0m \u001b[1;33m\u001b[0m\u001b[0m\n\u001b[0;32m    490\u001b[0m     \u001b[1;32mdef\u001b[0m \u001b[0mtransform\u001b[0m\u001b[1;33m(\u001b[0m\u001b[0mself\u001b[0m\u001b[1;33m,\u001b[0m \u001b[0mX\u001b[0m\u001b[1;33m)\u001b[0m\u001b[1;33m:\u001b[0m\u001b[1;33m\u001b[0m\u001b[1;33m\u001b[0m\u001b[0m\n",
      "\u001b[1;32mc:\\Users\\arist\\anaconda3\\lib\\site-packages\\sklearn\\base.py\u001b[0m in \u001b[0;36mfit_transform\u001b[1;34m(self, X, y, **fit_params)\u001b[0m\n\u001b[0;32m    850\u001b[0m         \u001b[1;32mif\u001b[0m \u001b[0my\u001b[0m \u001b[1;32mis\u001b[0m \u001b[1;32mNone\u001b[0m\u001b[1;33m:\u001b[0m\u001b[1;33m\u001b[0m\u001b[1;33m\u001b[0m\u001b[0m\n\u001b[0;32m    851\u001b[0m             \u001b[1;31m# fit method of arity 1 (unsupervised transformation)\u001b[0m\u001b[1;33m\u001b[0m\u001b[1;33m\u001b[0m\u001b[0m\n\u001b[1;32m--> 852\u001b[1;33m             \u001b[1;32mreturn\u001b[0m \u001b[0mself\u001b[0m\u001b[1;33m.\u001b[0m\u001b[0mfit\u001b[0m\u001b[1;33m(\u001b[0m\u001b[0mX\u001b[0m\u001b[1;33m,\u001b[0m \u001b[1;33m**\u001b[0m\u001b[0mfit_params\u001b[0m\u001b[1;33m)\u001b[0m\u001b[1;33m.\u001b[0m\u001b[0mtransform\u001b[0m\u001b[1;33m(\u001b[0m\u001b[0mX\u001b[0m\u001b[1;33m)\u001b[0m\u001b[1;33m\u001b[0m\u001b[1;33m\u001b[0m\u001b[0m\n\u001b[0m\u001b[0;32m    853\u001b[0m         \u001b[1;32melse\u001b[0m\u001b[1;33m:\u001b[0m\u001b[1;33m\u001b[0m\u001b[1;33m\u001b[0m\u001b[0m\n\u001b[0;32m    854\u001b[0m             \u001b[1;31m# fit method of arity 2 (supervised transformation)\u001b[0m\u001b[1;33m\u001b[0m\u001b[1;33m\u001b[0m\u001b[0m\n",
      "\u001b[1;32mc:\\Users\\arist\\anaconda3\\lib\\site-packages\\sklearn\\preprocessing\\_encoders.py\u001b[0m in \u001b[0;36mfit\u001b[1;34m(self, X, y)\u001b[0m\n\u001b[0;32m    459\u001b[0m         \"\"\"\n\u001b[0;32m    460\u001b[0m         \u001b[0mself\u001b[0m\u001b[1;33m.\u001b[0m\u001b[0m_validate_keywords\u001b[0m\u001b[1;33m(\u001b[0m\u001b[1;33m)\u001b[0m\u001b[1;33m\u001b[0m\u001b[1;33m\u001b[0m\u001b[0m\n\u001b[1;32m--> 461\u001b[1;33m         \u001b[0mself\u001b[0m\u001b[1;33m.\u001b[0m\u001b[0m_fit\u001b[0m\u001b[1;33m(\u001b[0m\u001b[0mX\u001b[0m\u001b[1;33m,\u001b[0m \u001b[0mhandle_unknown\u001b[0m\u001b[1;33m=\u001b[0m\u001b[0mself\u001b[0m\u001b[1;33m.\u001b[0m\u001b[0mhandle_unknown\u001b[0m\u001b[1;33m,\u001b[0m \u001b[0mforce_all_finite\u001b[0m\u001b[1;33m=\u001b[0m\u001b[1;34m\"allow-nan\"\u001b[0m\u001b[1;33m)\u001b[0m\u001b[1;33m\u001b[0m\u001b[1;33m\u001b[0m\u001b[0m\n\u001b[0m\u001b[0;32m    462\u001b[0m         \u001b[0mself\u001b[0m\u001b[1;33m.\u001b[0m\u001b[0mdrop_idx_\u001b[0m \u001b[1;33m=\u001b[0m \u001b[0mself\u001b[0m\u001b[1;33m.\u001b[0m\u001b[0m_compute_drop_idx\u001b[0m\u001b[1;33m(\u001b[0m\u001b[1;33m)\u001b[0m\u001b[1;33m\u001b[0m\u001b[1;33m\u001b[0m\u001b[0m\n\u001b[0;32m    463\u001b[0m         \u001b[1;32mreturn\u001b[0m \u001b[0mself\u001b[0m\u001b[1;33m\u001b[0m\u001b[1;33m\u001b[0m\u001b[0m\n",
      "\u001b[1;32mc:\\Users\\arist\\anaconda3\\lib\\site-packages\\sklearn\\preprocessing\\_encoders.py\u001b[0m in \u001b[0;36m_fit\u001b[1;34m(self, X, handle_unknown, force_all_finite)\u001b[0m\n\u001b[0;32m     75\u001b[0m         \u001b[0mself\u001b[0m\u001b[1;33m.\u001b[0m\u001b[0m_check_n_features\u001b[0m\u001b[1;33m(\u001b[0m\u001b[0mX\u001b[0m\u001b[1;33m,\u001b[0m \u001b[0mreset\u001b[0m\u001b[1;33m=\u001b[0m\u001b[1;32mTrue\u001b[0m\u001b[1;33m)\u001b[0m\u001b[1;33m\u001b[0m\u001b[1;33m\u001b[0m\u001b[0m\n\u001b[0;32m     76\u001b[0m         \u001b[0mself\u001b[0m\u001b[1;33m.\u001b[0m\u001b[0m_check_feature_names\u001b[0m\u001b[1;33m(\u001b[0m\u001b[0mX\u001b[0m\u001b[1;33m,\u001b[0m \u001b[0mreset\u001b[0m\u001b[1;33m=\u001b[0m\u001b[1;32mTrue\u001b[0m\u001b[1;33m)\u001b[0m\u001b[1;33m\u001b[0m\u001b[1;33m\u001b[0m\u001b[0m\n\u001b[1;32m---> 77\u001b[1;33m         X_list, n_samples, n_features = self._check_X(\n\u001b[0m\u001b[0;32m     78\u001b[0m             \u001b[0mX\u001b[0m\u001b[1;33m,\u001b[0m \u001b[0mforce_all_finite\u001b[0m\u001b[1;33m=\u001b[0m\u001b[0mforce_all_finite\u001b[0m\u001b[1;33m\u001b[0m\u001b[1;33m\u001b[0m\u001b[0m\n\u001b[0;32m     79\u001b[0m         )\n",
      "\u001b[1;32mc:\\Users\\arist\\anaconda3\\lib\\site-packages\\sklearn\\preprocessing\\_encoders.py\u001b[0m in \u001b[0;36m_check_X\u001b[1;34m(self, X, force_all_finite)\u001b[0m\n\u001b[0;32m     42\u001b[0m         \u001b[1;32mif\u001b[0m \u001b[1;32mnot\u001b[0m \u001b[1;33m(\u001b[0m\u001b[0mhasattr\u001b[0m\u001b[1;33m(\u001b[0m\u001b[0mX\u001b[0m\u001b[1;33m,\u001b[0m \u001b[1;34m\"iloc\"\u001b[0m\u001b[1;33m)\u001b[0m \u001b[1;32mand\u001b[0m \u001b[0mgetattr\u001b[0m\u001b[1;33m(\u001b[0m\u001b[0mX\u001b[0m\u001b[1;33m,\u001b[0m \u001b[1;34m\"ndim\"\u001b[0m\u001b[1;33m,\u001b[0m \u001b[1;36m0\u001b[0m\u001b[1;33m)\u001b[0m \u001b[1;33m==\u001b[0m \u001b[1;36m2\u001b[0m\u001b[1;33m)\u001b[0m\u001b[1;33m:\u001b[0m\u001b[1;33m\u001b[0m\u001b[1;33m\u001b[0m\u001b[0m\n\u001b[0;32m     43\u001b[0m             \u001b[1;31m# if not a dataframe, do normal check_array validation\u001b[0m\u001b[1;33m\u001b[0m\u001b[1;33m\u001b[0m\u001b[0m\n\u001b[1;32m---> 44\u001b[1;33m             \u001b[0mX_temp\u001b[0m \u001b[1;33m=\u001b[0m \u001b[0mcheck_array\u001b[0m\u001b[1;33m(\u001b[0m\u001b[0mX\u001b[0m\u001b[1;33m,\u001b[0m \u001b[0mdtype\u001b[0m\u001b[1;33m=\u001b[0m\u001b[1;32mNone\u001b[0m\u001b[1;33m,\u001b[0m \u001b[0mforce_all_finite\u001b[0m\u001b[1;33m=\u001b[0m\u001b[0mforce_all_finite\u001b[0m\u001b[1;33m)\u001b[0m\u001b[1;33m\u001b[0m\u001b[1;33m\u001b[0m\u001b[0m\n\u001b[0m\u001b[0;32m     45\u001b[0m             \u001b[1;32mif\u001b[0m \u001b[1;32mnot\u001b[0m \u001b[0mhasattr\u001b[0m\u001b[1;33m(\u001b[0m\u001b[0mX\u001b[0m\u001b[1;33m,\u001b[0m \u001b[1;34m\"dtype\"\u001b[0m\u001b[1;33m)\u001b[0m \u001b[1;32mand\u001b[0m \u001b[0mnp\u001b[0m\u001b[1;33m.\u001b[0m\u001b[0missubdtype\u001b[0m\u001b[1;33m(\u001b[0m\u001b[0mX_temp\u001b[0m\u001b[1;33m.\u001b[0m\u001b[0mdtype\u001b[0m\u001b[1;33m,\u001b[0m \u001b[0mnp\u001b[0m\u001b[1;33m.\u001b[0m\u001b[0mstr_\u001b[0m\u001b[1;33m)\u001b[0m\u001b[1;33m:\u001b[0m\u001b[1;33m\u001b[0m\u001b[1;33m\u001b[0m\u001b[0m\n\u001b[0;32m     46\u001b[0m                 \u001b[0mX\u001b[0m \u001b[1;33m=\u001b[0m \u001b[0mcheck_array\u001b[0m\u001b[1;33m(\u001b[0m\u001b[0mX\u001b[0m\u001b[1;33m,\u001b[0m \u001b[0mdtype\u001b[0m\u001b[1;33m=\u001b[0m\u001b[0mobject\u001b[0m\u001b[1;33m,\u001b[0m \u001b[0mforce_all_finite\u001b[0m\u001b[1;33m=\u001b[0m\u001b[0mforce_all_finite\u001b[0m\u001b[1;33m)\u001b[0m\u001b[1;33m\u001b[0m\u001b[1;33m\u001b[0m\u001b[0m\n",
      "\u001b[1;32mc:\\Users\\arist\\anaconda3\\lib\\site-packages\\sklearn\\utils\\validation.py\u001b[0m in \u001b[0;36mcheck_array\u001b[1;34m(array, accept_sparse, accept_large_sparse, dtype, order, copy, force_all_finite, ensure_2d, allow_nd, ensure_min_samples, ensure_min_features, estimator)\u001b[0m\n\u001b[0;32m    767\u001b[0m             \u001b[1;31m# If input is 1D raise error\u001b[0m\u001b[1;33m\u001b[0m\u001b[1;33m\u001b[0m\u001b[0m\n\u001b[0;32m    768\u001b[0m             \u001b[1;32mif\u001b[0m \u001b[0marray\u001b[0m\u001b[1;33m.\u001b[0m\u001b[0mndim\u001b[0m \u001b[1;33m==\u001b[0m \u001b[1;36m1\u001b[0m\u001b[1;33m:\u001b[0m\u001b[1;33m\u001b[0m\u001b[1;33m\u001b[0m\u001b[0m\n\u001b[1;32m--> 769\u001b[1;33m                 raise ValueError(\n\u001b[0m\u001b[0;32m    770\u001b[0m                     \u001b[1;34m\"Expected 2D array, got 1D array instead:\\narray={}.\\n\"\u001b[0m\u001b[1;33m\u001b[0m\u001b[1;33m\u001b[0m\u001b[0m\n\u001b[0;32m    771\u001b[0m                     \u001b[1;34m\"Reshape your data either using array.reshape(-1, 1) if \"\u001b[0m\u001b[1;33m\u001b[0m\u001b[1;33m\u001b[0m\u001b[0m\n",
      "\u001b[1;31mValueError\u001b[0m: Expected 2D array, got 1D array instead:\narray=['Default' 'Default' 'Default' 'Default' 'Default' 'Default' 'Default'\n 'Default' 'Default' 'Default' 'Default' 'Default' 'Default' 'Default'\n 'Default' 'Default' 'Default' 'Default' 'Default' 'Default' 'Default'\n 'Default' 'Default' 'Default' 'Default' 'Default' 'Default' 'Default'\n 'Default' 'Default' 'Default' 'Default' 'Default' 'Default' 'Default'\n 'Default' 'Default' 'Default' 'Default' 'Default' 'Default' 'Default'\n 'Default' 'Default' 'Default' 'Default' 'Default' 'Default' 'Default'\n 'Default' 'Default' 'Default' 'Default' 'Default' 'Default' 'Default'\n 'Default' 'Default' 'Default' 'Default' 'Default' 'Default' 'Default'\n 'Default' 'Default' 'Default' 'Default' 'Default' 'Default' 'Default'\n 'Default' 'Default' 'Default' 'Default' 'Default' 'Default' 'Default'\n 'Default' 'Default' 'Default' 'Default' 'Default' 'Default' 'Default'\n 'Default' 'Default' 'Default' 'Default' 'Default' 'Default' 'Default'\n 'Default' 'Default' 'Default' 'Default' 'Default' 'Default' 'Default'\n 'Default' 'Default' 'Default' 'Default' 'Default' 'Default' 'Default'\n 'Default' 'Default' 'Default' 'Default' 'Default' 'Default' 'Default'\n 'Default' 'Default' 'Default' 'Default' 'Default' 'Default' 'Default'\n 'Default' 'Default' 'Default' 'Default' 'Default' 'Default' 'Default'\n 'Default' 'Default' 'Default' 'Default' 'Default' 'Default' 'Default'\n 'Default' 'Default' 'Default' 'Default' 'Default' 'Default' 'Default'\n 'Default' 'Default' 'Default' 'Default' 'Default' 'Default' 'Default'\n 'Default' 'Default' 'Default' 'Default' 'Default' 'Default' 'Default'\n 'Default' 'Default' 'Default' 'Default' 'Default' 'Default' 'Default'\n 'Default' 'Default' 'Default' 'Default' 'Default' 'Default' 'Default'\n 'Default' 'Default' 'Default' 'Default' 'Default' 'Default' 'Default'\n 'Default' 'Default' 'Default' 'Default' 'Default' 'Default' 'Default'\n 'Default' 'Default' 'Default' 'Default' 'Default' 'Default' 'Default'\n 'Default' 'Default' 'Default' 'Default' 'Default' 'Default' 'Default'\n 'Default' 'Default' 'Default' 'Default' 'Default' 'Default' 'Default'\n 'Default' 'Default' 'Default' 'Default' 'Default' 'Default' 'Default'\n 'Default' 'Default' 'Default' 'Default' 'Default' 'Default' 'Default'\n 'Default' 'Default' 'Default' 'Default' 'Default' 'Default' 'Default'\n 'Default' 'Default' 'Default' 'Default' 'Default' 'Default' 'Default'\n 'Default' 'Default' 'Default' 'Default' 'Default' 'Default' 'Default'\n 'Default' 'Default' 'Default' 'Default' 'Default' 'Default' 'Default'\n 'Default' 'Default' 'Default' 'Default' 'Default' 'Default' 'Default'\n 'Default' 'Default' 'Default' 'Default' 'Default' 'Default' 'Default'\n 'Default' 'Default' 'Default' 'Default' 'Default' 'Default' 'Default'\n 'Default' 'Default' 'Default' 'Default' 'Default' 'Default' 'Default'\n 'Default' 'Default' 'Default' 'Default' 'Default' 'Default' 'Default'\n 'Default' 'Default' 'Default' 'Default' 'Default' 'Default' 'Default'\n 'Default' 'Default' 'Default' 'Default' 'Default' 'Default' 'Default'\n 'Default' 'Default' 'Default' 'Default' 'Default' 'Default'].\nReshape your data either using array.reshape(-1, 1) if your data has a single feature or array.reshape(1, -1) if it contains a single sample."
     ]
    }
   ],
   "source": [
    "default.default = encoder.fit_transform(default.default)"
   ]
  }
 ],
 "metadata": {
  "colab": {
   "collapsed_sections": [],
   "name": "German_credit_scoring_giskard (2).ipynb",
   "provenance": []
  },
  "deepnote": {
   "is_reactive": false
  },
  "deepnote_app_layout": "article",
  "deepnote_execution_queue": [],
  "deepnote_notebook_id": "6e7ea85d-f19e-4d05-90a4-44b7668fd037",
  "kernelspec": {
   "display_name": "base",
   "language": "python",
   "name": "python3"
  },
  "language_info": {
   "codemirror_mode": {
    "name": "ipython",
    "version": 3
   },
   "file_extension": ".py",
   "mimetype": "text/x-python",
   "name": "python",
   "nbconvert_exporter": "python",
   "pygments_lexer": "ipython3",
   "version": "3.9.7"
  },
  "vscode": {
   "interpreter": {
    "hash": "82a34f33ea33754e75ab9571a4b3238b39d6e3d49fe9b7c3e8d16c4ad86d1c12"
   }
  }
 },
 "nbformat": 4,
 "nbformat_minor": 1
}
